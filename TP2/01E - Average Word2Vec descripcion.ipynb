{
 "cells": [
  {
   "cell_type": "code",
   "execution_count": 1,
   "metadata": {},
   "outputs": [],
   "source": [
    "import pandas as pd\n",
    "import numpy as np\n",
    "import seaborn as sns\n",
    "import matplotlib\n",
    "import matplotlib.pyplot as plt\n",
    "\n",
    "%matplotlib inline\n",
    "pd.set_option('display.max_columns', 50)"
   ]
  },
  {
   "cell_type": "code",
   "execution_count": 2,
   "metadata": {},
   "outputs": [],
   "source": [
    "df = pd.read_csv('../data/train.csv',dtype={'tipodepropiedad':'category','ciudad':'category','provincia':'category'})\n",
    "df['fecha'] = pd.to_datetime(df['fecha'])\n",
    "df['anio'] = df['fecha'].dt.year\n",
    "df[\"mes\"] = df['fecha'].dt.month\n",
    "df[\"dia\"] = df['fecha'].dt.day\n",
    "\n",
    "df = df.drop(columns=[\"lat\",\"lng\"])"
   ]
  },
  {
   "cell_type": "code",
   "execution_count": 3,
   "metadata": {},
   "outputs": [
    {
     "data": {
      "text/plain": [
       "descripcion    1619\n",
       "titulo         5387\n",
       "dtype: int64"
      ]
     },
     "execution_count": 3,
     "metadata": {},
     "output_type": "execute_result"
    }
   ],
   "source": [
    "df[[\"descripcion\", \"titulo\"]].isna().sum()"
   ]
  },
  {
   "cell_type": "code",
   "execution_count": 4,
   "metadata": {},
   "outputs": [],
   "source": [
    "df[\"descripcion\"] = df[\"descripcion\"].fillna(\"\")\n",
    "df[\"titulo\"] = df[\"titulo\"].fillna(\"\")"
   ]
  },
  {
   "cell_type": "code",
   "execution_count": 5,
   "metadata": {},
   "outputs": [],
   "source": [
    "import re\n",
    "import string\n",
    "def clean_text_round1(text):\n",
    "    '''Make text lowercase, remove text in square brackets, remove punctuation and remove words containing numbers.'''\n",
    "    text = text.lower()\n",
    "    text = re.sub('<[^>]*>', '', text)\n",
    "    text = re.sub('\\[.*?¿\\]\\%;', '', text)\n",
    "    text = re.sub('&', '', text)\n",
    "    text = re.sub(';', '', text)\n",
    "    #text = re.sub('[%s]' % re.escape(string.punctuation), ' ', text)\n",
    "    text = re.sub('ñ', 'n', text)\n",
    "    #text = re.sub('\\w*\\d\\w*', ' ', text)\n",
    "    return text\n",
    " \n",
    "# Apply a second round of cleaning\n",
    "def clean_text_round2(text):\n",
    "    '''Get rid of some additional punctuation and non-sensical text that was missed the first time around.'''\n",
    "    text = re.sub('[‘’“”…«»]', ' ', text)\n",
    "    text = re.sub('\\n', ' ', text)\n",
    "    text = re.sub('\\x95', ' ', text)\n",
    "    text = re.sub('nbsp', '', text)\n",
    "    return text\n",
    "\n",
    "def sacar_acute(text):\n",
    "    text = re.sub('acute', '', text)\n",
    "    text = re.sub('tilde', '', text)\n",
    "    text = re.sub('á', 'a', text)\n",
    "    text = re.sub('é', 'e', text)\n",
    "    text = re.sub('í', 'i', text)\n",
    "    text = re.sub('ó', 'o', text)\n",
    "    text = re.sub('ú', 'u', text)\n",
    "    return text\n",
    "\n",
    "def limpiar_texto(text):\n",
    "    return sacar_acute(clean_text_round2(clean_text_round1(text)))"
   ]
  },
  {
   "cell_type": "code",
   "execution_count": 6,
   "metadata": {},
   "outputs": [],
   "source": [
    "df[\"descripcion\"] = df[\"descripcion\"].apply(limpiar_texto)"
   ]
  },
  {
   "cell_type": "code",
   "execution_count": 7,
   "metadata": {},
   "outputs": [
    {
     "data": {
      "text/plain": [
       "'estrene departamento 117 m2 (141 m2 totales), exterior, en 3er piso, con elevador, balcon (8 m2) con vista a la calle, estancia sala-comedor, cocina integral abierta con barra de granito, cuarto de lavado integrado, recamara principal con balcon, walk in closet y bano, 2 recamaras junior con closet (una con balcon interior) , bano completo, 2 cajones de estacionamiento (24 m2) independientes y techados. condominio de 14 deptos, elevador, caseta de vigilancia y roof garden comun con asador, tarja y medio bano. ver video en youtube buscando: estrene departamento 117 m2 en col. del valle. http://youtu.be/miugyaihx9u  y .  aceptamos creditos bancarios e infonavit.'"
      ]
     },
     "execution_count": 7,
     "metadata": {},
     "output_type": "execute_result"
    }
   ],
   "source": [
    "df[\"descripcion\"].loc[218827]"
   ]
  },
  {
   "cell_type": "markdown",
   "metadata": {},
   "source": [
    "# Preprocess"
   ]
  },
  {
   "cell_type": "code",
   "execution_count": 8,
   "metadata": {},
   "outputs": [],
   "source": [
    "import sys\n",
    "from nltk import word_tokenize\n",
    "from nltk import download\n",
    "from nltk.corpus import stopwords"
   ]
  },
  {
   "cell_type": "code",
   "execution_count": 9,
   "metadata": {},
   "outputs": [
    {
     "name": "stderr",
     "output_type": "stream",
     "text": [
      "[nltk_data] Downloading package punkt to /home/peter/nltk_data...\n",
      "[nltk_data]   Package punkt is already up-to-date!\n",
      "[nltk_data] Downloading package stopwords to /home/peter/nltk_data...\n",
      "[nltk_data]   Unzipping corpora/stopwords.zip.\n"
     ]
    }
   ],
   "source": [
    "download('punkt') #tokenizer, run once\n",
    "download('stopwords') #stopwords dictionary, run once\n",
    "stop_words = stopwords.words('spanish')"
   ]
  },
  {
   "cell_type": "code",
   "execution_count": 10,
   "metadata": {},
   "outputs": [
    {
     "data": {
      "text/plain": [
       "['de', 'la', 'que', 'el', 'en', 'y', 'a', 'los', 'del', 'se']"
      ]
     },
     "metadata": {},
     "output_type": "display_data"
    },
    {
     "name": "stdout",
     "output_type": "stream",
     "text": [
      "Hay 313 stop words\n"
     ]
    }
   ],
   "source": [
    "display(stop_words[:10])\n",
    "print(f'Hay {len(stop_words)} stop words')"
   ]
  },
  {
   "cell_type": "code",
   "execution_count": 11,
   "metadata": {},
   "outputs": [],
   "source": [
    "def preprocess(text):\n",
    "    text = text.lower()\n",
    "    doc = word_tokenize(text)\n",
    "    doc = [word for word in doc if word not in stop_words]\n",
    "    doc = [word for word in doc if word.isalpha()] #restricts string to alphabetic characters only\n",
    "    return doc"
   ]
  },
  {
   "cell_type": "code",
   "execution_count": 12,
   "metadata": {},
   "outputs": [],
   "source": [
    "texts = df[\"descripcion\"]\n",
    "\n",
    "corpus = [preprocess(text) for text in texts]"
   ]
  },
  {
   "cell_type": "markdown",
   "metadata": {},
   "source": [
    "# Word2Vec"
   ]
  },
  {
   "cell_type": "code",
   "execution_count": 13,
   "metadata": {},
   "outputs": [],
   "source": [
    "from gensim.models import Word2Vec"
   ]
  },
  {
   "cell_type": "code",
   "execution_count": 14,
   "metadata": {},
   "outputs": [
    {
     "name": "stdout",
     "output_type": "stream",
     "text": [
      "--- 98.12273931503296 seconds ---\n"
     ]
    }
   ],
   "source": [
    "import time\n",
    "\n",
    "start_time = time.time()\n",
    "model = Word2Vec(\n",
    "        corpus,\n",
    "        size=150,\n",
    "        window=10,\n",
    "        min_count=2,\n",
    "        workers=10,\n",
    "        iter=10)\n",
    "\n",
    "\n",
    "print(\"--- %s seconds ---\" % (time.time() - start_time))"
   ]
  },
  {
   "cell_type": "code",
   "execution_count": 15,
   "metadata": {},
   "outputs": [
    {
     "name": "stdout",
     "output_type": "stream",
     "text": [
      "--- 95.36427116394043 seconds ---\n"
     ]
    }
   ],
   "source": [
    "start_time = time.time()\n",
    "\n",
    "model.train(corpus, total_examples=len(corpus), epochs=10)\n",
    "\n",
    "print(\"--- %s seconds ---\" % (time.time() - start_time))"
   ]
  },
  {
   "cell_type": "code",
   "execution_count": 16,
   "metadata": {},
   "outputs": [
    {
     "data": {
      "text/plain": [
       "[('garaje', 0.9522410035133362),\n",
       " ('cochera', 0.7278991341590881),\n",
       " ('porch', 0.7048817873001099),\n",
       " ('estacionamiento', 0.7040362358093262),\n",
       " ('grage', 0.652358889579773),\n",
       " ('cohera', 0.5909550189971924),\n",
       " ('garge', 0.53059983253479),\n",
       " ('chochera', 0.5106399059295654),\n",
       " ('estacionamineto', 0.5084848999977112),\n",
       " ('estacionamientopara', 0.4927503764629364)]"
      ]
     },
     "execution_count": 16,
     "metadata": {},
     "output_type": "execute_result"
    }
   ],
   "source": [
    "model.wv.most_similar(positive=\"garage\")"
   ]
  },
  {
   "cell_type": "code",
   "execution_count": 17,
   "metadata": {},
   "outputs": [
    {
     "data": {
      "text/plain": [
       "[('departamento', 0.7702507376670837),\n",
       " ('depa', 0.7025709748268127),\n",
       " ('dpto', 0.6111317873001099),\n",
       " ('ph', 0.6067948341369629),\n",
       " ('deptos', 0.603897750377655),\n",
       " ('dep', 0.5814424157142639),\n",
       " ('habitables', 0.5566142201423645),\n",
       " ('noveno', 0.5261161923408508),\n",
       " ('quinto', 0.519364595413208),\n",
       " ('edif', 0.4994807541370392)]"
      ]
     },
     "execution_count": 17,
     "metadata": {},
     "output_type": "execute_result"
    }
   ],
   "source": [
    "model.wv.most_similar(positive=\"depto\")"
   ]
  },
  {
   "cell_type": "code",
   "execution_count": 18,
   "metadata": {},
   "outputs": [
    {
     "data": {
      "text/plain": [
       "[('mundet', 0.651491641998291),\n",
       " ('sonoma', 0.631123423576355),\n",
       " ('france', 0.615787148475647),\n",
       " ('hipico', 0.6134679317474365),\n",
       " ('libanes', 0.6051686406135559),\n",
       " ('raqueta', 0.5994173884391785),\n",
       " ('juniors', 0.5922484993934631),\n",
       " ('golf', 0.5856401920318604),\n",
       " ('delfos', 0.5819019079208374),\n",
       " ('chivas', 0.5801526308059692)]"
      ]
     },
     "execution_count": 18,
     "metadata": {},
     "output_type": "execute_result"
    }
   ],
   "source": [
    "model.wv.most_similar(positive=\"country\")"
   ]
  },
  {
   "cell_type": "code",
   "execution_count": 19,
   "metadata": {},
   "outputs": [
    {
     "data": {
      "text/plain": [
       "[('cerrado', 0.6817795634269714),\n",
       " ('salvaterra', 0.5889965891838074),\n",
       " ('exclusivo', 0.5420188903808594),\n",
       " ('errado', 0.5303549766540527),\n",
       " ('cerrdo', 0.503443717956543),\n",
       " ('bonterra', 0.4968777298927307),\n",
       " ('serrado', 0.486223042011261),\n",
       " ('cerradode', 0.4860995411872864),\n",
       " ('veh', 0.4821377098560333),\n",
       " ('cerrrado', 0.4788877069950104)]"
      ]
     },
     "execution_count": 19,
     "metadata": {},
     "output_type": "execute_result"
    }
   ],
   "source": [
    "model.wv.most_similar(positive=\"privado\")"
   ]
  },
  {
   "cell_type": "code",
   "execution_count": 20,
   "metadata": {},
   "outputs": [
    {
     "data": {
      "text/plain": [
       "[('casona', 0.5732358694076538),\n",
       " ('historica', 0.5605082511901855),\n",
       " ('poblado', 0.5450676679611206),\n",
       " ('callejon', 0.542628824710846),\n",
       " ('antigua', 0.5373273491859436),\n",
       " ('xico', 0.5216360092163086),\n",
       " ('atzompa', 0.5201309323310852),\n",
       " ('pintoresco', 0.5177381634712219),\n",
       " ('analco', 0.5157912373542786),\n",
       " ('magdalena', 0.5126667022705078)]"
      ]
     },
     "execution_count": 20,
     "metadata": {},
     "output_type": "execute_result"
    }
   ],
   "source": [
    "model.wv.most_similar(positive=\"barrio\")"
   ]
  },
  {
   "cell_type": "code",
   "execution_count": 21,
   "metadata": {},
   "outputs": [],
   "source": [
    "def document_vector(word2vec_model, doc):\n",
    "    # remove out-of-vocabulary words\n",
    "    doc = [word for word in doc if word in word2vec_model.vocab]\n",
    "    \n",
    "    if (len(doc) != 0):\n",
    "        return np.mean(word2vec_model[doc], axis=0)\n",
    "    \n",
    "    return np.zeros(word2vec_model.vector_size, dtype=np.float32)"
   ]
  },
  {
   "cell_type": "code",
   "execution_count": 22,
   "metadata": {},
   "outputs": [],
   "source": [
    "def fit(corpus, word2vec_model):\n",
    "    fitted_corpus = [document_vector(word2vec_model, doc) for doc in corpus]\n",
    "    \n",
    "    return fitted_corpus"
   ]
  },
  {
   "cell_type": "code",
   "execution_count": null,
   "metadata": {},
   "outputs": [],
   "source": []
  },
  {
   "cell_type": "code",
   "execution_count": 23,
   "metadata": {},
   "outputs": [],
   "source": [
    "fitted_corpus = fit(corpus, model.wv)"
   ]
  },
  {
   "cell_type": "code",
   "execution_count": 24,
   "metadata": {},
   "outputs": [],
   "source": [
    "pepe = pd.DataFrame(np.array(fitted_corpus))\n",
    "pepe.rename(columns={x:str(f\"descripcion-feature-{y}\") for x,y in zip(pepe.columns,range(0,len(pepe.columns)))}, inplace=True)"
   ]
  },
  {
   "cell_type": "code",
   "execution_count": 25,
   "metadata": {},
   "outputs": [],
   "source": [
    "merged = df.join(pepe)"
   ]
  },
  {
   "cell_type": "code",
   "execution_count": null,
   "metadata": {},
   "outputs": [],
   "source": []
  },
  {
   "cell_type": "code",
   "execution_count": 26,
   "metadata": {},
   "outputs": [],
   "source": [
    "merged.to_csv('../data/words.csv', index=False)"
   ]
  },
  {
   "cell_type": "code",
   "execution_count": null,
   "metadata": {},
   "outputs": [],
   "source": []
  },
  {
   "cell_type": "code",
   "execution_count": null,
   "metadata": {},
   "outputs": [],
   "source": []
  },
  {
   "cell_type": "code",
   "execution_count": 27,
   "metadata": {},
   "outputs": [],
   "source": [
    "pepe.to_csv('../data/word-features.csv', index=False)"
   ]
  },
  {
   "cell_type": "code",
   "execution_count": null,
   "metadata": {},
   "outputs": [],
   "source": []
  },
  {
   "cell_type": "code",
   "execution_count": null,
   "metadata": {},
   "outputs": [],
   "source": []
  },
  {
   "cell_type": "code",
   "execution_count": null,
   "metadata": {},
   "outputs": [],
   "source": []
  },
  {
   "cell_type": "markdown",
   "metadata": {},
   "source": [
    "# Reducción de dimensiones con TSNE"
   ]
  },
  {
   "cell_type": "code",
   "execution_count": 28,
   "metadata": {},
   "outputs": [],
   "source": [
    "from sklearn.decomposition import PCA\n",
    "\n",
    "pca = PCA(n_components=25, whiten = False, random_state = 42)\n",
    "pepe_pca = pca.fit_transform(pepe)"
   ]
  },
  {
   "cell_type": "code",
   "execution_count": 29,
   "metadata": {},
   "outputs": [
    {
     "data": {
      "text/plain": [
       "(240000, 25)"
      ]
     },
     "execution_count": 29,
     "metadata": {},
     "output_type": "execute_result"
    }
   ],
   "source": [
    "pepe_pca.shape"
   ]
  },
  {
   "cell_type": "code",
   "execution_count": 30,
   "metadata": {},
   "outputs": [
    {
     "data": {
      "text/html": [
       "<div>\n",
       "<style scoped>\n",
       "    .dataframe tbody tr th:only-of-type {\n",
       "        vertical-align: middle;\n",
       "    }\n",
       "\n",
       "    .dataframe tbody tr th {\n",
       "        vertical-align: top;\n",
       "    }\n",
       "\n",
       "    .dataframe thead th {\n",
       "        text-align: right;\n",
       "    }\n",
       "</style>\n",
       "<table border=\"1\" class=\"dataframe\">\n",
       "  <thead>\n",
       "    <tr style=\"text-align: right;\">\n",
       "      <th></th>\n",
       "      <th>descripcion-feature-0</th>\n",
       "      <th>descripcion-feature-1</th>\n",
       "      <th>descripcion-feature-2</th>\n",
       "      <th>descripcion-feature-3</th>\n",
       "      <th>descripcion-feature-4</th>\n",
       "      <th>descripcion-feature-5</th>\n",
       "      <th>descripcion-feature-6</th>\n",
       "      <th>descripcion-feature-7</th>\n",
       "      <th>descripcion-feature-8</th>\n",
       "      <th>descripcion-feature-9</th>\n",
       "      <th>descripcion-feature-10</th>\n",
       "      <th>descripcion-feature-11</th>\n",
       "      <th>descripcion-feature-12</th>\n",
       "      <th>descripcion-feature-13</th>\n",
       "      <th>descripcion-feature-14</th>\n",
       "      <th>descripcion-feature-15</th>\n",
       "      <th>descripcion-feature-16</th>\n",
       "      <th>descripcion-feature-17</th>\n",
       "      <th>descripcion-feature-18</th>\n",
       "      <th>descripcion-feature-19</th>\n",
       "      <th>descripcion-feature-20</th>\n",
       "      <th>descripcion-feature-21</th>\n",
       "      <th>descripcion-feature-22</th>\n",
       "      <th>descripcion-feature-23</th>\n",
       "      <th>descripcion-feature-24</th>\n",
       "    </tr>\n",
       "  </thead>\n",
       "  <tbody>\n",
       "    <tr>\n",
       "      <th>0</th>\n",
       "      <td>-11.673375</td>\n",
       "      <td>2.514868</td>\n",
       "      <td>0.596685</td>\n",
       "      <td>1.268745</td>\n",
       "      <td>-1.060728</td>\n",
       "      <td>-1.375381</td>\n",
       "      <td>-2.786111</td>\n",
       "      <td>-0.354453</td>\n",
       "      <td>-1.505592</td>\n",
       "      <td>1.165114</td>\n",
       "      <td>1.784490</td>\n",
       "      <td>-0.629234</td>\n",
       "      <td>-0.304889</td>\n",
       "      <td>0.012660</td>\n",
       "      <td>-0.729861</td>\n",
       "      <td>0.970246</td>\n",
       "      <td>-0.558811</td>\n",
       "      <td>-0.283312</td>\n",
       "      <td>0.174303</td>\n",
       "      <td>0.218451</td>\n",
       "      <td>0.436543</td>\n",
       "      <td>0.577925</td>\n",
       "      <td>-0.276663</td>\n",
       "      <td>-0.541203</td>\n",
       "      <td>0.346583</td>\n",
       "    </tr>\n",
       "    <tr>\n",
       "      <th>1</th>\n",
       "      <td>-3.760964</td>\n",
       "      <td>0.545303</td>\n",
       "      <td>1.066880</td>\n",
       "      <td>0.768181</td>\n",
       "      <td>-1.879376</td>\n",
       "      <td>3.310026</td>\n",
       "      <td>0.593549</td>\n",
       "      <td>0.766504</td>\n",
       "      <td>0.241499</td>\n",
       "      <td>-1.118730</td>\n",
       "      <td>-0.257748</td>\n",
       "      <td>-0.676669</td>\n",
       "      <td>-1.178097</td>\n",
       "      <td>-1.433828</td>\n",
       "      <td>-0.212080</td>\n",
       "      <td>-0.197150</td>\n",
       "      <td>-0.994404</td>\n",
       "      <td>0.705909</td>\n",
       "      <td>-1.192330</td>\n",
       "      <td>-0.210889</td>\n",
       "      <td>-0.747146</td>\n",
       "      <td>0.049909</td>\n",
       "      <td>-0.199831</td>\n",
       "      <td>-0.106250</td>\n",
       "      <td>0.115323</td>\n",
       "    </tr>\n",
       "    <tr>\n",
       "      <th>2</th>\n",
       "      <td>4.681644</td>\n",
       "      <td>-1.222615</td>\n",
       "      <td>1.091579</td>\n",
       "      <td>-1.686539</td>\n",
       "      <td>-0.633549</td>\n",
       "      <td>-0.096443</td>\n",
       "      <td>0.335661</td>\n",
       "      <td>-1.274177</td>\n",
       "      <td>-0.440656</td>\n",
       "      <td>1.086566</td>\n",
       "      <td>-0.710657</td>\n",
       "      <td>0.669215</td>\n",
       "      <td>-0.498445</td>\n",
       "      <td>0.409227</td>\n",
       "      <td>0.305229</td>\n",
       "      <td>-0.402773</td>\n",
       "      <td>-0.271333</td>\n",
       "      <td>-0.297129</td>\n",
       "      <td>-0.410064</td>\n",
       "      <td>-0.208316</td>\n",
       "      <td>0.035621</td>\n",
       "      <td>0.024372</td>\n",
       "      <td>0.420333</td>\n",
       "      <td>0.464439</td>\n",
       "      <td>-0.062783</td>\n",
       "    </tr>\n",
       "    <tr>\n",
       "      <th>3</th>\n",
       "      <td>7.605429</td>\n",
       "      <td>1.585403</td>\n",
       "      <td>0.247523</td>\n",
       "      <td>-1.417196</td>\n",
       "      <td>-0.849209</td>\n",
       "      <td>-1.078543</td>\n",
       "      <td>2.260079</td>\n",
       "      <td>-1.840012</td>\n",
       "      <td>-0.689938</td>\n",
       "      <td>1.191281</td>\n",
       "      <td>1.298142</td>\n",
       "      <td>2.601511</td>\n",
       "      <td>-0.178064</td>\n",
       "      <td>-0.721092</td>\n",
       "      <td>-0.386796</td>\n",
       "      <td>-1.130221</td>\n",
       "      <td>-0.370611</td>\n",
       "      <td>0.337399</td>\n",
       "      <td>0.354439</td>\n",
       "      <td>-0.631868</td>\n",
       "      <td>-0.195097</td>\n",
       "      <td>-0.224578</td>\n",
       "      <td>0.027137</td>\n",
       "      <td>0.165734</td>\n",
       "      <td>-0.125698</td>\n",
       "    </tr>\n",
       "    <tr>\n",
       "      <th>4</th>\n",
       "      <td>6.001575</td>\n",
       "      <td>-0.468368</td>\n",
       "      <td>0.257609</td>\n",
       "      <td>3.826220</td>\n",
       "      <td>-0.360680</td>\n",
       "      <td>3.829142</td>\n",
       "      <td>-1.336377</td>\n",
       "      <td>-1.855867</td>\n",
       "      <td>1.629979</td>\n",
       "      <td>0.792477</td>\n",
       "      <td>0.740615</td>\n",
       "      <td>0.268475</td>\n",
       "      <td>1.912819</td>\n",
       "      <td>2.681912</td>\n",
       "      <td>0.007932</td>\n",
       "      <td>1.257526</td>\n",
       "      <td>-0.971464</td>\n",
       "      <td>-1.138787</td>\n",
       "      <td>0.785725</td>\n",
       "      <td>0.705656</td>\n",
       "      <td>-0.199633</td>\n",
       "      <td>-0.014512</td>\n",
       "      <td>0.950608</td>\n",
       "      <td>0.181803</td>\n",
       "      <td>-1.086842</td>\n",
       "    </tr>\n",
       "    <tr>\n",
       "      <th>...</th>\n",
       "      <td>...</td>\n",
       "      <td>...</td>\n",
       "      <td>...</td>\n",
       "      <td>...</td>\n",
       "      <td>...</td>\n",
       "      <td>...</td>\n",
       "      <td>...</td>\n",
       "      <td>...</td>\n",
       "      <td>...</td>\n",
       "      <td>...</td>\n",
       "      <td>...</td>\n",
       "      <td>...</td>\n",
       "      <td>...</td>\n",
       "      <td>...</td>\n",
       "      <td>...</td>\n",
       "      <td>...</td>\n",
       "      <td>...</td>\n",
       "      <td>...</td>\n",
       "      <td>...</td>\n",
       "      <td>...</td>\n",
       "      <td>...</td>\n",
       "      <td>...</td>\n",
       "      <td>...</td>\n",
       "      <td>...</td>\n",
       "      <td>...</td>\n",
       "    </tr>\n",
       "    <tr>\n",
       "      <th>239995</th>\n",
       "      <td>5.498492</td>\n",
       "      <td>2.615131</td>\n",
       "      <td>0.147471</td>\n",
       "      <td>-1.208071</td>\n",
       "      <td>0.315118</td>\n",
       "      <td>0.045363</td>\n",
       "      <td>1.483148</td>\n",
       "      <td>-0.419483</td>\n",
       "      <td>-0.559118</td>\n",
       "      <td>0.369255</td>\n",
       "      <td>1.272302</td>\n",
       "      <td>1.472780</td>\n",
       "      <td>-0.156121</td>\n",
       "      <td>-0.519967</td>\n",
       "      <td>-0.032402</td>\n",
       "      <td>-0.476526</td>\n",
       "      <td>0.117020</td>\n",
       "      <td>-0.213807</td>\n",
       "      <td>-0.085642</td>\n",
       "      <td>-0.494136</td>\n",
       "      <td>-0.371822</td>\n",
       "      <td>-0.209369</td>\n",
       "      <td>0.504520</td>\n",
       "      <td>-0.375793</td>\n",
       "      <td>-0.307144</td>\n",
       "    </tr>\n",
       "    <tr>\n",
       "      <th>239996</th>\n",
       "      <td>0.470947</td>\n",
       "      <td>-0.218856</td>\n",
       "      <td>0.117870</td>\n",
       "      <td>-0.734796</td>\n",
       "      <td>-2.755664</td>\n",
       "      <td>-2.934243</td>\n",
       "      <td>-1.008219</td>\n",
       "      <td>-2.042357</td>\n",
       "      <td>1.140303</td>\n",
       "      <td>-0.435419</td>\n",
       "      <td>-0.091280</td>\n",
       "      <td>0.628354</td>\n",
       "      <td>-0.189932</td>\n",
       "      <td>-0.038500</td>\n",
       "      <td>0.290854</td>\n",
       "      <td>0.912352</td>\n",
       "      <td>-0.865432</td>\n",
       "      <td>-0.082796</td>\n",
       "      <td>0.659839</td>\n",
       "      <td>0.272841</td>\n",
       "      <td>0.000526</td>\n",
       "      <td>0.041256</td>\n",
       "      <td>-0.282689</td>\n",
       "      <td>0.831385</td>\n",
       "      <td>1.064461</td>\n",
       "    </tr>\n",
       "    <tr>\n",
       "      <th>239997</th>\n",
       "      <td>-3.780492</td>\n",
       "      <td>-0.531843</td>\n",
       "      <td>1.243909</td>\n",
       "      <td>4.192288</td>\n",
       "      <td>0.719304</td>\n",
       "      <td>-0.343034</td>\n",
       "      <td>1.431752</td>\n",
       "      <td>-0.269820</td>\n",
       "      <td>0.457102</td>\n",
       "      <td>-0.171428</td>\n",
       "      <td>0.188242</td>\n",
       "      <td>0.168959</td>\n",
       "      <td>0.228245</td>\n",
       "      <td>0.534087</td>\n",
       "      <td>0.210920</td>\n",
       "      <td>0.099381</td>\n",
       "      <td>0.218910</td>\n",
       "      <td>0.327907</td>\n",
       "      <td>-0.328235</td>\n",
       "      <td>0.338858</td>\n",
       "      <td>-0.530275</td>\n",
       "      <td>0.098773</td>\n",
       "      <td>0.287881</td>\n",
       "      <td>0.170613</td>\n",
       "      <td>0.277895</td>\n",
       "    </tr>\n",
       "    <tr>\n",
       "      <th>239998</th>\n",
       "      <td>-1.728627</td>\n",
       "      <td>-0.293374</td>\n",
       "      <td>-1.516743</td>\n",
       "      <td>1.335670</td>\n",
       "      <td>2.431537</td>\n",
       "      <td>1.404823</td>\n",
       "      <td>-1.636908</td>\n",
       "      <td>1.559298</td>\n",
       "      <td>0.156960</td>\n",
       "      <td>2.581804</td>\n",
       "      <td>-1.246778</td>\n",
       "      <td>0.022390</td>\n",
       "      <td>-0.015740</td>\n",
       "      <td>-2.060264</td>\n",
       "      <td>-1.192309</td>\n",
       "      <td>-0.828239</td>\n",
       "      <td>0.682819</td>\n",
       "      <td>0.173036</td>\n",
       "      <td>1.337896</td>\n",
       "      <td>0.597049</td>\n",
       "      <td>0.529717</td>\n",
       "      <td>0.260998</td>\n",
       "      <td>-0.353029</td>\n",
       "      <td>-0.269668</td>\n",
       "      <td>0.108847</td>\n",
       "    </tr>\n",
       "    <tr>\n",
       "      <th>239999</th>\n",
       "      <td>3.459680</td>\n",
       "      <td>-2.393091</td>\n",
       "      <td>3.089013</td>\n",
       "      <td>1.820125</td>\n",
       "      <td>0.829327</td>\n",
       "      <td>-0.281500</td>\n",
       "      <td>-0.999897</td>\n",
       "      <td>0.166502</td>\n",
       "      <td>-1.211459</td>\n",
       "      <td>-0.886982</td>\n",
       "      <td>1.350559</td>\n",
       "      <td>-0.130626</td>\n",
       "      <td>1.661864</td>\n",
       "      <td>-0.221878</td>\n",
       "      <td>-0.617399</td>\n",
       "      <td>-0.438182</td>\n",
       "      <td>-0.625422</td>\n",
       "      <td>0.013734</td>\n",
       "      <td>-0.561407</td>\n",
       "      <td>0.098839</td>\n",
       "      <td>0.420483</td>\n",
       "      <td>-0.368578</td>\n",
       "      <td>0.779731</td>\n",
       "      <td>0.152878</td>\n",
       "      <td>-0.170693</td>\n",
       "    </tr>\n",
       "  </tbody>\n",
       "</table>\n",
       "<p>240000 rows × 25 columns</p>\n",
       "</div>"
      ],
      "text/plain": [
       "        descripcion-feature-0  descripcion-feature-1  descripcion-feature-2  \\\n",
       "0                  -11.673375               2.514868               0.596685   \n",
       "1                   -3.760964               0.545303               1.066880   \n",
       "2                    4.681644              -1.222615               1.091579   \n",
       "3                    7.605429               1.585403               0.247523   \n",
       "4                    6.001575              -0.468368               0.257609   \n",
       "...                       ...                    ...                    ...   \n",
       "239995               5.498492               2.615131               0.147471   \n",
       "239996               0.470947              -0.218856               0.117870   \n",
       "239997              -3.780492              -0.531843               1.243909   \n",
       "239998              -1.728627              -0.293374              -1.516743   \n",
       "239999               3.459680              -2.393091               3.089013   \n",
       "\n",
       "        descripcion-feature-3  descripcion-feature-4  descripcion-feature-5  \\\n",
       "0                    1.268745              -1.060728              -1.375381   \n",
       "1                    0.768181              -1.879376               3.310026   \n",
       "2                   -1.686539              -0.633549              -0.096443   \n",
       "3                   -1.417196              -0.849209              -1.078543   \n",
       "4                    3.826220              -0.360680               3.829142   \n",
       "...                       ...                    ...                    ...   \n",
       "239995              -1.208071               0.315118               0.045363   \n",
       "239996              -0.734796              -2.755664              -2.934243   \n",
       "239997               4.192288               0.719304              -0.343034   \n",
       "239998               1.335670               2.431537               1.404823   \n",
       "239999               1.820125               0.829327              -0.281500   \n",
       "\n",
       "        descripcion-feature-6  descripcion-feature-7  descripcion-feature-8  \\\n",
       "0                   -2.786111              -0.354453              -1.505592   \n",
       "1                    0.593549               0.766504               0.241499   \n",
       "2                    0.335661              -1.274177              -0.440656   \n",
       "3                    2.260079              -1.840012              -0.689938   \n",
       "4                   -1.336377              -1.855867               1.629979   \n",
       "...                       ...                    ...                    ...   \n",
       "239995               1.483148              -0.419483              -0.559118   \n",
       "239996              -1.008219              -2.042357               1.140303   \n",
       "239997               1.431752              -0.269820               0.457102   \n",
       "239998              -1.636908               1.559298               0.156960   \n",
       "239999              -0.999897               0.166502              -1.211459   \n",
       "\n",
       "        descripcion-feature-9  descripcion-feature-10  descripcion-feature-11  \\\n",
       "0                    1.165114                1.784490               -0.629234   \n",
       "1                   -1.118730               -0.257748               -0.676669   \n",
       "2                    1.086566               -0.710657                0.669215   \n",
       "3                    1.191281                1.298142                2.601511   \n",
       "4                    0.792477                0.740615                0.268475   \n",
       "...                       ...                     ...                     ...   \n",
       "239995               0.369255                1.272302                1.472780   \n",
       "239996              -0.435419               -0.091280                0.628354   \n",
       "239997              -0.171428                0.188242                0.168959   \n",
       "239998               2.581804               -1.246778                0.022390   \n",
       "239999              -0.886982                1.350559               -0.130626   \n",
       "\n",
       "        descripcion-feature-12  descripcion-feature-13  \\\n",
       "0                    -0.304889                0.012660   \n",
       "1                    -1.178097               -1.433828   \n",
       "2                    -0.498445                0.409227   \n",
       "3                    -0.178064               -0.721092   \n",
       "4                     1.912819                2.681912   \n",
       "...                        ...                     ...   \n",
       "239995               -0.156121               -0.519967   \n",
       "239996               -0.189932               -0.038500   \n",
       "239997                0.228245                0.534087   \n",
       "239998               -0.015740               -2.060264   \n",
       "239999                1.661864               -0.221878   \n",
       "\n",
       "        descripcion-feature-14  descripcion-feature-15  \\\n",
       "0                    -0.729861                0.970246   \n",
       "1                    -0.212080               -0.197150   \n",
       "2                     0.305229               -0.402773   \n",
       "3                    -0.386796               -1.130221   \n",
       "4                     0.007932                1.257526   \n",
       "...                        ...                     ...   \n",
       "239995               -0.032402               -0.476526   \n",
       "239996                0.290854                0.912352   \n",
       "239997                0.210920                0.099381   \n",
       "239998               -1.192309               -0.828239   \n",
       "239999               -0.617399               -0.438182   \n",
       "\n",
       "        descripcion-feature-16  descripcion-feature-17  \\\n",
       "0                    -0.558811               -0.283312   \n",
       "1                    -0.994404                0.705909   \n",
       "2                    -0.271333               -0.297129   \n",
       "3                    -0.370611                0.337399   \n",
       "4                    -0.971464               -1.138787   \n",
       "...                        ...                     ...   \n",
       "239995                0.117020               -0.213807   \n",
       "239996               -0.865432               -0.082796   \n",
       "239997                0.218910                0.327907   \n",
       "239998                0.682819                0.173036   \n",
       "239999               -0.625422                0.013734   \n",
       "\n",
       "        descripcion-feature-18  descripcion-feature-19  \\\n",
       "0                     0.174303                0.218451   \n",
       "1                    -1.192330               -0.210889   \n",
       "2                    -0.410064               -0.208316   \n",
       "3                     0.354439               -0.631868   \n",
       "4                     0.785725                0.705656   \n",
       "...                        ...                     ...   \n",
       "239995               -0.085642               -0.494136   \n",
       "239996                0.659839                0.272841   \n",
       "239997               -0.328235                0.338858   \n",
       "239998                1.337896                0.597049   \n",
       "239999               -0.561407                0.098839   \n",
       "\n",
       "        descripcion-feature-20  descripcion-feature-21  \\\n",
       "0                     0.436543                0.577925   \n",
       "1                    -0.747146                0.049909   \n",
       "2                     0.035621                0.024372   \n",
       "3                    -0.195097               -0.224578   \n",
       "4                    -0.199633               -0.014512   \n",
       "...                        ...                     ...   \n",
       "239995               -0.371822               -0.209369   \n",
       "239996                0.000526                0.041256   \n",
       "239997               -0.530275                0.098773   \n",
       "239998                0.529717                0.260998   \n",
       "239999                0.420483               -0.368578   \n",
       "\n",
       "        descripcion-feature-22  descripcion-feature-23  descripcion-feature-24  \n",
       "0                    -0.276663               -0.541203                0.346583  \n",
       "1                    -0.199831               -0.106250                0.115323  \n",
       "2                     0.420333                0.464439               -0.062783  \n",
       "3                     0.027137                0.165734               -0.125698  \n",
       "4                     0.950608                0.181803               -1.086842  \n",
       "...                        ...                     ...                     ...  \n",
       "239995                0.504520               -0.375793               -0.307144  \n",
       "239996               -0.282689                0.831385                1.064461  \n",
       "239997                0.287881                0.170613                0.277895  \n",
       "239998               -0.353029               -0.269668                0.108847  \n",
       "239999                0.779731                0.152878               -0.170693  \n",
       "\n",
       "[240000 rows x 25 columns]"
      ]
     },
     "execution_count": 30,
     "metadata": {},
     "output_type": "execute_result"
    }
   ],
   "source": [
    "pepe_pca = pd.DataFrame(pepe_pca)\n",
    "pepe_pca.rename(columns={x:str(f\"descripcion-feature-{y}\") for x,y in zip(pepe_pca.columns,range(0,len(pepe_pca.columns)))}, inplace=True)\n",
    "pepe_pca\n"
   ]
  },
  {
   "cell_type": "code",
   "execution_count": 31,
   "metadata": {},
   "outputs": [],
   "source": [
    "pepe_pca.to_csv('../data/word-features-reduced.csv', index=False)"
   ]
  },
  {
   "cell_type": "code",
   "execution_count": null,
   "metadata": {},
   "outputs": [],
   "source": []
  }
 ],
 "metadata": {
  "kernelspec": {
   "display_name": "Python 3",
   "language": "python",
   "name": "python3"
  },
  "language_info": {
   "codemirror_mode": {
    "name": "ipython",
    "version": 3
   },
   "file_extension": ".py",
   "mimetype": "text/x-python",
   "name": "python",
   "nbconvert_exporter": "python",
   "pygments_lexer": "ipython3",
   "version": "3.7.5rc1"
  }
 },
 "nbformat": 4,
 "nbformat_minor": 2
}

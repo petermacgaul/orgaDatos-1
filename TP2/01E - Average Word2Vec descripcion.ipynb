{
 "cells": [
  {
   "cell_type": "code",
   "execution_count": 1,
   "metadata": {},
   "outputs": [],
   "source": [
    "import pandas as pd\n",
    "import numpy as np\n",
    "import seaborn as sns\n",
    "import matplotlib\n",
    "import matplotlib.pyplot as plt\n",
    "\n",
    "%matplotlib inline\n",
    "pd.set_option('display.max_columns', 50)"
   ]
  },
  {
   "cell_type": "code",
   "execution_count": 2,
   "metadata": {},
   "outputs": [],
   "source": [
    "df = pd.read_csv('../data/train.csv',dtype={'tipodepropiedad':'category','ciudad':'category','provincia':'category'})\n",
    "df['fecha'] = pd.to_datetime(df['fecha'])\n",
    "df['anio'] = df['fecha'].dt.year\n",
    "df[\"mes\"] = df['fecha'].dt.month\n",
    "df[\"dia\"] = df['fecha'].dt.day\n",
    "\n",
    "df = df.drop(columns=[\"lat\",\"lng\"])"
   ]
  },
  {
   "cell_type": "code",
   "execution_count": 3,
   "metadata": {},
   "outputs": [],
   "source": [
    "df[\"descripcion\"] = df[\"descripcion\"].fillna(\"\")\n",
    "df[\"titulo\"] = df[\"titulo\"].fillna(\"\")"
   ]
  },
  {
   "cell_type": "code",
   "execution_count": 4,
   "metadata": {},
   "outputs": [],
   "source": [
    "import re\n",
    "import string\n",
    "from stop_words import get_stop_words\n",
    "from nltk.tokenize import word_tokenize\n",
    "\n",
    "stopwords = get_stop_words('spanish')\n",
    "\n",
    "def remove_stopwords(text,stopwords):\n",
    "    word_tokens = word_tokenize(text)\n",
    "    filtered_sentence = [w for w in word_tokens if not w in stopwords] \n",
    "    filtered_sentence = []\n",
    "    for w in word_tokens: \n",
    "        if w not in stopwords: \n",
    "            filtered_sentence.append(w)\n",
    "    return \" \".join(filtered_sentence)\n",
    "\n",
    "def clean_text_round(text):\n",
    "    '''Make text lowercase, remove text in square brackets, remove punctuation and remove words containing numbers.'''\n",
    "    text = text.lower()\n",
    "    text = re.sub('ñ', 'n', text)\n",
    "    text = re.sub('\\[&;.*?¿\\‘’“”…«»]\\%;', '', text)\n",
    "    text = re.sub('[%s]' % re.escape(string.punctuation), ' ', text)\n",
    "    text = re.sub('\\w*\\d\\w*', ' ', text)\n",
    "    text = re.sub('\\n', ' ', text)\n",
    "    text = re.sub('\\x95', ' ', text)\n",
    "    text = re.sub('acute', '', text)\n",
    "    text = re.sub('tilde', '', text)\n",
    "    text = re.sub(' p ', '', text)\n",
    "    text = re.sub('nbsp', '', text)\n",
    "    text = re.sub('á', 'a', text)\n",
    "    text = re.sub('é', 'e', text)\n",
    "    text = re.sub('í', 'i', text)\n",
    "    text = re.sub('ó', 'o', text)\n",
    "    text = re.sub('ú', 'u', text)\n",
    "    return text\n",
    "\n",
    "def limpiar_texto(text):\n",
    "    return remove_stopwords(clean_text_round(text),stopwords)"
   ]
  },
  {
   "cell_type": "code",
   "execution_count": 5,
   "metadata": {},
   "outputs": [],
   "source": [
    "df[\"descripcion\"] = df[\"descripcion\"].apply(limpiar_texto)"
   ]
  },
  {
   "cell_type": "code",
   "execution_count": 6,
   "metadata": {},
   "outputs": [
    {
     "data": {
      "text/plain": [
       "'estrene departamento totales exterior piso elevador balcon vista calle estancia sala comedor cocina integral abierta barra granito cuarto lavado integrado recamara principal balcon walk in closet bano recamaras junior closet balcon interior bano completo cajones estacionamiento independientes techados condominio deptos elevador caseta vigilancia roof garden comun asador tarja medio bano ver video youtube buscando estrene departamento col valle http youtu be aceptamos creditos bancarios infonavit'"
      ]
     },
     "execution_count": 6,
     "metadata": {},
     "output_type": "execute_result"
    }
   ],
   "source": [
    "df[\"descripcion\"].loc[218827]"
   ]
  },
  {
   "cell_type": "markdown",
   "metadata": {},
   "source": [
    "# Preprocess"
   ]
  },
  {
   "cell_type": "code",
   "execution_count": 7,
   "metadata": {},
   "outputs": [],
   "source": [
    "import sys\n",
    "from nltk import word_tokenize\n",
    "from nltk import download\n",
    "from nltk.corpus import stopwords"
   ]
  },
  {
   "cell_type": "code",
   "execution_count": 8,
   "metadata": {},
   "outputs": [
    {
     "name": "stderr",
     "output_type": "stream",
     "text": [
      "[nltk_data] Downloading package punkt to /home/peter/nltk_data...\n",
      "[nltk_data]   Package punkt is already up-to-date!\n",
      "[nltk_data] Downloading package stopwords to /home/peter/nltk_data...\n",
      "[nltk_data]   Package stopwords is already up-to-date!\n"
     ]
    }
   ],
   "source": [
    "download('punkt') #tokenizer, run once\n",
    "download('stopwords') #stopwords dictionary, run once\n",
    "stop_words = stopwords.words('spanish')"
   ]
  },
  {
   "cell_type": "code",
   "execution_count": 9,
   "metadata": {},
   "outputs": [
    {
     "data": {
      "text/plain": [
       "['de', 'la', 'que', 'el', 'en', 'y', 'a', 'los', 'del', 'se']"
      ]
     },
     "metadata": {},
     "output_type": "display_data"
    },
    {
     "name": "stdout",
     "output_type": "stream",
     "text": [
      "Hay 313 stop words\n"
     ]
    }
   ],
   "source": [
    "display(stop_words[:10])\n",
    "print(f'Hay {len(stop_words)} stop words')"
   ]
  },
  {
   "cell_type": "code",
   "execution_count": 10,
   "metadata": {},
   "outputs": [],
   "source": [
    "def preprocess(text):\n",
    "    text = text.lower()\n",
    "    doc = word_tokenize(text)\n",
    "    doc = [word for word in doc if word not in stop_words]\n",
    "    doc = [word for word in doc if word.isalpha()] #restricts string to alphabetic characters only\n",
    "    return doc"
   ]
  },
  {
   "cell_type": "code",
   "execution_count": 11,
   "metadata": {},
   "outputs": [],
   "source": [
    "texts = df[\"descripcion\"]\n",
    "\n",
    "corpus = [preprocess(text) for text in texts]"
   ]
  },
  {
   "cell_type": "markdown",
   "metadata": {},
   "source": [
    "# Word2Vec"
   ]
  },
  {
   "cell_type": "code",
   "execution_count": 12,
   "metadata": {},
   "outputs": [],
   "source": [
    "from gensim.models import Word2Vec"
   ]
  },
  {
   "cell_type": "code",
   "execution_count": 13,
   "metadata": {},
   "outputs": [
    {
     "name": "stdout",
     "output_type": "stream",
     "text": [
      "--- 108.80923843383789 seconds ---\n"
     ]
    }
   ],
   "source": [
    "import time\n",
    "\n",
    "start_time = time.time()\n",
    "model = Word2Vec(\n",
    "        corpus,\n",
    "        size=150,\n",
    "        window=10,\n",
    "        min_count=2,\n",
    "        workers=10,\n",
    "        iter=10)\n",
    "\n",
    "\n",
    "print(\"--- %s seconds ---\" % (time.time() - start_time))"
   ]
  },
  {
   "cell_type": "code",
   "execution_count": 14,
   "metadata": {},
   "outputs": [
    {
     "name": "stdout",
     "output_type": "stream",
     "text": [
      "--- 101.49614572525024 seconds ---\n"
     ]
    }
   ],
   "source": [
    "start_time = time.time()\n",
    "\n",
    "model.train(corpus, total_examples=len(corpus), epochs=10)\n",
    "\n",
    "print(\"--- %s seconds ---\" % (time.time() - start_time))"
   ]
  },
  {
   "cell_type": "code",
   "execution_count": 15,
   "metadata": {},
   "outputs": [
    {
     "data": {
      "text/plain": [
       "[('garaje', 0.9525284171104431),\n",
       " ('cochera', 0.7534531950950623),\n",
       " ('estacionamiento', 0.7206419706344604),\n",
       " ('porch', 0.7029777765274048),\n",
       " ('grage', 0.6471502184867859),\n",
       " ('cohera', 0.6272969245910645),\n",
       " ('garageun', 0.58659428358078),\n",
       " ('chochera', 0.5745536684989929),\n",
       " ('garge', 0.553177535533905),\n",
       " ('cohcera', 0.5521492958068848)]"
      ]
     },
     "execution_count": 15,
     "metadata": {},
     "output_type": "execute_result"
    }
   ],
   "source": [
    "model.wv.most_similar(positive=\"garage\")"
   ]
  },
  {
   "cell_type": "code",
   "execution_count": 16,
   "metadata": {},
   "outputs": [
    {
     "data": {
      "text/plain": [
       "[('departamento', 0.7858618497848511),\n",
       " ('depa', 0.6739681959152222),\n",
       " ('dpto', 0.6168169975280762),\n",
       " ('deptos', 0.6064167022705078),\n",
       " ('ph', 0.5970371961593628),\n",
       " ('habitables', 0.5343069434165955),\n",
       " ('penthouse', 0.48944416642189026),\n",
       " ('edif', 0.4883372187614441),\n",
       " ('quinto', 0.48764345049858093),\n",
       " ('noveno', 0.4855972230434418)]"
      ]
     },
     "execution_count": 16,
     "metadata": {},
     "output_type": "execute_result"
    }
   ],
   "source": [
    "model.wv.most_similar(positive=\"depto\")"
   ]
  },
  {
   "cell_type": "code",
   "execution_count": 17,
   "metadata": {},
   "outputs": [
    {
     "data": {
      "text/plain": [
       "[('mundet', 0.6226952075958252),\n",
       " ('jockey', 0.6141911149024963),\n",
       " ('golf', 0.6121260523796082),\n",
       " ('chivas', 0.6070430874824524),\n",
       " ('sonoma', 0.604469358921051),\n",
       " ('raqueta', 0.6043533086776733),\n",
       " ('hipico', 0.5990069508552551),\n",
       " ('britania', 0.5937023162841797),\n",
       " ('yacht', 0.5932648181915283),\n",
       " ('france', 0.5898220539093018)]"
      ]
     },
     "execution_count": 17,
     "metadata": {},
     "output_type": "execute_result"
    }
   ],
   "source": [
    "model.wv.most_similar(positive=\"country\")"
   ]
  },
  {
   "cell_type": "code",
   "execution_count": 18,
   "metadata": {},
   "outputs": [
    {
     "data": {
      "text/plain": [
       "[('cerrado', 0.6969057321548462),\n",
       " ('serrado', 0.576604962348938),\n",
       " ('bonterra', 0.54060959815979),\n",
       " ('exclusivo', 0.5300710201263428),\n",
       " ('cerrdo', 0.5276691317558289),\n",
       " ('salvaterra', 0.524071455001831),\n",
       " ('cerrrado', 0.4946379065513611),\n",
       " ('aile', 0.4908108115196228),\n",
       " ('viviendistico', 0.48742517828941345),\n",
       " ('vogilancia', 0.48458752036094666)]"
      ]
     },
     "execution_count": 18,
     "metadata": {},
     "output_type": "execute_result"
    }
   ],
   "source": [
    "model.wv.most_similar(positive=\"privado\")"
   ]
  },
  {
   "cell_type": "code",
   "execution_count": 19,
   "metadata": {},
   "outputs": [
    {
     "data": {
      "text/plain": [
       "[('poblado', 0.5846269726753235),\n",
       " ('historica', 0.5527140498161316),\n",
       " ('antigua', 0.5179954171180725),\n",
       " ('aurira', 0.513764500617981),\n",
       " ('casona', 0.5120511054992676),\n",
       " ('poblacion', 0.5079727172851562),\n",
       " ('callejon', 0.5061964392662048),\n",
       " ('catedral', 0.48914793133735657),\n",
       " ('franciscano', 0.48681315779685974),\n",
       " ('magdalena', 0.4866153299808502)]"
      ]
     },
     "execution_count": 19,
     "metadata": {},
     "output_type": "execute_result"
    }
   ],
   "source": [
    "model.wv.most_similar(positive=\"barrio\")"
   ]
  },
  {
   "cell_type": "code",
   "execution_count": 20,
   "metadata": {},
   "outputs": [],
   "source": [
    "def document_vector(word2vec_model, doc):\n",
    "    # remove out-of-vocabulary words\n",
    "    doc = [word for word in doc if word in word2vec_model.vocab]\n",
    "    \n",
    "    if (len(doc) != 0):\n",
    "        return np.mean(word2vec_model[doc], axis=0)\n",
    "    \n",
    "    return np.zeros(word2vec_model.vector_size, dtype=np.float32)"
   ]
  },
  {
   "cell_type": "code",
   "execution_count": 21,
   "metadata": {},
   "outputs": [],
   "source": [
    "def fit(corpus, word2vec_model):\n",
    "    fitted_corpus = [document_vector(word2vec_model, doc) for doc in corpus]\n",
    "    \n",
    "    return fitted_corpus"
   ]
  },
  {
   "cell_type": "code",
   "execution_count": 22,
   "metadata": {},
   "outputs": [],
   "source": [
    "fitted_corpus = fit(corpus, model.wv)"
   ]
  },
  {
   "cell_type": "code",
   "execution_count": 23,
   "metadata": {},
   "outputs": [],
   "source": [
    "pepe = pd.DataFrame(np.array(fitted_corpus))\n",
    "pepe.rename(columns={x:str(f\"descripcion-feature-{y}\") for x,y in zip(pepe.columns,range(0,len(pepe.columns)))}, inplace=True)"
   ]
  },
  {
   "cell_type": "code",
   "execution_count": 24,
   "metadata": {},
   "outputs": [],
   "source": [
    "merged = df.join(pepe)"
   ]
  },
  {
   "cell_type": "code",
   "execution_count": 25,
   "metadata": {},
   "outputs": [],
   "source": [
    "merged.to_csv('../data/words.csv', index=False)"
   ]
  },
  {
   "cell_type": "code",
   "execution_count": null,
   "metadata": {},
   "outputs": [],
   "source": []
  },
  {
   "cell_type": "code",
   "execution_count": null,
   "metadata": {},
   "outputs": [],
   "source": []
  },
  {
   "cell_type": "code",
   "execution_count": 26,
   "metadata": {},
   "outputs": [],
   "source": [
    "pepe.to_csv('../data/word-features.csv', index=False)"
   ]
  },
  {
   "cell_type": "code",
   "execution_count": null,
   "metadata": {},
   "outputs": [],
   "source": []
  },
  {
   "cell_type": "code",
   "execution_count": null,
   "metadata": {},
   "outputs": [],
   "source": []
  },
  {
   "cell_type": "code",
   "execution_count": null,
   "metadata": {},
   "outputs": [],
   "source": []
  },
  {
   "cell_type": "markdown",
   "metadata": {},
   "source": [
    "# Reducción de dimensiones con Hashing Trick"
   ]
  },
  {
   "cell_type": "code",
   "execution_count": 27,
   "metadata": {},
   "outputs": [],
   "source": [
    "import pandas as pd\n",
    "pepe = pd.read_csv('../data/word-features.csv')"
   ]
  },
  {
   "cell_type": "code",
   "execution_count": 28,
   "metadata": {},
   "outputs": [],
   "source": [
    "import category_encoders as ce\n",
    "\n",
    "hash_trick = ce.HashingEncoder()\n",
    "pepe_hash_trick = hash_trick.hashing_trick(pepe,N=30)"
   ]
  },
  {
   "cell_type": "code",
   "execution_count": 29,
   "metadata": {},
   "outputs": [],
   "source": [
    "pepe_hash_trick.to_csv('../data/word-features-reduced.csv', index=False)"
   ]
  },
  {
   "cell_type": "markdown",
   "metadata": {},
   "source": [
    "# Reducción de dimensiones con PCA"
   ]
  },
  {
   "cell_type": "code",
   "execution_count": 30,
   "metadata": {},
   "outputs": [],
   "source": [
    "from sklearn.decomposition import PCA\n",
    "\n",
    "pca = PCA(n_components=15, whiten = False)\n",
    "pepe_pca = pca.fit_transform(pepe)"
   ]
  },
  {
   "cell_type": "code",
   "execution_count": 31,
   "metadata": {},
   "outputs": [
    {
     "data": {
      "text/plain": [
       "(240000, 15)"
      ]
     },
     "execution_count": 31,
     "metadata": {},
     "output_type": "execute_result"
    }
   ],
   "source": [
    "pepe_pca.shape"
   ]
  },
  {
   "cell_type": "code",
   "execution_count": 32,
   "metadata": {},
   "outputs": [
    {
     "data": {
      "text/html": [
       "<div>\n",
       "<style scoped>\n",
       "    .dataframe tbody tr th:only-of-type {\n",
       "        vertical-align: middle;\n",
       "    }\n",
       "\n",
       "    .dataframe tbody tr th {\n",
       "        vertical-align: top;\n",
       "    }\n",
       "\n",
       "    .dataframe thead th {\n",
       "        text-align: right;\n",
       "    }\n",
       "</style>\n",
       "<table border=\"1\" class=\"dataframe\">\n",
       "  <thead>\n",
       "    <tr style=\"text-align: right;\">\n",
       "      <th></th>\n",
       "      <th>descripcion-feature-0</th>\n",
       "      <th>descripcion-feature-1</th>\n",
       "      <th>descripcion-feature-2</th>\n",
       "      <th>descripcion-feature-3</th>\n",
       "      <th>descripcion-feature-4</th>\n",
       "      <th>descripcion-feature-5</th>\n",
       "      <th>descripcion-feature-6</th>\n",
       "      <th>descripcion-feature-7</th>\n",
       "      <th>descripcion-feature-8</th>\n",
       "      <th>descripcion-feature-9</th>\n",
       "      <th>descripcion-feature-10</th>\n",
       "      <th>descripcion-feature-11</th>\n",
       "      <th>descripcion-feature-12</th>\n",
       "      <th>descripcion-feature-13</th>\n",
       "      <th>descripcion-feature-14</th>\n",
       "    </tr>\n",
       "  </thead>\n",
       "  <tbody>\n",
       "    <tr>\n",
       "      <th>0</th>\n",
       "      <td>-12.011022</td>\n",
       "      <td>2.376715</td>\n",
       "      <td>-0.371896</td>\n",
       "      <td>1.294995</td>\n",
       "      <td>-0.543803</td>\n",
       "      <td>-1.731025</td>\n",
       "      <td>-0.190390</td>\n",
       "      <td>-2.912175</td>\n",
       "      <td>-0.495883</td>\n",
       "      <td>-1.589385</td>\n",
       "      <td>1.336196</td>\n",
       "      <td>2.054008</td>\n",
       "      <td>-0.591391</td>\n",
       "      <td>0.334456</td>\n",
       "      <td>0.292309</td>\n",
       "    </tr>\n",
       "    <tr>\n",
       "      <th>1</th>\n",
       "      <td>-1.847010</td>\n",
       "      <td>0.680682</td>\n",
       "      <td>-2.031087</td>\n",
       "      <td>0.366682</td>\n",
       "      <td>6.208037</td>\n",
       "      <td>2.055222</td>\n",
       "      <td>1.054524</td>\n",
       "      <td>0.068045</td>\n",
       "      <td>0.361072</td>\n",
       "      <td>-0.209073</td>\n",
       "      <td>-0.496022</td>\n",
       "      <td>-0.567163</td>\n",
       "      <td>-0.907442</td>\n",
       "      <td>0.706306</td>\n",
       "      <td>-0.743353</td>\n",
       "    </tr>\n",
       "    <tr>\n",
       "      <th>2</th>\n",
       "      <td>4.671956</td>\n",
       "      <td>-1.249874</td>\n",
       "      <td>-1.093520</td>\n",
       "      <td>-1.554401</td>\n",
       "      <td>-0.370125</td>\n",
       "      <td>-0.899498</td>\n",
       "      <td>0.180867</td>\n",
       "      <td>0.712366</td>\n",
       "      <td>-1.246909</td>\n",
       "      <td>-0.290786</td>\n",
       "      <td>1.160878</td>\n",
       "      <td>-0.490641</td>\n",
       "      <td>0.699137</td>\n",
       "      <td>0.479224</td>\n",
       "      <td>0.274423</td>\n",
       "    </tr>\n",
       "    <tr>\n",
       "      <th>3</th>\n",
       "      <td>7.732163</td>\n",
       "      <td>1.730230</td>\n",
       "      <td>-0.155248</td>\n",
       "      <td>-1.306242</td>\n",
       "      <td>-0.025284</td>\n",
       "      <td>-1.201790</td>\n",
       "      <td>-1.190762</td>\n",
       "      <td>2.275234</td>\n",
       "      <td>-1.589299</td>\n",
       "      <td>-0.843261</td>\n",
       "      <td>0.823464</td>\n",
       "      <td>1.548676</td>\n",
       "      <td>2.350998</td>\n",
       "      <td>0.989693</td>\n",
       "      <td>-1.368399</td>\n",
       "    </tr>\n",
       "    <tr>\n",
       "      <th>4</th>\n",
       "      <td>5.924498</td>\n",
       "      <td>-0.494580</td>\n",
       "      <td>0.097739</td>\n",
       "      <td>3.761814</td>\n",
       "      <td>-0.388968</td>\n",
       "      <td>-0.356541</td>\n",
       "      <td>4.479202</td>\n",
       "      <td>-0.050531</td>\n",
       "      <td>-1.130621</td>\n",
       "      <td>1.761497</td>\n",
       "      <td>0.332489</td>\n",
       "      <td>1.271423</td>\n",
       "      <td>1.198450</td>\n",
       "      <td>-2.185835</td>\n",
       "      <td>2.445114</td>\n",
       "    </tr>\n",
       "    <tr>\n",
       "      <th>...</th>\n",
       "      <td>...</td>\n",
       "      <td>...</td>\n",
       "      <td>...</td>\n",
       "      <td>...</td>\n",
       "      <td>...</td>\n",
       "      <td>...</td>\n",
       "      <td>...</td>\n",
       "      <td>...</td>\n",
       "      <td>...</td>\n",
       "      <td>...</td>\n",
       "      <td>...</td>\n",
       "      <td>...</td>\n",
       "      <td>...</td>\n",
       "      <td>...</td>\n",
       "      <td>...</td>\n",
       "    </tr>\n",
       "    <tr>\n",
       "      <th>239995</th>\n",
       "      <td>4.738590</td>\n",
       "      <td>2.546663</td>\n",
       "      <td>0.142148</td>\n",
       "      <td>-1.001802</td>\n",
       "      <td>-0.726601</td>\n",
       "      <td>0.021692</td>\n",
       "      <td>-0.283606</td>\n",
       "      <td>1.555670</td>\n",
       "      <td>-0.360253</td>\n",
       "      <td>-0.544605</td>\n",
       "      <td>0.148879</td>\n",
       "      <td>1.247879</td>\n",
       "      <td>1.224685</td>\n",
       "      <td>0.695621</td>\n",
       "      <td>-0.576042</td>\n",
       "    </tr>\n",
       "    <tr>\n",
       "      <th>239996</th>\n",
       "      <td>0.508107</td>\n",
       "      <td>-0.303941</td>\n",
       "      <td>-0.182024</td>\n",
       "      <td>-0.745895</td>\n",
       "      <td>0.706646</td>\n",
       "      <td>-3.148146</td>\n",
       "      <td>-1.945933</td>\n",
       "      <td>-1.359158</td>\n",
       "      <td>-2.434363</td>\n",
       "      <td>1.060061</td>\n",
       "      <td>-0.419314</td>\n",
       "      <td>-0.270357</td>\n",
       "      <td>0.643315</td>\n",
       "      <td>0.368658</td>\n",
       "      <td>-0.174244</td>\n",
       "    </tr>\n",
       "    <tr>\n",
       "      <th>239997</th>\n",
       "      <td>-3.913456</td>\n",
       "      <td>-0.460272</td>\n",
       "      <td>-0.953363</td>\n",
       "      <td>4.312741</td>\n",
       "      <td>-0.955114</td>\n",
       "      <td>0.209945</td>\n",
       "      <td>-0.628316</td>\n",
       "      <td>1.327544</td>\n",
       "      <td>-0.215443</td>\n",
       "      <td>0.498452</td>\n",
       "      <td>-0.335385</td>\n",
       "      <td>0.169190</td>\n",
       "      <td>0.134843</td>\n",
       "      <td>-0.204849</td>\n",
       "      <td>0.500219</td>\n",
       "    </tr>\n",
       "    <tr>\n",
       "      <th>239998</th>\n",
       "      <td>-1.684901</td>\n",
       "      <td>-0.478754</td>\n",
       "      <td>1.802258</td>\n",
       "      <td>1.236221</td>\n",
       "      <td>-1.377138</td>\n",
       "      <td>2.298387</td>\n",
       "      <td>1.363540</td>\n",
       "      <td>-1.400392</td>\n",
       "      <td>1.522466</td>\n",
       "      <td>0.422435</td>\n",
       "      <td>2.692481</td>\n",
       "      <td>-0.911440</td>\n",
       "      <td>0.296388</td>\n",
       "      <td>-0.162964</td>\n",
       "      <td>-2.304936</td>\n",
       "    </tr>\n",
       "    <tr>\n",
       "      <th>239999</th>\n",
       "      <td>3.810909</td>\n",
       "      <td>-2.163389</td>\n",
       "      <td>-2.326161</td>\n",
       "      <td>1.998511</td>\n",
       "      <td>-0.571217</td>\n",
       "      <td>0.444317</td>\n",
       "      <td>0.006031</td>\n",
       "      <td>-1.148612</td>\n",
       "      <td>0.261445</td>\n",
       "      <td>-1.790259</td>\n",
       "      <td>-1.426353</td>\n",
       "      <td>1.382187</td>\n",
       "      <td>0.061808</td>\n",
       "      <td>-1.586094</td>\n",
       "      <td>-0.337905</td>\n",
       "    </tr>\n",
       "  </tbody>\n",
       "</table>\n",
       "<p>240000 rows × 15 columns</p>\n",
       "</div>"
      ],
      "text/plain": [
       "        descripcion-feature-0  descripcion-feature-1  descripcion-feature-2  \\\n",
       "0                  -12.011022               2.376715              -0.371896   \n",
       "1                   -1.847010               0.680682              -2.031087   \n",
       "2                    4.671956              -1.249874              -1.093520   \n",
       "3                    7.732163               1.730230              -0.155248   \n",
       "4                    5.924498              -0.494580               0.097739   \n",
       "...                       ...                    ...                    ...   \n",
       "239995               4.738590               2.546663               0.142148   \n",
       "239996               0.508107              -0.303941              -0.182024   \n",
       "239997              -3.913456              -0.460272              -0.953363   \n",
       "239998              -1.684901              -0.478754               1.802258   \n",
       "239999               3.810909              -2.163389              -2.326161   \n",
       "\n",
       "        descripcion-feature-3  descripcion-feature-4  descripcion-feature-5  \\\n",
       "0                    1.294995              -0.543803              -1.731025   \n",
       "1                    0.366682               6.208037               2.055222   \n",
       "2                   -1.554401              -0.370125              -0.899498   \n",
       "3                   -1.306242              -0.025284              -1.201790   \n",
       "4                    3.761814              -0.388968              -0.356541   \n",
       "...                       ...                    ...                    ...   \n",
       "239995              -1.001802              -0.726601               0.021692   \n",
       "239996              -0.745895               0.706646              -3.148146   \n",
       "239997               4.312741              -0.955114               0.209945   \n",
       "239998               1.236221              -1.377138               2.298387   \n",
       "239999               1.998511              -0.571217               0.444317   \n",
       "\n",
       "        descripcion-feature-6  descripcion-feature-7  descripcion-feature-8  \\\n",
       "0                   -0.190390              -2.912175              -0.495883   \n",
       "1                    1.054524               0.068045               0.361072   \n",
       "2                    0.180867               0.712366              -1.246909   \n",
       "3                   -1.190762               2.275234              -1.589299   \n",
       "4                    4.479202              -0.050531              -1.130621   \n",
       "...                       ...                    ...                    ...   \n",
       "239995              -0.283606               1.555670              -0.360253   \n",
       "239996              -1.945933              -1.359158              -2.434363   \n",
       "239997              -0.628316               1.327544              -0.215443   \n",
       "239998               1.363540              -1.400392               1.522466   \n",
       "239999               0.006031              -1.148612               0.261445   \n",
       "\n",
       "        descripcion-feature-9  descripcion-feature-10  descripcion-feature-11  \\\n",
       "0                   -1.589385                1.336196                2.054008   \n",
       "1                   -0.209073               -0.496022               -0.567163   \n",
       "2                   -0.290786                1.160878               -0.490641   \n",
       "3                   -0.843261                0.823464                1.548676   \n",
       "4                    1.761497                0.332489                1.271423   \n",
       "...                       ...                     ...                     ...   \n",
       "239995              -0.544605                0.148879                1.247879   \n",
       "239996               1.060061               -0.419314               -0.270357   \n",
       "239997               0.498452               -0.335385                0.169190   \n",
       "239998               0.422435                2.692481               -0.911440   \n",
       "239999              -1.790259               -1.426353                1.382187   \n",
       "\n",
       "        descripcion-feature-12  descripcion-feature-13  descripcion-feature-14  \n",
       "0                    -0.591391                0.334456                0.292309  \n",
       "1                    -0.907442                0.706306               -0.743353  \n",
       "2                     0.699137                0.479224                0.274423  \n",
       "3                     2.350998                0.989693               -1.368399  \n",
       "4                     1.198450               -2.185835                2.445114  \n",
       "...                        ...                     ...                     ...  \n",
       "239995                1.224685                0.695621               -0.576042  \n",
       "239996                0.643315                0.368658               -0.174244  \n",
       "239997                0.134843               -0.204849                0.500219  \n",
       "239998                0.296388               -0.162964               -2.304936  \n",
       "239999                0.061808               -1.586094               -0.337905  \n",
       "\n",
       "[240000 rows x 15 columns]"
      ]
     },
     "execution_count": 32,
     "metadata": {},
     "output_type": "execute_result"
    }
   ],
   "source": [
    "pepe_pca = pd.DataFrame(pepe_pca)\n",
    "pepe_pca.rename(columns={x:str(f\"descripcion-feature-{y}\") for x,y in zip(pepe_pca.columns,range(0,len(pepe_pca.columns)))}, inplace=True)\n",
    "pepe_pca\n"
   ]
  },
  {
   "cell_type": "code",
   "execution_count": 33,
   "metadata": {},
   "outputs": [],
   "source": [
    "pepe_pca.to_csv('../data/word-features-reduced.csv', index=False)"
   ]
  },
  {
   "cell_type": "markdown",
   "metadata": {},
   "source": [
    "# Reducción de dimensiones con TSNE"
   ]
  },
  {
   "cell_type": "code",
   "execution_count": 68,
   "metadata": {},
   "outputs": [],
   "source": [
    "from sklearn.manifold import TSNE\n",
    "def tsnescatterplot(model, word, list_names):\n",
    "    \"\"\" Plot in seaborn the results from the t-SNE dimensionality reduction algorithm of the vectors of a query word,\n",
    "    its list of most similar words, and a list of words.\n",
    "    \"\"\"\n",
    "    arrays = np.empty((0, 150), dtype='f')\n",
    "    word_labels = [word]\n",
    "    color_list  = ['green']\n",
    "\n",
    "    # adds the vector of the query word\n",
    "    arrays = np.append(arrays, model.wv.__getitem__([word]), axis=0)\n",
    "    \n",
    "    # gets list of most similar words\n",
    "    close_words = model.wv.most_similar([word])\n",
    "    \n",
    "    # adds the vector for each of the closest words to the array\n",
    "    for wrd_score in close_words:\n",
    "        wrd_vector = model.wv.__getitem__([wrd_score[0]])\n",
    "        word_labels.append(wrd_score[0])\n",
    "        color_list.append('blue')\n",
    "        arrays = np.append(arrays, wrd_vector, axis=0)\n",
    "    \n",
    "    # adds the vector for each of the words from list_names to the array\n",
    "\n",
    "        \n",
    "    # Reduces the dimensionality from 300 to 50 dimensions with PCA\n",
    "    reduc = PCA(n_components=11).fit_transform(arrays)\n",
    "    \n",
    "    # Finds t-SNE coordinates for 2 dimensions\n",
    "    np.set_printoptions(suppress=True)\n",
    "    \n",
    "    Y = TSNE(n_components=2, random_state=0, perplexity=15).fit_transform(reduc)\n",
    "    \n",
    "    # Sets everything up to plot\n",
    "    df = pd.DataFrame({'x': [x for x in Y[:, 0]],\n",
    "                       'y': [y for y in Y[:, 1]],\n",
    "                       'words': word_labels,\n",
    "                       'color': color_list})\n",
    "    \n",
    "    fig, _ = plt.subplots()\n",
    "    fig.set_size_inches(9, 9)\n",
    "    \n",
    "    # Basic plot\n",
    "    p1 = sns.regplot(data=df,\n",
    "                     x=\"x\",\n",
    "                     y=\"y\",\n",
    "                     fit_reg=False,\n",
    "                     marker=\"o\",\n",
    "                     scatter_kws={'s': 40,\n",
    "                                  'facecolors': df['color']\n",
    "                                 }\n",
    "                    )\n",
    "    \n",
    "    # Adds annotations one by one with a loop\n",
    "    for line in range(0, df.shape[0]):\n",
    "         p1.text(df[\"x\"][line],\n",
    "                 df['y'][line],\n",
    "                 '  ' + df[\"words\"][line].title(),\n",
    "                 horizontalalignment='left',\n",
    "                 verticalalignment='bottom', size='medium',\n",
    "                 color=df['color'][line],\n",
    "                 weight='normal'\n",
    "                ).set_size(15)\n",
    "\n",
    "    \n",
    "    plt.xlim(Y[:, 0].min()-50, Y[:, 0].max()+50)\n",
    "    plt.ylim(Y[:, 1].min()-50, Y[:, 1].max()+50)\n",
    "            \n",
    "    plt.title('Palabras parecidas a {}'.format(word.title())).set_size(30)"
   ]
  },
  {
   "cell_type": "code",
   "execution_count": 70,
   "metadata": {},
   "outputs": [
    {
     "data": {
      "image/png": "[encoded data removed]",
      "text/plain": [
       "<Figure size 648x648 with 1 Axes>"
      ]
     },
     "metadata": {
      "needs_background": "light"
     },
     "output_type": "display_data"
    }
   ],
   "source": [
    "tsnescatterplot(model, 'lujo', [i[0] for i in model.wv.most_similar(negative=[\"lujo\"])])"
   ]
  },
  {
   "cell_type": "code",
   "execution_count": null,
   "metadata": {},
   "outputs": [],
   "source": []
  },
  {
   "cell_type": "code",
   "execution_count": null,
   "metadata": {},
   "outputs": [],
   "source": []
  }
 ],
 "metadata": {
  "kernelspec": {
   "display_name": "Python 3",
   "language": "python",
   "name": "python3"
  },
  "language_info": {
   "codemirror_mode": {
    "name": "ipython",
    "version": 3
   },
   "file_extension": ".py",
   "mimetype": "text/x-python",
   "name": "python",
   "nbconvert_exporter": "python",
   "pygments_lexer": "ipython3",
   "version": "3.7.5"
  }
 },
 "nbformat": 4,
 "nbformat_minor": 2
}

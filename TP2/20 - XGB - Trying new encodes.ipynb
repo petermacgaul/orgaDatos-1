{
 "cells": [
  {
   "cell_type": "code",
   "execution_count": 1,
   "metadata": {},
   "outputs": [],
   "source": [
    "import pandas as pd\n",
    "import numpy as np\n",
    "import seaborn as sns\n",
    "import matplotlib\n",
    "import matplotlib.pyplot as plt\n",
    "import warnings\n",
    "import time\n",
    "\n",
    "import Featurizer as ft\n",
    "\n",
    "warnings.filterwarnings('ignore')\n",
    "\n",
    "%matplotlib inline\n",
    "sns.set(style='white', context='notebook', palette='deep')\n",
    "%config InlineBackend.figure_format = 'png' #set 'png' here when working on notebook\n",
    "pd.set_option('display.max_columns', 50)\n",
    "#one hot del mes y año\n",
    "#m*m"
   ]
  },
  {
   "cell_type": "code",
   "execution_count": 2,
   "metadata": {},
   "outputs": [],
   "source": [
    "from sklearn.model_selection import train_test_split\n",
    "from sklearn.linear_model import LogisticRegression\n",
    "from sklearn.preprocessing import OneHotEncoder \n",
    "from sklearn.preprocessing import Imputer\n",
    "from sklearn.metrics import mean_absolute_error\n",
    "from sklearn.metrics import mean_squared_error\n",
    "from sklearn.impute import SimpleImputer"
   ]
  },
  {
   "cell_type": "code",
   "execution_count": 3,
   "metadata": {},
   "outputs": [],
   "source": [
    "plt.style.use('default')\n",
    "plt.rcParams['figure.figsize'] = [12.0,8.0]"
   ]
  },
  {
   "cell_type": "code",
   "execution_count": 4,
   "metadata": {},
   "outputs": [],
   "source": [
    "import category_encoders as ce\n",
    "\n",
    "OHE = ce.OneHotEncoder( handle_unknown='ignore', use_cat_names=True)\n",
    "\n",
    "BE = ce.BinaryEncoder( handle_unknown='ignore')\n",
    "HE = ce.SumEncoder( handle_unknown='ignore')\n",
    "\n",
    "TE1 = ce.TargetEncoder( handle_unknown='ignore')\n",
    "TE2 = ce.TargetEncoder( handle_unknown='ignore')\n",
    "TE3 = ce.TargetEncoder( handle_unknown='ignore')\n",
    "TE4 = ce.TargetEncoder( handle_unknown='ignore')\n",
    "\n",
    "imp = SimpleImputer()\n"
   ]
  },
  {
   "cell_type": "code",
   "execution_count": 5,
   "metadata": {},
   "outputs": [],
   "source": [
    "df_train = pd.read_csv(\"../data/palabras.csv\")\n",
    "\n",
    "mx = pd.read_csv(\"../data/mx_modified.csv\")\n",
    "\n",
    "mx = mx[[\"population_proper\",\"provincia\"]]\n",
    "\n",
    "#df_feature_descripcion = pd.read_csv(\"../data/word-features-reduced.csv\", dtype=np.float16)\n",
    "\n",
    "#df_train = df_train.join(df_feature_descripcion)"
   ]
  },
  {
   "cell_type": "code",
   "execution_count": 6,
   "metadata": {},
   "outputs": [],
   "source": [
    "df_train = pd.merge(df_train,mx,on=\"provincia\",how=\"left\")"
   ]
  },
  {
   "cell_type": "markdown",
   "metadata": {},
   "source": [
    "## Pre-processing"
   ]
  },
  {
   "cell_type": "code",
   "execution_count": 7,
   "metadata": {},
   "outputs": [],
   "source": [
    "X = df_train.drop(\"precio\", axis=1)\n",
    "y = df_train['precio']\n",
    "X_train, X_test, y_train, y_test = train_test_split(X, y, test_size=0.25, random_state=42)"
   ]
  },
  {
   "cell_type": "code",
   "execution_count": 8,
   "metadata": {},
   "outputs": [],
   "source": [
    "X_train_submit = X_train.copy()"
   ]
  },
  {
   "cell_type": "code",
   "execution_count": 9,
   "metadata": {},
   "outputs": [],
   "source": [
    "X_train[\"ambientes\"] = X_train[\"banos\"] + X_train[\"habitaciones\"]\n",
    "X_train[\"ambientesygarage\"] = X_train[\"banos\"] + X_train[\"habitaciones\"]+X_train[\"garages\"]\n",
    "\n",
    "X_test[\"ambientes\"] = X_test[\"banos\"] + X_test[\"habitaciones\"]\n",
    "X_test[\"ambientesygarage\"] = X_test[\"banos\"] + X_test[\"habitaciones\"]+X_test[\"garages\"]"
   ]
  },
  {
   "cell_type": "code",
   "execution_count": 10,
   "metadata": {},
   "outputs": [],
   "source": [
    "X_train[ ft.getTarget1Cols() ] = X_train[ft.getAllCols()]\n",
    "X_test[ ft.getTarget1Cols() ] = X_test[ft.getAllCols()]\n",
    "\n",
    "X_train[ ft.getTarget2Cols() ] = X_train[[\"tipodepropiedad\"]]\n",
    "X_test[ ft.getTarget2Cols() ] = X_test[[\"tipodepropiedad\"]]\n",
    "\n",
    "X_train[ ft.getTarget3Cols() ] = X_train[ft.getAllCols()]\n",
    "X_test[ ft.getTarget3Cols() ] = X_test[ft.getAllCols()]\n",
    "\n",
    "X_train[ ft.getTarget4Cols() ] = X_train[ft.getAllCols()]\n",
    "X_test[ ft.getTarget4Cols() ] = X_test[ft.getAllCols()]"
   ]
  },
  {
   "cell_type": "code",
   "execution_count": 11,
   "metadata": {},
   "outputs": [
    {
     "name": "stdout",
     "output_type": "stream",
     "text": [
      "--- 12.391156911849976 seconds ---\n",
      "--- 2.020576000213623 seconds ---\n"
     ]
    }
   ],
   "source": [
    "X_train = ft.preprocess(X_train, OHE, BE, 'train', TE1, TE2, TE3, TE4, HE,imp, y_train)\n",
    "X_test = ft.preprocess(X_test, OHE, BE, 'test', TE1, TE2, TE3, TE4, HE,imp)"
   ]
  },
  {
   "cell_type": "code",
   "execution_count": 12,
   "metadata": {},
   "outputs": [
    {
     "name": "stdout",
     "output_type": "stream",
     "text": [
      "Original shapes: X=(240000, 85) y=(240000,)\n",
      "Train shapes: X=(180000, 200) y=(180000,)\n",
      "Test  shapes: X=(60000, 200)  y=-(60000,)\n"
     ]
    }
   ],
   "source": [
    "print(f\"Original shapes: X={X.shape} y={y.shape}\")\n",
    "print(f\"Train shapes: X={X_train.shape} y={y_train.shape}\")\n",
    "print(f\"Test  shapes: X={X_test.shape}  y=-{y_test.shape}\")"
   ]
  },
  {
   "cell_type": "markdown",
   "metadata": {},
   "source": [
    "## Training"
   ]
  },
  {
   "cell_type": "code",
   "execution_count": 13,
   "metadata": {},
   "outputs": [
    {
     "data": {
      "text/plain": [
       "XGBRegressor(base_score=0.5, booster='gbtree', colsample_bylevel=1,\n",
       "             colsample_bynode=1, colsample_bytree=0.5, gamma=1,\n",
       "             importance_type='gain', learning_rate=0.05, max_delta_step=0,\n",
       "             max_depth=11, min_child_weight=1, missing=None, n_estimators=2000,\n",
       "             n_jobs=6, nthread=None, objective='reg:squarederror',\n",
       "             random_state=0, reg_alpha=0, reg_lambda=1, scale_pos_weight=1,\n",
       "             seed=None, silent=None, subsample=1, verbosity=1)"
      ]
     },
     "execution_count": 13,
     "metadata": {},
     "output_type": "execute_result"
    }
   ],
   "source": [
    "from xgboost import XGBRegressor\n",
    "\n",
    "model = XGBRegressor(n_estimators=2000,n_jobs=6,objective=\"reg:squarederror\",\n",
    "                     max_depth= 11,min_child_weight = 1,colsample_bytree=0.5,\n",
    "                     gamma=1, learning_rate=0.05, subsample=1)\n",
    "model"
   ]
  },
  {
   "cell_type": "code",
   "execution_count": null,
   "metadata": {},
   "outputs": [],
   "source": [
    "start_time = time.time()\n",
    "model.fit(X_train, y_train)\n",
    "\n",
    "print(\"--- %s seconds ---\" % (time.time() - start_time))"
   ]
  },
  {
   "cell_type": "markdown",
   "metadata": {},
   "source": [
    "## Predicciones"
   ]
  },
  {
   "cell_type": "code",
   "execution_count": null,
   "metadata": {},
   "outputs": [],
   "source": [
    "ft.predecir(model, X_train, y_train, X_test, y_test)"
   ]
  },
  {
   "cell_type": "code",
   "execution_count": null,
   "metadata": {},
   "outputs": [],
   "source": [
    "plt.rcParams[\"figure.figsize\"] = [15, 15]\n",
    "\n",
    "importancia = model.feature_importances_\n",
    "\n",
    "d = {'x':X_train.columns,'y':importancia}\n",
    "\n",
    "df_importancia = pd.DataFrame(d)"
   ]
  },
  {
   "cell_type": "code",
   "execution_count": null,
   "metadata": {},
   "outputs": [],
   "source": [
    "importancia = df_importancia.sort_values(by=\"y\",ascending=False).head(40)\n",
    "ax = plt.barh(importancia.x,importancia.y)\n"
   ]
  },
  {
   "cell_type": "markdown",
   "metadata": {},
   "source": [
    "## Submission"
   ]
  },
  {
   "cell_type": "code",
   "execution_count": null,
   "metadata": {},
   "outputs": [],
   "source": [
    "df_test = pd.read_csv('../data/test.csv')\n"
   ]
  },
  {
   "cell_type": "code",
   "execution_count": null,
   "metadata": {},
   "outputs": [],
   "source": [
    "df = df_test.copy()\n",
    "df = ft.init_test(df)\n",
    "df = pd.merge(df,mx,on=\"provincia\",how=\"left\")"
   ]
  },
  {
   "cell_type": "code",
   "execution_count": null,
   "metadata": {},
   "outputs": [],
   "source": [
    "df[\"ambientes\"] = df[\"banos\"] + df[\"habitaciones\"]\n",
    "df[\"ambientesygarage\"] = df[\"banos\"] + df[\"habitaciones\"]+df[\"garages\"]"
   ]
  },
  {
   "cell_type": "code",
   "execution_count": null,
   "metadata": {},
   "outputs": [],
   "source": [
    "df[ ft.getTarget1Cols() ] = df[ft.getAllCols()]\n",
    "df[ ft.getTarget2Cols() ] = df[[\"tipodepropiedad\"]]\n",
    "df[ ft.getTarget3Cols() ] = df[ft.getAllCols()]\n",
    "df[ ft.getTarget4Cols() ] = df[ft.getAllCols()]"
   ]
  },
  {
   "cell_type": "code",
   "execution_count": null,
   "metadata": {},
   "outputs": [],
   "source": [
    "df = ft.preprocess(df, OHE, BE, 'test', TE1, TE2, TE3,TE4, HE, imp)"
   ]
  },
  {
   "cell_type": "code",
   "execution_count": null,
   "metadata": {},
   "outputs": [],
   "source": [
    "#df, X_train = df.align(X_train,axis=1)\n"
   ]
  },
  {
   "cell_type": "code",
   "execution_count": null,
   "metadata": {},
   "outputs": [],
   "source": [
    "submit_prediction = model.predict( df )"
   ]
  },
  {
   "cell_type": "code",
   "execution_count": null,
   "metadata": {},
   "outputs": [],
   "source": [
    "#cols_diff = []\n",
    "#t = X_train_submit.columns.values\n",
    "#fs = df.columns.values\n",
    "#i = 0\n",
    "#for feat in t:\n",
    "#    if feat != fs[i]:\n",
    "#        cols_diff.append(feat)\n",
    "#    i=+1\n",
    "#display(cols_diff)        "
   ]
  },
  {
   "cell_type": "code",
   "execution_count": null,
   "metadata": {},
   "outputs": [],
   "source": [
    "#pd.concat([df_test[['id']], pd.Series(submit_prediction)], axis=1).rename(columns={0:\"target\"}).to_csv(\"../data/submission13.csv\", index=False)"
   ]
  },
  {
   "cell_type": "code",
   "execution_count": null,
   "metadata": {},
   "outputs": [],
   "source": [
    "from submission_helper import submission_output\n",
    "\n",
    "output = submission_output(df_test, submit_prediction)\n",
    "\n",
    "nombre_submit = 'submission35.csv'\n",
    "\n",
    "output.to_csv('../data/results/A subir/'+nombre_submit, index=False)"
   ]
  },
  {
   "cell_type": "code",
   "execution_count": null,
   "metadata": {},
   "outputs": [],
   "source": []
  },
  {
   "cell_type": "code",
   "execution_count": null,
   "metadata": {},
   "outputs": [],
   "source": []
  },
  {
   "cell_type": "code",
   "execution_count": null,
   "metadata": {},
   "outputs": [],
   "source": []
  },
  {
   "cell_type": "code",
   "execution_count": null,
   "metadata": {},
   "outputs": [],
   "source": []
  },
  {
   "cell_type": "code",
   "execution_count": 13,
   "metadata": {},
   "outputs": [],
   "source": [
    "from sklearn.model_selection import GridSearchCV\n",
    "\n",
    "from xgboost import XGBRegressor\n",
    "\n",
    "param_test = {\n",
    "    'learning_rate':[0.75,0.05,0.025],\n",
    "    'subsample':[1],\n",
    "    'gamma':[1],\n",
    "    'colsample_bytree':[0.5],\n",
    "    'n_estimators': [2000,2500]\n",
    "}\n",
    "\n",
    "\n",
    "search = GridSearchCV(\n",
    "        estimator = XGBRegressor(max_depth= 11,min_child_weight = 1,objective=\"reg:squarederror\"), \n",
    "        param_grid = param_test,\n",
    "        n_jobs=3,\n",
    "        cv=3,\n",
    "        verbose=10)"
   ]
  },
  {
   "cell_type": "code",
   "execution_count": 14,
   "metadata": {},
   "outputs": [
    {
     "name": "stdout",
     "output_type": "stream",
     "text": [
      "Fitting 3 folds for each of 6 candidates, totalling 18 fits\n"
     ]
    },
    {
     "name": "stderr",
     "output_type": "stream",
     "text": [
      "[Parallel(n_jobs=3)]: Using backend LokyBackend with 3 concurrent workers.\n",
      "[Parallel(n_jobs=3)]: Done   2 tasks      | elapsed: 61.5min\n",
      "[Parallel(n_jobs=3)]: Done   7 tasks      | elapsed: 180.9min\n",
      "[Parallel(n_jobs=3)]: Done  12 tasks      | elapsed: 301.9min\n",
      "[Parallel(n_jobs=3)]: Done  15 out of  18 | elapsed: 357.3min remaining: 71.5min\n",
      "[Parallel(n_jobs=3)]: Done  18 out of  18 | elapsed: 415.1min finished\n"
     ]
    },
    {
     "data": {
      "text/plain": [
       "({'colsample_bytree': 0.5,\n",
       "  'gamma': 1,\n",
       "  'learning_rate': 0.025,\n",
       "  'n_estimators': 2500,\n",
       "  'subsample': 1},\n",
       " 0.8530777962131607)"
      ]
     },
     "execution_count": 14,
     "metadata": {},
     "output_type": "execute_result"
    }
   ],
   "source": [
    "search.fit(X_train,y_train)\n",
    "\n",
    "search.best_params_, search.best_score_"
   ]
  },
  {
   "cell_type": "code",
   "execution_count": 15,
   "metadata": {},
   "outputs": [],
   "source": [
    "pd.DataFrame(search.cv_results_).to_csv('../data/GridSearchValues', index=False)"
   ]
  },
  {
   "cell_type": "code",
   "execution_count": 16,
   "metadata": {},
   "outputs": [
    {
     "name": "stdout",
     "output_type": "stream",
     "text": [
      "Entrenamiento: 98.7019%\n",
      "Testeo: 83.9521%.\n",
      "Mean abs error: 486368.9968.\n"
     ]
    }
   ],
   "source": [
    "ft.predecir(search,X_train,y_train,X_test,y_test)"
   ]
  },
  {
   "cell_type": "code",
   "execution_count": null,
   "metadata": {},
   "outputs": [],
   "source": []
  }
 ],
 "metadata": {
  "kernelspec": {
   "display_name": "Python 3",
   "language": "python",
   "name": "python3"
  },
  "language_info": {
   "codemirror_mode": {
    "name": "ipython",
    "version": 3
   },
   "file_extension": ".py",
   "mimetype": "text/x-python",
   "name": "python",
   "nbconvert_exporter": "python",
   "pygments_lexer": "ipython3",
   "version": "3.7.5"
  }
 },
 "nbformat": 4,
 "nbformat_minor": 2
}

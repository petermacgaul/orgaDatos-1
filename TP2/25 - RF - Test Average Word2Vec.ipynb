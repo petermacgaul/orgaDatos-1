{
 "cells": [
  {
   "cell_type": "markdown",
   "metadata": {},
   "source": [
    "# Probando RF sin tunear"
   ]
  },
  {
   "cell_type": "code",
   "execution_count": 2,
   "metadata": {},
   "outputs": [],
   "source": [
    "import pandas as pd\n",
    "import numpy as np\n",
    "import seaborn as sns\n",
    "import matplotlib\n",
    "import matplotlib.pyplot as plt\n",
    "import warnings\n",
    "warnings.filterwarnings('ignore')\n",
    "\n",
    "%matplotlib inline\n",
    "sns.set(style='white', context='notebook', palette='deep')\n",
    "%config InlineBackend.figure_format = 'png' #set 'png' here when working on notebook\n",
    "pd.set_option('display.max_columns', 50)\n"
   ]
  },
  {
   "cell_type": "code",
   "execution_count": 3,
   "metadata": {},
   "outputs": [],
   "source": [
    "plt.style.use('default')\n",
    "plt.rcParams['figure.figsize'] = [12.0,8.0]"
   ]
  },
  {
   "cell_type": "code",
   "execution_count": 4,
   "metadata": {},
   "outputs": [],
   "source": [
    "df_train = pd.read_csv(\"../data/palabras.csv\")"
   ]
  },
  {
   "cell_type": "code",
   "execution_count": 5,
   "metadata": {},
   "outputs": [],
   "source": [
    "df_feature_descripcion = pd.read_csv(\"../data/word-features-reduced.csv\", dtype=np.float32)"
   ]
  },
  {
   "cell_type": "code",
   "execution_count": 6,
   "metadata": {},
   "outputs": [],
   "source": [
    "df_train = df_train.join(df_feature_descripcion)"
   ]
  },
  {
   "cell_type": "code",
   "execution_count": 7,
   "metadata": {},
   "outputs": [],
   "source": [
    "df_train['fecha'] = pd.to_datetime(df_train['fecha'], errors='coerce').astype(int) / 10**9"
   ]
  },
  {
   "cell_type": "code",
   "execution_count": 8,
   "metadata": {},
   "outputs": [],
   "source": [
    "def fill_m2(df):\n",
    "    df['metrostotales'].fillna(df['metroscubiertos'], inplace=True)\n",
    "    df['metroscubiertos'].fillna(df['metrostotales'], inplace=True)\n",
    "    \n",
    "    return df"
   ]
  },
  {
   "cell_type": "code",
   "execution_count": 9,
   "metadata": {},
   "outputs": [
    {
     "data": {
      "text/html": [
       "<div>\n",
       "<style scoped>\n",
       "    .dataframe tbody tr th:only-of-type {\n",
       "        vertical-align: middle;\n",
       "    }\n",
       "\n",
       "    .dataframe tbody tr th {\n",
       "        vertical-align: top;\n",
       "    }\n",
       "\n",
       "    .dataframe thead th {\n",
       "        text-align: right;\n",
       "    }\n",
       "</style>\n",
       "<table border=\"1\" class=\"dataframe\">\n",
       "  <thead>\n",
       "    <tr style=\"text-align: right;\">\n",
       "      <th></th>\n",
       "      <th>id</th>\n",
       "      <th>titulo</th>\n",
       "      <th>descripcion</th>\n",
       "      <th>tipodepropiedad</th>\n",
       "      <th>direccion</th>\n",
       "      <th>ciudad</th>\n",
       "      <th>provincia</th>\n",
       "      <th>antiguedad</th>\n",
       "      <th>habitaciones</th>\n",
       "      <th>garages</th>\n",
       "      <th>banos</th>\n",
       "      <th>metroscubiertos</th>\n",
       "      <th>metrostotales</th>\n",
       "      <th>idzona</th>\n",
       "      <th>fecha</th>\n",
       "      <th>gimnasio</th>\n",
       "      <th>usosmultiples</th>\n",
       "      <th>piscina</th>\n",
       "      <th>escuelascercanas</th>\n",
       "      <th>centroscomercialescercanos</th>\n",
       "      <th>precio</th>\n",
       "      <th>anio</th>\n",
       "      <th>mes</th>\n",
       "      <th>dia</th>\n",
       "      <th>palabra_hermosa</th>\n",
       "      <th>...</th>\n",
       "      <th>descripcion-feature-0</th>\n",
       "      <th>descripcion-feature-1</th>\n",
       "      <th>descripcion-feature-2</th>\n",
       "      <th>descripcion-feature-3</th>\n",
       "      <th>descripcion-feature-4</th>\n",
       "      <th>descripcion-feature-5</th>\n",
       "      <th>descripcion-feature-6</th>\n",
       "      <th>descripcion-feature-7</th>\n",
       "      <th>descripcion-feature-8</th>\n",
       "      <th>descripcion-feature-9</th>\n",
       "      <th>descripcion-feature-10</th>\n",
       "      <th>descripcion-feature-11</th>\n",
       "      <th>descripcion-feature-12</th>\n",
       "      <th>descripcion-feature-13</th>\n",
       "      <th>descripcion-feature-14</th>\n",
       "      <th>descripcion-feature-15</th>\n",
       "      <th>descripcion-feature-16</th>\n",
       "      <th>descripcion-feature-17</th>\n",
       "      <th>descripcion-feature-18</th>\n",
       "      <th>descripcion-feature-19</th>\n",
       "      <th>descripcion-feature-20</th>\n",
       "      <th>descripcion-feature-21</th>\n",
       "      <th>descripcion-feature-22</th>\n",
       "      <th>descripcion-feature-23</th>\n",
       "      <th>descripcion-feature-24</th>\n",
       "    </tr>\n",
       "  </thead>\n",
       "  <tbody>\n",
       "    <tr>\n",
       "      <th>0</th>\n",
       "      <td>254099</td>\n",
       "      <td>depto tipo</td>\n",
       "      <td>depto interior consta sala comedor cocina equi...</td>\n",
       "      <td>Apartamento</td>\n",
       "      <td>avenida division norte</td>\n",
       "      <td>Benito Juárez</td>\n",
       "      <td>Distrito Federal</td>\n",
       "      <td>NaN</td>\n",
       "      <td>2.0</td>\n",
       "      <td>1.0</td>\n",
       "      <td>2.0</td>\n",
       "      <td>80.0</td>\n",
       "      <td>80.0</td>\n",
       "      <td>23533.0</td>\n",
       "      <td>1.440288e+09</td>\n",
       "      <td>0.0</td>\n",
       "      <td>0.0</td>\n",
       "      <td>0.0</td>\n",
       "      <td>0.0</td>\n",
       "      <td>0.0</td>\n",
       "      <td>2273000.0</td>\n",
       "      <td>2015</td>\n",
       "      <td>8</td>\n",
       "      <td>23</td>\n",
       "      <td>0</td>\n",
       "      <td>...</td>\n",
       "      <td>-11.673375</td>\n",
       "      <td>2.514868</td>\n",
       "      <td>0.596685</td>\n",
       "      <td>1.268745</td>\n",
       "      <td>-1.060728</td>\n",
       "      <td>-1.375381</td>\n",
       "      <td>-2.786111</td>\n",
       "      <td>-0.354453</td>\n",
       "      <td>-1.505592</td>\n",
       "      <td>1.165114</td>\n",
       "      <td>1.784490</td>\n",
       "      <td>-0.629234</td>\n",
       "      <td>-0.304889</td>\n",
       "      <td>0.012660</td>\n",
       "      <td>-0.729861</td>\n",
       "      <td>0.970246</td>\n",
       "      <td>-0.558811</td>\n",
       "      <td>-0.283312</td>\n",
       "      <td>0.174303</td>\n",
       "      <td>0.218451</td>\n",
       "      <td>0.436543</td>\n",
       "      <td>0.577924</td>\n",
       "      <td>-0.276663</td>\n",
       "      <td>-0.541203</td>\n",
       "      <td>0.346583</td>\n",
       "    </tr>\n",
       "    <tr>\n",
       "      <th>1</th>\n",
       "      <td>53461</td>\n",
       "      <td>condominio horizontal venta</td>\n",
       "      <td>sonora guerrero atras hospital angeles pedrega...</td>\n",
       "      <td>Casa en condominio</td>\n",
       "      <td>av mexico</td>\n",
       "      <td>La Magdalena Contreras</td>\n",
       "      <td>Distrito Federal</td>\n",
       "      <td>10.0</td>\n",
       "      <td>3.0</td>\n",
       "      <td>2.0</td>\n",
       "      <td>2.0</td>\n",
       "      <td>268.0</td>\n",
       "      <td>180.0</td>\n",
       "      <td>24514.0</td>\n",
       "      <td>1.372378e+09</td>\n",
       "      <td>0.0</td>\n",
       "      <td>0.0</td>\n",
       "      <td>0.0</td>\n",
       "      <td>1.0</td>\n",
       "      <td>1.0</td>\n",
       "      <td>3600000.0</td>\n",
       "      <td>2013</td>\n",
       "      <td>6</td>\n",
       "      <td>28</td>\n",
       "      <td>0</td>\n",
       "      <td>...</td>\n",
       "      <td>-3.760964</td>\n",
       "      <td>0.545303</td>\n",
       "      <td>1.066880</td>\n",
       "      <td>0.768181</td>\n",
       "      <td>-1.879376</td>\n",
       "      <td>3.310025</td>\n",
       "      <td>0.593549</td>\n",
       "      <td>0.766504</td>\n",
       "      <td>0.241499</td>\n",
       "      <td>-1.118730</td>\n",
       "      <td>-0.257748</td>\n",
       "      <td>-0.676669</td>\n",
       "      <td>-1.178097</td>\n",
       "      <td>-1.433828</td>\n",
       "      <td>-0.212080</td>\n",
       "      <td>-0.197150</td>\n",
       "      <td>-0.994404</td>\n",
       "      <td>0.705909</td>\n",
       "      <td>-1.192330</td>\n",
       "      <td>-0.210889</td>\n",
       "      <td>-0.747146</td>\n",
       "      <td>0.049909</td>\n",
       "      <td>-0.199831</td>\n",
       "      <td>-0.106250</td>\n",
       "      <td>0.115323</td>\n",
       "    </tr>\n",
       "    <tr>\n",
       "      <th>2</th>\n",
       "      <td>247984</td>\n",
       "      <td>casa venta urbi recamaras tonala</td>\n",
       "      <td>descripcion mejor ubicacion residencial orient...</td>\n",
       "      <td>Casa</td>\n",
       "      <td>urbi tonala</td>\n",
       "      <td>Tonalá</td>\n",
       "      <td>Jalisco</td>\n",
       "      <td>5.0</td>\n",
       "      <td>3.0</td>\n",
       "      <td>2.0</td>\n",
       "      <td>2.0</td>\n",
       "      <td>144.0</td>\n",
       "      <td>166.0</td>\n",
       "      <td>48551.0</td>\n",
       "      <td>1.445040e+09</td>\n",
       "      <td>0.0</td>\n",
       "      <td>0.0</td>\n",
       "      <td>0.0</td>\n",
       "      <td>0.0</td>\n",
       "      <td>0.0</td>\n",
       "      <td>1200000.0</td>\n",
       "      <td>2015</td>\n",
       "      <td>10</td>\n",
       "      <td>17</td>\n",
       "      <td>1</td>\n",
       "      <td>...</td>\n",
       "      <td>4.681644</td>\n",
       "      <td>-1.222615</td>\n",
       "      <td>1.091579</td>\n",
       "      <td>-1.686539</td>\n",
       "      <td>-0.633549</td>\n",
       "      <td>-0.096443</td>\n",
       "      <td>0.335661</td>\n",
       "      <td>-1.274177</td>\n",
       "      <td>-0.440656</td>\n",
       "      <td>1.086566</td>\n",
       "      <td>-0.710657</td>\n",
       "      <td>0.669215</td>\n",
       "      <td>-0.498445</td>\n",
       "      <td>0.409227</td>\n",
       "      <td>0.305229</td>\n",
       "      <td>-0.402773</td>\n",
       "      <td>-0.271333</td>\n",
       "      <td>-0.297129</td>\n",
       "      <td>-0.410064</td>\n",
       "      <td>-0.208316</td>\n",
       "      <td>0.035621</td>\n",
       "      <td>0.024372</td>\n",
       "      <td>0.420333</td>\n",
       "      <td>0.464439</td>\n",
       "      <td>-0.062783</td>\n",
       "    </tr>\n",
       "    <tr>\n",
       "      <th>3</th>\n",
       "      <td>209067</td>\n",
       "      <td>casa sola toluca zinacantepec credito infonavi...</td>\n",
       "      <td>casa privada caseta vigilancia casas dos tres ...</td>\n",
       "      <td>Casa</td>\n",
       "      <td>ignacio manuel altamirano</td>\n",
       "      <td>Zinacantepec</td>\n",
       "      <td>Edo. de México</td>\n",
       "      <td>1.0</td>\n",
       "      <td>2.0</td>\n",
       "      <td>1.0</td>\n",
       "      <td>1.0</td>\n",
       "      <td>63.0</td>\n",
       "      <td>67.0</td>\n",
       "      <td>53666.0</td>\n",
       "      <td>1.331251e+09</td>\n",
       "      <td>0.0</td>\n",
       "      <td>0.0</td>\n",
       "      <td>0.0</td>\n",
       "      <td>1.0</td>\n",
       "      <td>1.0</td>\n",
       "      <td>650000.0</td>\n",
       "      <td>2012</td>\n",
       "      <td>3</td>\n",
       "      <td>9</td>\n",
       "      <td>0</td>\n",
       "      <td>...</td>\n",
       "      <td>7.605429</td>\n",
       "      <td>1.585403</td>\n",
       "      <td>0.247523</td>\n",
       "      <td>-1.417196</td>\n",
       "      <td>-0.849209</td>\n",
       "      <td>-1.078543</td>\n",
       "      <td>2.260079</td>\n",
       "      <td>-1.840012</td>\n",
       "      <td>-0.689938</td>\n",
       "      <td>1.191281</td>\n",
       "      <td>1.298142</td>\n",
       "      <td>2.601511</td>\n",
       "      <td>-0.178064</td>\n",
       "      <td>-0.721092</td>\n",
       "      <td>-0.386796</td>\n",
       "      <td>-1.130221</td>\n",
       "      <td>-0.370611</td>\n",
       "      <td>0.337399</td>\n",
       "      <td>0.354439</td>\n",
       "      <td>-0.631868</td>\n",
       "      <td>-0.195097</td>\n",
       "      <td>-0.224578</td>\n",
       "      <td>0.027137</td>\n",
       "      <td>0.165734</td>\n",
       "      <td>-0.125698</td>\n",
       "    </tr>\n",
       "    <tr>\n",
       "      <th>4</th>\n",
       "      <td>185997</td>\n",
       "      <td>paseos sol</td>\n",
       "      <td>bonito departamento excelentes condiciones bue...</td>\n",
       "      <td>Apartamento</td>\n",
       "      <td>paseos sol</td>\n",
       "      <td>Zapopan</td>\n",
       "      <td>Jalisco</td>\n",
       "      <td>10.0</td>\n",
       "      <td>2.0</td>\n",
       "      <td>1.0</td>\n",
       "      <td>1.0</td>\n",
       "      <td>95.0</td>\n",
       "      <td>95.0</td>\n",
       "      <td>47835.0</td>\n",
       "      <td>1.465258e+09</td>\n",
       "      <td>0.0</td>\n",
       "      <td>0.0</td>\n",
       "      <td>0.0</td>\n",
       "      <td>0.0</td>\n",
       "      <td>0.0</td>\n",
       "      <td>1150000.0</td>\n",
       "      <td>2016</td>\n",
       "      <td>6</td>\n",
       "      <td>7</td>\n",
       "      <td>1</td>\n",
       "      <td>...</td>\n",
       "      <td>6.001575</td>\n",
       "      <td>-0.468368</td>\n",
       "      <td>0.257609</td>\n",
       "      <td>3.826220</td>\n",
       "      <td>-0.360680</td>\n",
       "      <td>3.829142</td>\n",
       "      <td>-1.336377</td>\n",
       "      <td>-1.855867</td>\n",
       "      <td>1.629979</td>\n",
       "      <td>0.792477</td>\n",
       "      <td>0.740615</td>\n",
       "      <td>0.268475</td>\n",
       "      <td>1.912819</td>\n",
       "      <td>2.681912</td>\n",
       "      <td>0.007932</td>\n",
       "      <td>1.257526</td>\n",
       "      <td>-0.971464</td>\n",
       "      <td>-1.138787</td>\n",
       "      <td>0.785725</td>\n",
       "      <td>0.705656</td>\n",
       "      <td>-0.199633</td>\n",
       "      <td>-0.014512</td>\n",
       "      <td>0.950608</td>\n",
       "      <td>0.181802</td>\n",
       "      <td>-1.086842</td>\n",
       "    </tr>\n",
       "  </tbody>\n",
       "</table>\n",
       "<p>5 rows × 106 columns</p>\n",
       "</div>"
      ],
      "text/plain": [
       "       id                                             titulo  \\\n",
       "0  254099                                         depto tipo   \n",
       "1   53461                        condominio horizontal venta   \n",
       "2  247984                   casa venta urbi recamaras tonala   \n",
       "3  209067  casa sola toluca zinacantepec credito infonavi...   \n",
       "4  185997                                         paseos sol   \n",
       "\n",
       "                                         descripcion     tipodepropiedad  \\\n",
       "0  depto interior consta sala comedor cocina equi...         Apartamento   \n",
       "1  sonora guerrero atras hospital angeles pedrega...  Casa en condominio   \n",
       "2  descripcion mejor ubicacion residencial orient...                Casa   \n",
       "3  casa privada caseta vigilancia casas dos tres ...                Casa   \n",
       "4  bonito departamento excelentes condiciones bue...         Apartamento   \n",
       "\n",
       "                   direccion                  ciudad         provincia  \\\n",
       "0     avenida division norte           Benito Juárez  Distrito Federal   \n",
       "1                  av mexico  La Magdalena Contreras  Distrito Federal   \n",
       "2                urbi tonala                  Tonalá           Jalisco   \n",
       "3  ignacio manuel altamirano            Zinacantepec    Edo. de México   \n",
       "4                 paseos sol                 Zapopan           Jalisco   \n",
       "\n",
       "   antiguedad  habitaciones  garages  banos  metroscubiertos  metrostotales  \\\n",
       "0         NaN           2.0      1.0    2.0             80.0           80.0   \n",
       "1        10.0           3.0      2.0    2.0            268.0          180.0   \n",
       "2         5.0           3.0      2.0    2.0            144.0          166.0   \n",
       "3         1.0           2.0      1.0    1.0             63.0           67.0   \n",
       "4        10.0           2.0      1.0    1.0             95.0           95.0   \n",
       "\n",
       "    idzona         fecha  gimnasio  usosmultiples  piscina  escuelascercanas  \\\n",
       "0  23533.0  1.440288e+09       0.0            0.0      0.0               0.0   \n",
       "1  24514.0  1.372378e+09       0.0            0.0      0.0               1.0   \n",
       "2  48551.0  1.445040e+09       0.0            0.0      0.0               0.0   \n",
       "3  53666.0  1.331251e+09       0.0            0.0      0.0               1.0   \n",
       "4  47835.0  1.465258e+09       0.0            0.0      0.0               0.0   \n",
       "\n",
       "   centroscomercialescercanos     precio  anio  mes  dia  palabra_hermosa  \\\n",
       "0                         0.0  2273000.0  2015    8   23                0   \n",
       "1                         1.0  3600000.0  2013    6   28                0   \n",
       "2                         0.0  1200000.0  2015   10   17                1   \n",
       "3                         1.0   650000.0  2012    3    9                0   \n",
       "4                         0.0  1150000.0  2016    6    7                1   \n",
       "\n",
       "   ...  descripcion-feature-0  descripcion-feature-1  descripcion-feature-2  \\\n",
       "0  ...             -11.673375               2.514868               0.596685   \n",
       "1  ...              -3.760964               0.545303               1.066880   \n",
       "2  ...               4.681644              -1.222615               1.091579   \n",
       "3  ...               7.605429               1.585403               0.247523   \n",
       "4  ...               6.001575              -0.468368               0.257609   \n",
       "\n",
       "   descripcion-feature-3  descripcion-feature-4  descripcion-feature-5  \\\n",
       "0               1.268745              -1.060728              -1.375381   \n",
       "1               0.768181              -1.879376               3.310025   \n",
       "2              -1.686539              -0.633549              -0.096443   \n",
       "3              -1.417196              -0.849209              -1.078543   \n",
       "4               3.826220              -0.360680               3.829142   \n",
       "\n",
       "   descripcion-feature-6  descripcion-feature-7  descripcion-feature-8  \\\n",
       "0              -2.786111              -0.354453              -1.505592   \n",
       "1               0.593549               0.766504               0.241499   \n",
       "2               0.335661              -1.274177              -0.440656   \n",
       "3               2.260079              -1.840012              -0.689938   \n",
       "4              -1.336377              -1.855867               1.629979   \n",
       "\n",
       "   descripcion-feature-9  descripcion-feature-10  descripcion-feature-11  \\\n",
       "0               1.165114                1.784490               -0.629234   \n",
       "1              -1.118730               -0.257748               -0.676669   \n",
       "2               1.086566               -0.710657                0.669215   \n",
       "3               1.191281                1.298142                2.601511   \n",
       "4               0.792477                0.740615                0.268475   \n",
       "\n",
       "   descripcion-feature-12  descripcion-feature-13  descripcion-feature-14  \\\n",
       "0               -0.304889                0.012660               -0.729861   \n",
       "1               -1.178097               -1.433828               -0.212080   \n",
       "2               -0.498445                0.409227                0.305229   \n",
       "3               -0.178064               -0.721092               -0.386796   \n",
       "4                1.912819                2.681912                0.007932   \n",
       "\n",
       "   descripcion-feature-15  descripcion-feature-16  descripcion-feature-17  \\\n",
       "0                0.970246               -0.558811               -0.283312   \n",
       "1               -0.197150               -0.994404                0.705909   \n",
       "2               -0.402773               -0.271333               -0.297129   \n",
       "3               -1.130221               -0.370611                0.337399   \n",
       "4                1.257526               -0.971464               -1.138787   \n",
       "\n",
       "   descripcion-feature-18  descripcion-feature-19  descripcion-feature-20  \\\n",
       "0                0.174303                0.218451                0.436543   \n",
       "1               -1.192330               -0.210889               -0.747146   \n",
       "2               -0.410064               -0.208316                0.035621   \n",
       "3                0.354439               -0.631868               -0.195097   \n",
       "4                0.785725                0.705656               -0.199633   \n",
       "\n",
       "   descripcion-feature-21  descripcion-feature-22  descripcion-feature-23  \\\n",
       "0                0.577924               -0.276663               -0.541203   \n",
       "1                0.049909               -0.199831               -0.106250   \n",
       "2                0.024372                0.420333                0.464439   \n",
       "3               -0.224578                0.027137                0.165734   \n",
       "4               -0.014512                0.950608                0.181802   \n",
       "\n",
       "   descripcion-feature-24  \n",
       "0                0.346583  \n",
       "1                0.115323  \n",
       "2               -0.062783  \n",
       "3               -0.125698  \n",
       "4               -1.086842  \n",
       "\n",
       "[5 rows x 106 columns]"
      ]
     },
     "execution_count": 9,
     "metadata": {},
     "output_type": "execute_result"
    }
   ],
   "source": [
    "df_train.head()"
   ]
  },
  {
   "cell_type": "markdown",
   "metadata": {},
   "source": [
    "## Pre-processing"
   ]
  },
  {
   "cell_type": "code",
   "execution_count": 10,
   "metadata": {},
   "outputs": [],
   "source": [
    "from sklearn.model_selection import train_test_split\n",
    "from sklearn.linear_model import LogisticRegression\n",
    "from sklearn.preprocessing import OneHotEncoder \n",
    "from sklearn.preprocessing import Imputer\n",
    "from sklearn.metrics import mean_absolute_error\n",
    "from sklearn.metrics import mean_squared_error"
   ]
  },
  {
   "cell_type": "code",
   "execution_count": 11,
   "metadata": {},
   "outputs": [],
   "source": [
    "def getDropCols():\n",
    "    return ['titulo', 'descripcion', 'direccion', 'id', 'dia', 'mes'] # temporal\n",
    "\n",
    "def getOneHotCols():\n",
    "    return ['tipodepropiedad', 'provincia']\n",
    "\n",
    "def getBinaryCols():\n",
    "    return ['ciudad', 'idzona']"
   ]
  },
  {
   "cell_type": "code",
   "execution_count": 12,
   "metadata": {},
   "outputs": [],
   "source": [
    "def preprocess(df, OHE, BE, encodingType):\n",
    "    features = df.copy()\n",
    "    drop_cols = getDropCols()\n",
    "    features = features.drop(drop_cols, axis=1)\n",
    "\n",
    "    if (encodingType == 'train'):\n",
    "        features = OHE.fit_transform(features)\n",
    "        features = BE.fit_transform(features)\n",
    "    else:\n",
    "        features = OHE.transform(features)\n",
    "        features = BE.transform(features)\n",
    "        \n",
    "    drop_cols = getOneHotCols()\n",
    "    drop_cols.extend(getBinaryCols())\n",
    "\n",
    "    display(drop_cols)\n",
    "                \n",
    "    #features = features.drop(drop_cols, axis=1)\n",
    "    \n",
    "    features = fill_m2(features)\n",
    "    \n",
    "    features_with_nans = features.columns[features.isna().any()].tolist()\n",
    "    \n",
    "    for feature in features_with_nans:\n",
    "        features[feature] = features[feature].fillna(0)\n",
    "        \n",
    "    #imp = Imputer()\n",
    "    #imp_cols = ['antiguedad', 'banos', 'habitaciones', 'garages']\n",
    "    #X_train[imp_cols] = imp.fit_transform(X_train[imp_cols])\n",
    "        \n",
    "    return features    "
   ]
  },
  {
   "cell_type": "code",
   "execution_count": 13,
   "metadata": {},
   "outputs": [],
   "source": [
    "import category_encoders as ce\n",
    "\n",
    "OHE = ce.OneHotEncoder(cols=getOneHotCols(), handle_unknown='ignore', use_cat_names=True)\n",
    "BE = ce.BinaryEncoder(cols=getBinaryCols(), handle_unknown='ignore')"
   ]
  },
  {
   "cell_type": "code",
   "execution_count": 14,
   "metadata": {},
   "outputs": [],
   "source": [
    "X = df_train.drop(\"precio\", axis=1)\n",
    "y = df_train['precio']\n",
    "X_train, X_test, y_train, y_test = train_test_split(X, y, test_size=0.25, random_state=42)"
   ]
  },
  {
   "cell_type": "code",
   "execution_count": 15,
   "metadata": {},
   "outputs": [],
   "source": [
    "X_train_submit = X_train.copy()"
   ]
  },
  {
   "cell_type": "code",
   "execution_count": 16,
   "metadata": {},
   "outputs": [
    {
     "data": {
      "text/plain": [
       "['tipodepropiedad', 'provincia', 'ciudad', 'idzona']"
      ]
     },
     "metadata": {},
     "output_type": "display_data"
    },
    {
     "data": {
      "text/plain": [
       "['tipodepropiedad', 'provincia', 'ciudad', 'idzona']"
      ]
     },
     "metadata": {},
     "output_type": "display_data"
    }
   ],
   "source": [
    "\n",
    "X_train = preprocess(X_train, OHE, BE, 'train')\n",
    "X_test = preprocess(X_test, OHE, BE, 'test')"
   ]
  },
  {
   "cell_type": "code",
   "execution_count": 17,
   "metadata": {},
   "outputs": [
    {
     "name": "stdout",
     "output_type": "stream",
     "text": [
      "Original shapes: X=(240000, 105) y=(240000,)\n",
      "Train shapes: X=(180000, 179) y=(180000,)\n",
      "Test  shapes: X=(60000, 179)  y=(60000,)\n"
     ]
    }
   ],
   "source": [
    "print(f\"Original shapes: X={X.shape} y={y.shape}\")\n",
    "print(f\"Train shapes: X={X_train.shape} y={y_train.shape}\")\n",
    "print(f\"Test  shapes: X={X_test.shape}  y={y_test.shape}\")"
   ]
  },
  {
   "cell_type": "markdown",
   "metadata": {},
   "source": [
    "## Feature Selection"
   ]
  },
  {
   "cell_type": "code",
   "execution_count": 18,
   "metadata": {},
   "outputs": [],
   "source": [
    "#from sklearn.feature_selection import SelectKBest"
   ]
  },
  {
   "cell_type": "code",
   "execution_count": 19,
   "metadata": {},
   "outputs": [],
   "source": [
    "#selection = SelectKBest(k=40)\n",
    "#x_features = selection.fit_transform(X_train, y_train)\n",
    "#columns = np.asarray(X_train.columns.values)\n",
    "#support = np.asarray(selection.get_support())\n",
    "#columns_with_support = columns[support]"
   ]
  },
  {
   "cell_type": "code",
   "execution_count": 20,
   "metadata": {},
   "outputs": [],
   "source": [
    "#columns_with_support"
   ]
  },
  {
   "cell_type": "markdown",
   "metadata": {},
   "source": [
    "## Training"
   ]
  },
  {
   "cell_type": "code",
   "execution_count": 21,
   "metadata": {},
   "outputs": [],
   "source": [
    "features = X_train.columns\n",
    "X_train.columns = list(range(0,X_train.shape[1]))\n",
    "X_test.columns = list(range(0,X_test.shape[1]))"
   ]
  },
  {
   "cell_type": "code",
   "execution_count": 28,
   "metadata": {},
   "outputs": [
    {
     "data": {
      "text/plain": [
       "XGBRegressor(base_score=0.5, booster='gbtree', colsample_bylevel=1,\n",
       "             colsample_bynode=1, colsample_bytree=0.5, gamma=1,\n",
       "             importance_type='gain', learning_rate=0.1, max_delta_step=0,\n",
       "             max_depth=14, min_child_weight=10, missing=None, n_estimators=1000,\n",
       "             n_jobs=3, nthread=None, objective='reg:squarederror',\n",
       "             random_state=0, reg_alpha=0, reg_lambda=1, scale_pos_weight=1,\n",
       "             seed=None, silent=None, subsample=1, verbosity=1)"
      ]
     },
     "execution_count": 28,
     "metadata": {},
     "output_type": "execute_result"
    }
   ],
   "source": [
    "from xgboost import XGBRegressor\n",
    "\n",
    "model = XGBRegressor(n_estimators=1000,n_jobs=3,objective=\"reg:squarederror\", max_depth= 14,min_child_weight = 10,colsample_bytree=0.5, gamma=1, learning_rate=0.1, subsample=1,)\n",
    "model"
   ]
  },
  {
   "cell_type": "code",
   "execution_count": 29,
   "metadata": {},
   "outputs": [
    {
     "name": "stdout",
     "output_type": "stream",
     "text": [
      "--- 1196.6715824604034 seconds ---\n"
     ]
    }
   ],
   "source": [
    "import time\n",
    "start_time = time.time()\n",
    "model.fit(X_train, y_train)\n",
    "\n",
    "print(\"--- %s seconds ---\" % (time.time() - start_time))"
   ]
  },
  {
   "cell_type": "code",
   "execution_count": 30,
   "metadata": {},
   "outputs": [],
   "source": [
    "plt.rcParams[\"figure.figsize\"] = [15, 15]\n",
    "\n",
    "importancia = model.feature_importances_\n",
    "\n",
    "d = {'x':features,'y':importancia}\n",
    "\n",
    "df_importancia = pd.DataFrame(d)"
   ]
  },
  {
   "cell_type": "code",
   "execution_count": 31,
   "metadata": {},
   "outputs": [
    {
     "data": {
      "image/png": "[encoded data removed]",
      "text/plain": [
       "<Figure size 1500x1500 with 1 Axes>"
      ]
     },
     "metadata": {},
     "output_type": "display_data"
    }
   ],
   "source": [
    "importancia = df_importancia.sort_values(by=\"y\",ascending=False).head(40)\n",
    "ax = plt.barh(importancia.x,importancia.y)"
   ]
  },
  {
   "cell_type": "markdown",
   "metadata": {},
   "source": [
    "## Predicciones"
   ]
  },
  {
   "cell_type": "code",
   "execution_count": 32,
   "metadata": {},
   "outputs": [],
   "source": [
    "def predecir(model, train_features, train_labels, test_features, test_labels):\n",
    "    predict = model.predict(test_features)\n",
    "    print('Entrenamiento: {:0.4f}%'.format(model.score(train_features, train_labels)*100))\n",
    "    \n",
    "    if ~test_labels.empty:\n",
    "        error = mean_absolute_error(test_labels, predict)\n",
    "        score = model.score(test_features,test_labels)\n",
    "        print('Testeo: {:0.4f}%.'.format(score*100))\n",
    "        print('Mean abs error: {:0.4f}.'.format(error))\n",
    "    \n",
    "    return predict"
   ]
  },
  {
   "cell_type": "code",
   "execution_count": 33,
   "metadata": {},
   "outputs": [
    {
     "name": "stdout",
     "output_type": "stream",
     "text": [
      "Entrenamiento: 99.9237%\n",
      "Testeo: 81.5070%.\n",
      "Mean abs error: 548441.6973.\n"
     ]
    },
    {
     "data": {
      "text/plain": [
       "array([3286959.2, 2480420.2, 6528677. , ..., 2198565.2, 2465670.2,\n",
       "       1373010.5], dtype=float32)"
      ]
     },
     "execution_count": 33,
     "metadata": {},
     "output_type": "execute_result"
    }
   ],
   "source": [
    "predecir(model, X_train, y_train, X_test, y_test)"
   ]
  },
  {
   "cell_type": "code",
   "execution_count": null,
   "metadata": {},
   "outputs": [],
   "source": []
  },
  {
   "cell_type": "code",
   "execution_count": null,
   "metadata": {},
   "outputs": [],
   "source": []
  },
  {
   "cell_type": "markdown",
   "metadata": {},
   "source": [
    "## Submission"
   ]
  },
  {
   "cell_type": "code",
   "execution_count": 85,
   "metadata": {},
   "outputs": [],
   "source": [
    "df_test = pd.read_csv('../data/test.csv')"
   ]
  },
  {
   "cell_type": "code",
   "execution_count": 86,
   "metadata": {},
   "outputs": [],
   "source": [
    "df_test['fecha'] = pd.to_datetime(df_test['fecha'], errors='coerce')\n",
    "df_test['anio'] = df_test['fecha'].dt.year\n",
    "df_test[\"mes\"] = df_test['fecha'].dt.month\n",
    "df_test[\"dia\"] = df_test['fecha'].dt.day\n",
    "df_test['fecha'] = df_test['fecha'].astype(int) / 10**9\n",
    "\n",
    "df_test = df_test.drop(columns=[\"lat\",\"lng\"])\n",
    "\n",
    "df_test[\"descripcion\"] = df_test[\"descripcion\"].fillna(\"\")\n",
    "df_test[\"titulo\"] = df_test[\"titulo\"].fillna(\"\")"
   ]
  },
  {
   "cell_type": "code",
   "execution_count": 87,
   "metadata": {},
   "outputs": [],
   "source": [
    "def contiene(df, columna, palabra):\n",
    "    return df[columna].str.contains(palabra).astype(int)"
   ]
  },
  {
   "cell_type": "code",
   "execution_count": 88,
   "metadata": {},
   "outputs": [],
   "source": [
    "def contiene_alguna(df, columna, palabras):\n",
    "    result = df[columna].apply(lambda x: 0)\n",
    "    for palabra in palabras:\n",
    "        result = result | contiene(df, columna, palabra)\n",
    "        \n",
    "    return result    "
   ]
  },
  {
   "cell_type": "code",
   "execution_count": 89,
   "metadata": {},
   "outputs": [],
   "source": [
    "df = df_test.copy()"
   ]
  },
  {
   "cell_type": "code",
   "execution_count": 90,
   "metadata": {},
   "outputs": [],
   "source": [
    "# del wordcloud\n",
    "df[\"palabra_hermosa\"] = contiene_alguna(df, \"descripcion\", [\"hermosa\", \"bonita\", \"bonito\", \"linda\", \"cholula\", \"cholulo\", \"preciosa\", \"precioso\"]) | contiene_alguna(df, \"titulo\", [\"hermosa\", \"bonita\", \"bonito\", \"linda\", \"cholula\", \"cholulo\", \"precioso\", \"preciosa\"])\n",
    "df[\"palabra_excelente\"] = contiene_alguna(df, \"descripcion\", [\"excelente\", \"excelentes\"]) | contiene_alguna(df, \"titulo\", [\"excelente\", \"excelentes\"])\n",
    "df[\"palabra_mejor\"] = contiene_alguna(df, \"descripcion\", [\"mejor\", \"mejores\"]) | contiene_alguna(df, \"titulo\", [\"mejor\", \"mejores\"])\n",
    "df[\"palabra_grande\"] = contiene_alguna(df, \"descripcion\", [\"grande\", \"gran\", \"amplia\", \"amplias\", \"amplio\", \"amplios\"]) | contiene_alguna(df, \"titulo\", [\"grande\", \"gran\", \"amplia\", \"amplias\", \"amplio\", \"amplios\"])\n",
    "df[\"palabra_equipada\"] = contiene_alguna(df, \"descripcion\", [\"equipada\", \"equipado\", \"completa\", \"completo\"]) | contiene_alguna(df, \"descripcion\", [\"equipada\", \"equipado\", \"completa\", \"completo\"])\n",
    "df[\"palabra_vestidor\"] = contiene_alguna(df, \"descripcion\", [\"vestidor\", \"closet\"]) | contiene_alguna(df, \"titulo\", [\"vestidor\", \"closet\"])\n",
    "df[\"palabra_credito\"] = contiene_alguna(df, \"descripcion\", [\"credito\", \"crédito\", \"créditos\", \"creditos\", \"banco\", \"banca\", \"bancario\", \"bancarios\", \"hipoteca\"]) | contiene_alguna(df, \"titulo\", [\"credito\", \"crédito\", \"créditos\", \"creditos\", \"banco\", \"banca\", \"bancario\", \"bancarios\", \"hipoteca\"])\n",
    "df[\"palabra_privada\"] = contiene_alguna(df, \"descripcion\", [\"privada\", \"privado\"]) | contiene_alguna(df, \"titulo\", [\"privada\", \"privado\"])\n",
    "df[\"palabra_bodega\"] = contiene_alguna(df, \"descripcion\", [\"bodega\"]) | contiene_alguna(df, \"titulo\", [\"bodega\"])\n",
    "df[\"palabra_club\"] = contiene_alguna(df, \"descripcion\", [\"club\"]) | contiene_alguna(df, \"titulo\", [\"club\"])\n",
    "df[\"palabra_cerrada\"] = contiene_alguna(df, \"descripcion\", [\"cerrada\", \"cerrado\"]) | contiene_alguna(df, \"titulo\", [\"cerrada\", \"cerrado\"])\n",
    "df[\"palabra_jardin\"] = contiene_alguna(df, \"descripcion\", [\"jardin\", \"jardín\", \"garden\", \"patio\"]) | contiene_alguna(df, \"titulo\", [\"jardin\", \"jardín\", \"garden\", \"patio\"])\n",
    "df[\"palabra_oportunidad\"] = contiene_alguna(df, \"descripcion\", [\"oportunidad\"]) | contiene_alguna(df, \"titulo\", [\"oportunidad\"])\n",
    "df[\"palabra_tv\"] = contiene_alguna(df, \"descripcion\", [\"tv\", \"tele\", \"television\", \"televisión\", \"televisor\"]) | contiene_alguna(df, \"titulo\", [\"tv\", \"tele\", \"television\", \"televisión\", \"televisor\"])\n",
    "df[\"palabra_juegos\"] = contiene_alguna(df, \"descripcion\", [\"juego\"]) | contiene_alguna(df, \"titulo\", [\"juego\"])\n",
    "df[\"palabra_niño\"] = contiene_alguna(df, \"descripcion\", [\"niño\", \"niña\", \"infantil\"]) | contiene_alguna(df, \"titulo\", [\"niño\", \"niña\", \"infantil\"])\n",
    "df[\"palabra_transporte\"] = contiene_alguna(df, \"descripcion\", [\"transporte\"]) | contiene_alguna(df, \"titulo\", [\"transporte\"])\n",
    "df[\"palabra_estudio\"] = contiene_alguna(df, \"descripcion\", [\"estudio\"]) | contiene_alguna(df, \"titulo\", [\"estudio\"])\n",
    "df[\"palabra_terraza\"] = contiene_alguna(df, \"descripcion\", [\"terraza\"]) | contiene_alguna(df, \"titulo\", [\"terraza\"])\n",
    "df[\"palabra_balcon\"] = contiene_alguna(df, \"descripcion\", [\"balcón\", \"balcon\"]) | contiene_alguna(df, \"titulo\", [\"balcón\", \"balcon\"])\n",
    "df[\"palabra_lote\"] = contiene_alguna(df, \"descripcion\", [\"lote\", \"terreno\"]) | contiene_alguna(df, \"titulo\", [\"lote\", \"terreno\"])\n",
    "df[\"palabra_fraccionamiento\"] = contiene_alguna(df, \"descripcion\", [\"fraccionamiento\", \"fracc\"]) | contiene_alguna(df, \"titulo\", [\"fraccionamiento\", \"fracc\"])\n",
    "df[\"palabra_local\"] = contiene_alguna(df, \"descripcion\", [\"local\", \"tienda\", \"comercial\"]) | contiene_alguna(df, \"titulo\", [\"local\", \"tienda\", \"comercial\"])\n",
    "df[\"palabra_seguridad\"] = contiene_alguna(df, \"descripcion\", [\"vigilancia\", \"vigilador\", \"seguridad\", \"guardia\"]) | contiene_alguna(df, \"titulo\", [\"vigilancia\", \"vigilador\", \"seguridad\", \"guardia\"])\n",
    "df[\"palabra_garage\"] = contiene_alguna(df, \"descripcion\", [\"garage\", \"auto\", \"estacionamiento\"]) | contiene_alguna(df, \"titulo\", [\"garage\", \"auto\", \"estacionamiento\"])\n",
    "df[\"palabra_centro\"] = contiene_alguna(df, \"descripcion\", [\"centro\", \"central\", \"cercano\", \"cercania\", \"minuto\"]) | contiene_alguna(df, \"titulo\", [\"centro\", \"central\", \"cercano\", \"cercania\", \"minuto\"])\n",
    "df[\"palabra_techada\"] = contiene_alguna(df, \"descripcion\", [\"techada\", \"techado\", \"roof\"]) | contiene_alguna(df, \"titulo\", [\"techada\", \"techado\", \"roof\"])\n",
    "df[\"palabra_estancia\"] = contiene_alguna(df, \"descripcion\", [\"estancia\"]) | contiene_alguna(df, \"titulo\", [\"estancia\"])\n",
    "df[\"palabra_alberca\"] = contiene_alguna(df, \"descripcion\", [\"alberca\"]) | contiene_alguna(df, \"titulo\", [\"alberca\"])\n",
    "df[\"palabra_servicios\"] = contiene_alguna(df, \"descripcion\", [\"servicios\"]) | contiene_alguna(df, \"titulo\", [\"servicios\"])\n",
    "df[\"palabra_servicio\"] = contiene_alguna(df, \"descripcion\", [\"servicio\"]) | contiene_alguna(df, \"titulo\", [\"servicio\"])\n",
    "df[\"palabra_estilo\"] = contiene_alguna(df, \"descripcion\", [\"estilo\"]) | contiene_alguna(df, \"titulo\", [\"estilo\"])\n",
    "df[\"palabra_frente\"] = contiene_alguna(df, \"descripcion\", [\"frente\"]) | contiene_alguna(df, \"titulo\", [\"frente\"])\n",
    "df[\"palabra_vista\"] = contiene_alguna(df, \"descripcion\", [\"vista\"]) | contiene_alguna(df, \"titulo\", [\"vista\"])\n",
    "df[\"palabra_visitas\"] = contiene_alguna(df, \"descripcion\", [\"visita\"]) | contiene_alguna(df, \"titulo\", [\"visita\"])\n",
    "df[\"palabra_parque\"] = contiene_alguna(df, \"descripcion\", [\"parque\", \"plaza\", \"verde\"]) | contiene_alguna(df, \"titulo\", [\"parque\", \"plaza\", \"verde\"])\n",
    "df[\"palabra_areas\"] = contiene_alguna(df, \"descripcion\", [\"area\", \"área\"]) | contiene_alguna(df, \"titulo\", [\"area\", \"área\"])\n",
    "df[\"palabra_estrenar\"] = contiene_alguna(df, \"descripcion\", [\"estrenar\", \"estreno\", \"estrene\"]) | contiene_alguna(df, \"titulo\", [\"estrenar\", \"estreno\", \"estrene\"])\n",
    "df[\"palabra_infonavit\"] = contiene_alguna(df, \"descripcion\", [\"infonavit\"]) | contiene_alguna(df, \"titulo\", [\"infonavit\"])\n",
    "df[\"palabra_residencial\"] = contiene_alguna(df, \"descripcion\", [\"residencia\"]) | contiene_alguna(df, \"titulo\", [\"residencia\"])\n",
    "df[\"palabra_escuela\"] = contiene_alguna(df, \"descripcion\", [\"escuela\", \"colegio\", \"educacion\", \"educación\", \"uni\", \"universidad\", \"facultad\"]) | contiene_alguna(df, \"titulo\", [\"escuela\", \"colegio\", \"educacion\", \"educación\", \"uni\", \"universidad\", \"facultad\"])\n",
    "df[\"palabra_exclusivo\"] = contiene_alguna(df, \"descripcion\", [\"exclusivo\", \"exclusividad\"]) | contiene_alguna(df, \"titulo\", [\"exclusivo\", \"exclusividad\"])\n",
    "df[\"palabra_lujo\"] = contiene_alguna(df, \"descripcion\", [\"lujo\"]) | contiene_alguna(df, \"titulo\", [\"lujo\"])\n",
    "df[\"palabra_esquina\"] = contiene_alguna(df, \"descripcion\", [\"esquina\"]) | contiene_alguna(df, \"titulo\", [\"esquina\"])\n",
    "df[\"palabra_refaccion\"] = contiene_alguna(df, \"descripcion\", [\"refaccion\", \"refacción\", \"reacondicionado\", \"remodelada\", \"remodelado\"]) | contiene_alguna(df, \"titulo\", [\"refaccion\", \"refacción\", \"reacondicionado\", \"remodelada\", \"remodelado\"])\n",
    "df[\"palabra_country\"] = contiene_alguna(df, \"descripcion\", [\"country\"]) | contiene_alguna(df, \"titulo\", [\"country\"])\n",
    "df[\"palabra_barra\"] = contiene_alguna(df, \"descripcion\", [\"barra\"]) | contiene_alguna(df, \"titulo\", [\"barra\"])\n",
    "df[\"palabra_lavado\"] = contiene_alguna(df, \"descripcion\", [\"lavado\"]) | contiene_alguna(df, \"titulo\", [\"lavado\"])\n",
    "df[\"palabra_renta\"] = contiene_alguna(df, \"descripcion\", [\"renta\", \"alquiler\", \"alquilar\"]) | contiene_alguna(df, \"titulo\", [\"renta\", \"alquiler\", \"alquilar\"])\n",
    "df[\"palabra_super\"] = contiene_alguna(df, \"descripcion\", [\"super\"]) | contiene_alguna(df, \"titulo\", [\"super\"])\n",
    "df[\"palabra_lago\"] = contiene_alguna(df, \"descripcion\", [\"lago\"]) | contiene_alguna(df, \"titulo\", [\"lago\"])\n",
    "df[\"palabra_bosque\"] = contiene_alguna(df, \"descripcion\", [\"bosque\", \"arbol\", \"árbol\"]) | contiene_alguna(df, \"titulo\", [\"bosque\", \"arbol\", \"árbol\"])\n",
    "df[\"palabra_avenida\"] = contiene_alguna(df, \"descripcion\", [\"av\", \"avenida\"]) | contiene_alguna(df, \"titulo\", [\"av\", \"avenida\"])\n",
    "df[\"palabra_hospital\"] = contiene_alguna(df, \"descripcion\", [\"hospital\", \"medicina\", \"medico\", \"médico\", \"farmacia\"]) | contiene_alguna(df, \"titulo\", [\"hospital\", \"medicina\", \"medico\", \"médico\", \"farmacia\"])\n",
    "#df[\"palabra_pileta\"] = contiene_alguna(df, \"descripcion\", [\"pileta\", \"piscina\", \"jacuzzi\"]) | contiene_alguna(df, \"titulo\", [\"pileta\", \"piscina\", \"jacuzzi\"])\n",
    "#df[\"palabra_solarium\"] = contiene_alguna(df, \"descripcion\", [\"solarium\"]) | contiene_alguna(df, \"titulo\", [\"solarium\"])\n",
    "#df[\"palabra_gas\"] = contiene_alguna(df, \"descripcion\", [\"gas\", \"estufa\"]) | contiene_alguna(df, \"titulo\", [\"gas\", \"estufa\"])\n",
    "\n",
    "\n"
   ]
  },
  {
   "cell_type": "code",
   "execution_count": 91,
   "metadata": {},
   "outputs": [
    {
     "data": {
      "text/plain": [
       "['tipodepropiedad', 'provincia', 'ciudad', 'idzona']"
      ]
     },
     "metadata": {},
     "output_type": "display_data"
    },
    {
     "data": {
      "text/plain": [
       "['tipodepropiedad', 'provincia', 'ciudad', 'idzona']"
      ]
     },
     "metadata": {},
     "output_type": "display_data"
    }
   ],
   "source": [
    "X_train_submit = preprocess(X_train_submit, OHE, BE, 'train')\n",
    "df = preprocess(df, OHE, BE, 'test')"
   ]
  },
  {
   "cell_type": "code",
   "execution_count": 92,
   "metadata": {},
   "outputs": [
    {
     "name": "stdout",
     "output_type": "stream",
     "text": [
      "Train shapes: X=(180000, 151) y=(240000,)\n",
      "Test  shapes: X=(60000, 151)\n"
     ]
    }
   ],
   "source": [
    "print(f\"Train shapes: X={X_train_submit.shape} y={y.shape}\")\n",
    "print(f\"Test  shapes: X={df.shape}\")"
   ]
  },
  {
   "cell_type": "code",
   "execution_count": 95,
   "metadata": {},
   "outputs": [
    {
     "name": "stdout",
     "output_type": "stream",
     "text": [
      "Entrenamiento: 88.0435%\n"
     ]
    }
   ],
   "source": [
    "submit_prediction = predecir(model, X_train_submit, y_train, df, None)"
   ]
  },
  {
   "cell_type": "code",
   "execution_count": null,
   "metadata": {},
   "outputs": [],
   "source": []
  },
  {
   "cell_type": "code",
   "execution_count": 80,
   "metadata": {},
   "outputs": [
    {
     "data": {
      "text/plain": [
       "['tipodepropiedad_Garage']"
      ]
     },
     "metadata": {},
     "output_type": "display_data"
    }
   ],
   "source": [
    "#cols_diff = []\n",
    "#ft = X_train.columns.values\n",
    "#fs = df.columns.values\n",
    "#for feat in fs:\n",
    "#    if feat not in ft:\n",
    "#        cols_diff.append(feat)\n",
    "        \n",
    "#display(cols_diff)        "
   ]
  },
  {
   "cell_type": "code",
   "execution_count": 122,
   "metadata": {},
   "outputs": [],
   "source": [
    "#pd.concat([df_test[['id']], pd.Series(submit_prediction)], axis=1).rename(columns={0:\"target\"}).to_csv(\"../data/submission13.csv\", index=False)"
   ]
  },
  {
   "cell_type": "code",
   "execution_count": 112,
   "metadata": {},
   "outputs": [],
   "source": [
    "from submission_helper import submission_output\n",
    "\n",
    "output = submission_output(df_test, submit_prediction)\n",
    "\n",
    "output.to_csv('../data/submission13.csv', index=False)"
   ]
  },
  {
   "cell_type": "code",
   "execution_count": null,
   "metadata": {},
   "outputs": [],
   "source": []
  }
 ],
 "metadata": {
  "kernelspec": {
   "display_name": "Python 3",
   "language": "python",
   "name": "python3"
  },
  "language_info": {
   "codemirror_mode": {
    "name": "ipython",
    "version": 3
   },
   "file_extension": ".py",
   "mimetype": "text/x-python",
   "name": "python",
   "nbconvert_exporter": "python",
   "pygments_lexer": "ipython3",
   "version": "3.7.5rc1"
  }
 },
 "nbformat": 4,
 "nbformat_minor": 2
}

{
 "cells": [
  {
   "cell_type": "code",
   "execution_count": 1,
   "metadata": {},
   "outputs": [],
   "source": [
    "import pandas as pd\n",
    "import numpy as np\n",
    "import seaborn as sns\n",
    "import matplotlib\n",
    "import matplotlib.pyplot as plt\n",
    "import warnings\n",
    "import time\n",
    "\n",
    "import Featurizer as ft\n",
    "\n",
    "warnings.filterwarnings('ignore')\n",
    "\n",
    "%matplotlib inline\n",
    "sns.set(style='white', context='notebook', palette='deep')\n",
    "%config InlineBackend.figure_format = 'png' #set 'png' here when working on notebook\n",
    "pd.set_option('display.max_columns', 50)\n"
   ]
  },
  {
   "cell_type": "code",
   "execution_count": 2,
   "metadata": {},
   "outputs": [],
   "source": [
    "from sklearn.model_selection import train_test_split\n",
    "from sklearn.linear_model import LogisticRegression\n",
    "from sklearn.preprocessing import OneHotEncoder \n",
    "from sklearn.preprocessing import Imputer\n",
    "from sklearn.metrics import mean_absolute_error\n",
    "from sklearn.metrics import mean_squared_error"
   ]
  },
  {
   "cell_type": "code",
   "execution_count": 3,
   "metadata": {},
   "outputs": [],
   "source": [
    "plt.style.use('default')\n",
    "plt.rcParams['figure.figsize'] = [12.0,8.0]"
   ]
  },
  {
   "cell_type": "code",
   "execution_count": 27,
   "metadata": {},
   "outputs": [],
   "source": [
    "df_train = pd.read_csv(\"../data/palabras.csv\")"
   ]
  },
  {
   "cell_type": "markdown",
   "metadata": {},
   "source": [
    "## Pre-processing"
   ]
  },
  {
   "cell_type": "code",
   "execution_count": 28,
   "metadata": {},
   "outputs": [],
   "source": [
    "X = df_train.drop(\"precio\", axis=1)\n",
    "y = df_train['precio']\n",
    "X_train, X_test, y_train, y_test = train_test_split(X, y, test_size=0.25, shuffle=False)"
   ]
  },
  {
   "cell_type": "code",
   "execution_count": 29,
   "metadata": {},
   "outputs": [],
   "source": [
    "X_train_submit = X_train.copy()"
   ]
  },
  {
   "cell_type": "code",
   "execution_count": 30,
   "metadata": {},
   "outputs": [],
   "source": [
    "import category_encoders as ce\n",
    "\n",
    "OHE = ce.OneHotEncoder( handle_unknown='ignore', use_cat_names=True)\n",
    "BE = ce.BinaryEncoder( handle_unknown='ignore')"
   ]
  },
  {
   "cell_type": "code",
   "execution_count": 31,
   "metadata": {},
   "outputs": [
    {
     "name": "stdout",
     "output_type": "stream",
     "text": [
      "--- 10.42476201057434 seconds ---\n",
      "--- 4.778096914291382 seconds ---\n"
     ]
    }
   ],
   "source": [
    "X_train = ft.preprocess(X_train, OHE, BE, 'train')\n",
    "X_test = ft.preprocess(X_test, OHE, BE, 'test')"
   ]
  },
  {
   "cell_type": "code",
   "execution_count": 32,
   "metadata": {},
   "outputs": [
    {
     "name": "stdout",
     "output_type": "stream",
     "text": [
      "Original shapes: X=(240000, 80) y=(240000,)\n",
      "Train shapes: X=(180000, 166) y=(180000,)\n",
      "Test  shapes: X=(60000, 166)  y=(60000,)\n"
     ]
    }
   ],
   "source": [
    "print(f\"Original shapes: X={X.shape} y={y.shape}\")\n",
    "print(f\"Train shapes: X={X_train.shape} y={y_train.shape}\")\n",
    "print(f\"Test  shapes: X={X_test.shape}  y={y_test.shape}\")"
   ]
  },
  {
   "cell_type": "markdown",
   "metadata": {},
   "source": [
    "## Feature Selection"
   ]
  },
  {
   "cell_type": "code",
   "execution_count": 12,
   "metadata": {},
   "outputs": [],
   "source": [
    "#from sklearn.feature_selection import SelectKBest"
   ]
  },
  {
   "cell_type": "code",
   "execution_count": 13,
   "metadata": {},
   "outputs": [],
   "source": [
    "#selection = SelectKBest(k=40)\n",
    "#x_features = selection.fit_transform(X_train, y_train)\n",
    "#columns = np.asarray(X_train.columns.values)\n",
    "#support = np.asarray(selection.get_support())\n",
    "#columns_with_support = columns[support]"
   ]
  },
  {
   "cell_type": "code",
   "execution_count": 14,
   "metadata": {},
   "outputs": [],
   "source": [
    "#columns_with_support"
   ]
  },
  {
   "cell_type": "markdown",
   "metadata": {},
   "source": [
    "## Training"
   ]
  },
  {
   "cell_type": "code",
   "execution_count": 34,
   "metadata": {},
   "outputs": [],
   "source": [
    "features = X_train.columns\n",
    "X_train.columns = list(range(0,X_train.shape[1]))\n",
    "X_test.columns = list(range(0,X_test.shape[1]))"
   ]
  },
  {
   "cell_type": "code",
   "execution_count": 35,
   "metadata": {},
   "outputs": [
    {
     "data": {
      "text/plain": [
       "LGBMRegressor(boosting_type='gbdt', class_weight=None, colsample_bytree=1.0,\n",
       "              importance_type='split', learning_rate=0.05, max_depth=14,\n",
       "              min_child_samples=20, min_child_weight=0.001, min_split_gain=0.0,\n",
       "              n_estimators=1500, n_jobs=3, num_leaves=15000, objective=None,\n",
       "              random_state=None, reg_alpha=0.0, reg_lambda=0.0, silent=True,\n",
       "              subsample=0.5, subsample_for_bin=200000, subsample_freq=0,\n",
       "              verbose=10)"
      ]
     },
     "execution_count": 35,
     "metadata": {},
     "output_type": "execute_result"
    }
   ],
   "source": [
    "import lightgbm as lgb\n",
    "\n",
    "model = lgb.LGBMRegressor(learning_rate=0.05,n_estimators=1500,num_leaves=15000,\n",
    "                          max_depth=14,subsample=0.5,n_jobs=3,verbose=10)\n",
    "model"
   ]
  },
  {
   "cell_type": "code",
   "execution_count": 36,
   "metadata": {},
   "outputs": [
    {
     "name": "stdout",
     "output_type": "stream",
     "text": [
      "--- 237.96403050422668 seconds ---\n"
     ]
    }
   ],
   "source": [
    "start_time = time.time()\n",
    "model.fit(X_train, y_train)\n",
    "\n",
    "print(\"--- %s seconds ---\" % (time.time() - start_time))"
   ]
  },
  {
   "cell_type": "markdown",
   "metadata": {},
   "source": [
    "## Predicciones"
   ]
  },
  {
   "cell_type": "code",
   "execution_count": 37,
   "metadata": {},
   "outputs": [
    {
     "name": "stdout",
     "output_type": "stream",
     "text": [
      "Entrenamiento: 99.5026%\n",
      "Testeo: 79.2592%.\n",
      "Mean abs error: 565853.9552.\n"
     ]
    }
   ],
   "source": [
    "ft.predecir(model, X_train, y_train, X_test, y_test)"
   ]
  },
  {
   "cell_type": "code",
   "execution_count": 44,
   "metadata": {},
   "outputs": [],
   "source": [
    "plt.rcParams[\"figure.figsize\"] = [15, 15]\n",
    "\n",
    "importancia = model.feature_importances_\n",
    "\n",
    "d = {'x':features,'y':importancia}\n",
    "\n",
    "df_importancia = pd.DataFrame(d)"
   ]
  },
  {
   "cell_type": "code",
   "execution_count": 43,
   "metadata": {},
   "outputs": [
    {
     "data": {
      "image/png": "[encoded data removed]",
      "text/plain": [
       "<Figure size 1500x1500 with 1 Axes>"
      ]
     },
     "metadata": {},
     "output_type": "display_data"
    }
   ],
   "source": [
    "importancia = df_importancia.sort_values(by=\"y\",ascending=False).head(40)\n",
    "ax = plt.barh(importancia.x,importancia.y)"
   ]
  },
  {
   "cell_type": "code",
   "execution_count": 44,
   "metadata": {},
   "outputs": [
    {
     "data": {
      "text/plain": [
       "array(['provincia_Distrito Federal', 'tipodepropiedad_Apartamento',\n",
       "       'tipodepropiedad_Terreno', 'provincia_Yucatán',\n",
       "       'tipodepropiedad_Casa', 'provincia_Coahuila',\n",
       "       'tipodepropiedad_Edificio', 'provincia_Durango',\n",
       "       'tipodepropiedad_Casa en condominio', 'provincia_Chihuahua',\n",
       "       'metroscubiertostotales', 'provincia_Edo. de México',\n",
       "       'palabra_credito', 'provincia_Nuevo León', 'metroscubiertos',\n",
       "       'palabra_country', 'banos', 'palabra_lujo',\n",
       "       'tipodepropiedad_Bodega comercial',\n",
       "       'tipodepropiedad_Terreno comercial', 'gimnasio',\n",
       "       'provincia_Querétaro', 'tipodepropiedad_Rancho', 'ciudad_4',\n",
       "       'provincia_Jalisco', 'habitaciones',\n",
       "       'tipodepropiedad_Oficina comercial', 'ciudad_6',\n",
       "       'palabra_exclusivo', 'metrostotales', 'ciudad_3',\n",
       "       'palabra_alberca', 'idzona', 'palabra_lote', 'provincia_Tabasco',\n",
       "       'ciudad_5', 'ciudad_2', 'ciudad_7',\n",
       "       'tipodepropiedad_Quinta Vacacional', 'provincia_Guerrero'],\n",
       "      dtype=object)"
      ]
     },
     "execution_count": 44,
     "metadata": {},
     "output_type": "execute_result"
    }
   ],
   "source": [
    "importancia.x.values"
   ]
  },
  {
   "cell_type": "markdown",
   "metadata": {},
   "source": [
    " ## Tunning"
   ]
  },
  {
   "cell_type": "code",
   "execution_count": 10,
   "metadata": {},
   "outputs": [],
   "source": [
    "from sklearn.model_selection import GridSearchCV\n",
    "\n",
    "from xgboost import XGBRegressor\n",
    "\n",
    "param_test = {\n",
    "    'learning_rate':[0.15,0.1,0.05],\n",
    "    'subsample':[0.7,1],\n",
    "    'gamma':[1,15,30],\n",
    "    'colsample_bytree':[0.5,1.0],\n",
    "}\n",
    "\n",
    "search = GridSearchCV(\n",
    "        estimator = XGBRegressor(n_estimators=500, max_depth= 10,min_child_weight = 10,objective=\"reg:squarederror\"), \n",
    "        param_grid = param_test,\n",
    "        n_jobs=3,\n",
    "        cv=3,\n",
    "        verbose=10)\n"
   ]
  },
  {
   "cell_type": "code",
   "execution_count": 11,
   "metadata": {},
   "outputs": [
    {
     "name": "stdout",
     "output_type": "stream",
     "text": [
      "Fitting 3 folds for each of 36 candidates, totalling 108 fits\n"
     ]
    },
    {
     "name": "stderr",
     "output_type": "stream",
     "text": [
      "[Parallel(n_jobs=3)]: Using backend LokyBackend with 3 concurrent workers.\n",
      "[Parallel(n_jobs=3)]: Done   2 tasks      | elapsed: 10.0min\n",
      "[Parallel(n_jobs=3)]: Done   7 tasks      | elapsed: 22.1min\n",
      "[Parallel(n_jobs=3)]: Done  12 tasks      | elapsed: 41.2min\n",
      "[Parallel(n_jobs=3)]: Done  19 tasks      | elapsed: 63.6min\n",
      "[Parallel(n_jobs=3)]: Done  26 tasks      | elapsed: 82.7min\n",
      "[Parallel(n_jobs=3)]: Done  35 tasks      | elapsed: 108.6min\n",
      "[Parallel(n_jobs=3)]: Done  44 tasks      | elapsed: 137.8min\n",
      "[Parallel(n_jobs=3)]: Done  55 tasks      | elapsed: 180.1min\n",
      "[Parallel(n_jobs=3)]: Done  66 tasks      | elapsed: 232.7min\n",
      "[Parallel(n_jobs=3)]: Done  79 tasks      | elapsed: 305.9min\n",
      "[Parallel(n_jobs=3)]: Done  92 tasks      | elapsed: 372.7min\n",
      "[Parallel(n_jobs=3)]: Done 108 out of 108 | elapsed: 452.6min finished\n"
     ]
    },
    {
     "data": {
      "text/plain": [
       "({'colsample_bytree': 0.5, 'gamma': 1, 'learning_rate': 0.1, 'subsample': 1},\n",
       " 0.8225937523151746)"
      ]
     },
     "execution_count": 11,
     "metadata": {},
     "output_type": "execute_result"
    }
   ],
   "source": [
    "search.fit(X_train,y_train)\n",
    "\n",
    "search.best_params_, search.best_score_"
   ]
  },
  {
   "cell_type": "code",
   "execution_count": 12,
   "metadata": {},
   "outputs": [],
   "source": [
    "pd.DataFrame(search.cv_results_).to_csv('../data/GridSearchValues', index=False)"
   ]
  },
  {
   "cell_type": "code",
   "execution_count": 13,
   "metadata": {},
   "outputs": [
    {
     "name": "stdout",
     "output_type": "stream",
     "text": [
      "Entrenamiento: 94.1920%\n",
      "Testeo: 83.0452%.\n",
      "Mean abs error: 520396.0556.\n"
     ]
    }
   ],
   "source": [
    "ft.predecir(search,X_train,y_train,X_test,y_test)"
   ]
  },
  {
   "cell_type": "markdown",
   "metadata": {},
   "source": [
    "## Submission"
   ]
  },
  {
   "cell_type": "code",
   "execution_count": 17,
   "metadata": {},
   "outputs": [],
   "source": [
    "df_test = pd.read_csv('../data/test.csv')"
   ]
  },
  {
   "cell_type": "code",
   "execution_count": 26,
   "metadata": {},
   "outputs": [],
   "source": [
    "\n",
    "import re\n",
    "import string\n",
    "def init_test(x):\n",
    "    features = x.copy()\n",
    "    features['fecha'] = pd.to_datetime(features['fecha'])\n",
    "    features['anio'] = features['fecha'].dt.year\n",
    "    features[\"mes\"] = features['fecha'].dt.month\n",
    "    features[\"dia\"] = features['fecha'].dt.day\n",
    "    features = features.drop(columns=[\"lat\",\"lng\"])\n",
    "    features[\"descripcion\"] = features[\"descripcion\"].fillna(\"\").transform(lambda x: limpiar_texto(x))\n",
    "    features[\"titulo\"] = features[\"titulo\"].fillna(\"\").transform(lambda x: limpiar_texto(x))\n",
    "    features[\"direccion\"] = features[\"direccion\"].fillna(\"\").transform(lambda x: limpiar_texto(x))\n",
    "    features_palabras(features)\n",
    "    return features\n",
    "\n",
    "def clean_text_round1(text):\n",
    "    '''Make text lowercase, remove text in square brackets, remove punctuation and remove words containing numbers.'''\n",
    "    text = text.lower()\n",
    "    text = re.sub('\\[.*?¿\\]\\%;', '', text)\n",
    "    text = re.sub('&', '', text)\n",
    "    text = re.sub(';', '', text)\n",
    "    text = re.sub('[%s]' % re.escape(string.punctuation), ' ', text)\n",
    "    text = re.sub('\\w*\\d\\w*', ' ', text)\n",
    "    return text\n",
    " \n",
    "# Apply a second round of cleaning\n",
    "def clean_text_round2(text):\n",
    "    '''Get rid of some additional punctuation and non-sensical text that was missed the first time around.'''\n",
    "    text = re.sub('[‘’“”…«»]', ' ', text)\n",
    "    text = re.sub('\\n', ' ', text)\n",
    "    text = re.sub('\\x95', ' ', text)\n",
    "    return text\n",
    "\n",
    "def sacar_acute(text):\n",
    "    text = re.sub('acute', '', text)\n",
    "    text = re.sub('tilde', '', text)\n",
    "    return text\n",
    "\n",
    "def limpiar_texto(text):\n",
    "    return sacar_acute(clean_text_round2(clean_text_round1(text)))"
   ]
  },
  {
   "cell_type": "code",
   "execution_count": 31,
   "metadata": {},
   "outputs": [],
   "source": [
    "df = df_test.copy()\n",
    "df = init_test(df)"
   ]
  },
  {
   "cell_type": "code",
   "execution_count": 32,
   "metadata": {},
   "outputs": [
    {
     "name": "stdout",
     "output_type": "stream",
     "text": [
      "--- 0.39971923828125 seconds ---\n"
     ]
    }
   ],
   "source": [
    "df = ft.preprocess(df, OHE, BE, 'test')"
   ]
  },
  {
   "cell_type": "code",
   "execution_count": null,
   "metadata": {},
   "outputs": [],
   "source": [
    "df.columns = list(range(0,df.shape[1]))"
   ]
  },
  {
   "cell_type": "code",
   "execution_count": 33,
   "metadata": {},
   "outputs": [],
   "source": [
    "submit_prediction = model.predict( df )"
   ]
  },
  {
   "cell_type": "code",
   "execution_count": 14,
   "metadata": {},
   "outputs": [],
   "source": [
    "#cols_diff = []\n",
    "#ft = X_train.columns.values\n",
    "#fs = df.columns.values\n",
    "#for feat in fs:\n",
    "#    if feat not in ft:\n",
    "#        cols_diff.append(feat)\n",
    "        \n",
    "#display(cols_diff)        "
   ]
  },
  {
   "cell_type": "code",
   "execution_count": null,
   "metadata": {},
   "outputs": [],
   "source": [
    "#pd.concat([df_test[['id']], pd.Series(submit_prediction)], axis=1).rename(columns={0:\"target\"}).to_csv(\"../data/submission13.csv\", index=False)"
   ]
  },
  {
   "cell_type": "code",
   "execution_count": 34,
   "metadata": {},
   "outputs": [],
   "source": [
    "from submission_helper import submission_output\n",
    "\n",
    "output = submission_output(df_test, submit_prediction)\n",
    "\n",
    "nombre_submit = 'submission22.csv'\n",
    "\n",
    "output.to_csv('../data/'+nombre_submit, index=False)"
   ]
  },
  {
   "cell_type": "code",
   "execution_count": 28,
   "metadata": {},
   "outputs": [],
   "source": [
    "def features_palabras(df):\n",
    "    df[\"palabra_hermosa\"] = contiene_alguna(df, \"descripcion\", [\"hermosa\", \"bonita\", \"bonito\", \"linda\", \"cholula\", \"cholulo\", \"preciosa\", \"precioso\"]) | contiene_alguna(df, \"titulo\", [\"hermosa\", \"bonita\", \"bonito\", \"linda\", \"cholula\", \"cholulo\", \"precioso\", \"preciosa\"])\n",
    "    df[\"palabra_excelente\"] = contiene_alguna(df, \"descripcion\", [\"excelente\", \"excelentes\"]) | contiene_alguna(df, \"titulo\", [\"excelente\", \"excelentes\"])\n",
    "    df[\"palabra_mejor\"] = contiene_alguna(df, \"descripcion\", [\"mejor\", \"mejores\"]) | contiene_alguna(df, \"titulo\", [\"mejor\", \"mejores\"])\n",
    "    df[\"palabra_grande\"] = contiene_alguna(df, \"descripcion\", [\"grande\", \"gran\", \"amplia\", \"amplias\", \"amplio\", \"amplios\"]) | contiene_alguna(df, \"titulo\", [\"grande\", \"gran\", \"amplia\", \"amplias\", \"amplio\", \"amplios\"])\n",
    "    df[\"palabra_equipada\"] = contiene_alguna(df, \"descripcion\", [\"equipada\", \"equipado\", \"completa\", \"completo\"]) | contiene_alguna(df, \"descripcion\", [\"equipada\", \"equipado\", \"completa\", \"completo\"])\n",
    "    df[\"palabra_vestidor\"] = contiene_alguna(df, \"descripcion\", [\"vestidor\", \"closet\"]) | contiene_alguna(df, \"titulo\", [\"vestidor\", \"closet\"])\n",
    "    df[\"palabra_credito\"] = contiene_alguna(df, \"descripcion\", [\"credito\", \"crédito\", \"créditos\", \"creditos\", \"banco\", \"banca\", \"bancario\", \"bancarios\", \"hipoteca\"]) | contiene_alguna(df, \"titulo\", [\"credito\", \"crédito\", \"créditos\", \"creditos\", \"banco\", \"banca\", \"bancario\", \"bancarios\", \"hipoteca\"])\n",
    "    df[\"palabra_privada\"] = contiene_alguna(df, \"descripcion\", [\"privada\", \"privado\"]) | contiene_alguna(df, \"titulo\", [\"privada\", \"privado\"])\n",
    "    df[\"palabra_bodega\"] = contiene_alguna(df, \"descripcion\", [\"bodega\"]) | contiene_alguna(df, \"titulo\", [\"bodega\"])\n",
    "    df[\"palabra_club\"] = contiene_alguna(df, \"descripcion\", [\"club\"]) | contiene_alguna(df, \"titulo\", [\"club\"])\n",
    "    df[\"palabra_cerrada\"] = contiene_alguna(df, \"descripcion\", [\"cerrada\", \"cerrado\"]) | contiene_alguna(df, \"titulo\", [\"cerrada\", \"cerrado\"])\n",
    "    df[\"palabra_jardin\"] = contiene_alguna(df, \"descripcion\", [\"jardin\", \"jardín\", \"garden\", \"patio\"]) | contiene_alguna(df, \"titulo\", [\"jardin\", \"jardín\", \"garden\", \"patio\"])\n",
    "    df[\"palabra_oportunidad\"] = contiene_alguna(df, \"descripcion\", [\"oportunidad\"]) | contiene_alguna(df, \"titulo\", [\"oportunidad\"])\n",
    "    df[\"palabra_tv\"] = contiene_alguna(df, \"descripcion\", [\"tv\", \"tele\", \"television\", \"televisión\", \"televisor\"]) | contiene_alguna(df, \"titulo\", [\"tv\", \"tele\", \"television\", \"televisión\", \"televisor\"])\n",
    "    df[\"palabra_juegos\"] = contiene_alguna(df, \"descripcion\", [\"juego\"]) | contiene_alguna(df, \"titulo\", [\"juego\"])\n",
    "    df[\"palabra_niño\"] = contiene_alguna(df, \"descripcion\", [\"niño\", \"niña\", \"infantil\"]) | contiene_alguna(df, \"titulo\", [\"niño\", \"niña\", \"infantil\"])\n",
    "    df[\"palabra_transporte\"] = contiene_alguna(df, \"descripcion\", [\"transporte\"]) | contiene_alguna(df, \"titulo\", [\"transporte\"])\n",
    "    df[\"palabra_estudio\"] = contiene_alguna(df, \"descripcion\", [\"estudio\"]) | contiene_alguna(df, \"titulo\", [\"estudio\"])\n",
    "    df[\"palabra_terraza\"] = contiene_alguna(df, \"descripcion\", [\"terraza\"]) | contiene_alguna(df, \"titulo\", [\"terraza\"])\n",
    "    df[\"palabra_balcon\"] = contiene_alguna(df, \"descripcion\", [\"balcón\", \"balcon\"]) | contiene_alguna(df, \"titulo\", [\"balcón\", \"balcon\"])\n",
    "    df[\"palabra_lote\"] = contiene_alguna(df, \"descripcion\", [\"lote\", \"terreno\"]) | contiene_alguna(df, \"titulo\", [\"lote\", \"terreno\"])\n",
    "    df[\"palabra_fraccionamiento\"] = contiene_alguna(df, \"descripcion\", [\"fraccionamiento\", \"fracc\"]) | contiene_alguna(df, \"titulo\", [\"fraccionamiento\", \"fracc\"])\n",
    "    df[\"palabra_local\"] = contiene_alguna(df, \"descripcion\", [\"local\", \"tienda\", \"comercial\"]) | contiene_alguna(df, \"titulo\", [\"local\", \"tienda\", \"comercial\"])\n",
    "    df[\"palabra_seguridad\"] = contiene_alguna(df, \"descripcion\", [\"vigilancia\", \"vigilador\", \"seguridad\", \"guardia\"]) | contiene_alguna(df, \"titulo\", [\"vigilancia\", \"vigilador\", \"seguridad\", \"guardia\"])\n",
    "    df[\"palabra_garage\"] = contiene_alguna(df, \"descripcion\", [\"garage\", \"auto\", \"estacionamiento\"]) | contiene_alguna(df, \"titulo\", [\"garage\", \"auto\", \"estacionamiento\"])\n",
    "    df[\"palabra_centro\"] = contiene_alguna(df, \"descripcion\", [\"centro\", \"central\", \"cercano\", \"cercania\", \"minuto\"]) | contiene_alguna(df, \"titulo\", [\"centro\", \"central\", \"cercano\", \"cercania\", \"minuto\"])\n",
    "    df[\"palabra_techada\"] = contiene_alguna(df, \"descripcion\", [\"techada\", \"techado\", \"roof\"]) | contiene_alguna(df, \"titulo\", [\"techada\", \"techado\", \"roof\"])\n",
    "    df[\"palabra_estancia\"] = contiene_alguna(df, \"descripcion\", [\"estancia\"]) | contiene_alguna(df, \"titulo\", [\"estancia\"])\n",
    "    df[\"palabra_alberca\"] = contiene_alguna(df, \"descripcion\", [\"alberca\"]) | contiene_alguna(df, \"titulo\", [\"alberca\"])\n",
    "    df[\"palabra_servicios\"] = contiene_alguna(df, \"descripcion\", [\"servicios\"]) | contiene_alguna(df, \"titulo\", [\"servicios\"])\n",
    "    df[\"palabra_servicio\"] = contiene_alguna(df, \"descripcion\", [\"servicio\"]) | contiene_alguna(df, \"titulo\", [\"servicio\"])\n",
    "    df[\"palabra_estilo\"] = contiene_alguna(df, \"descripcion\", [\"estilo\"]) | contiene_alguna(df, \"titulo\", [\"estilo\"])\n",
    "    df[\"palabra_frente\"] = contiene_alguna(df, \"descripcion\", [\"frente\"]) | contiene_alguna(df, \"titulo\", [\"frente\"])\n",
    "    df[\"palabra_vista\"] = contiene_alguna(df, \"descripcion\", [\"vista\"]) | contiene_alguna(df, \"titulo\", [\"vista\"])\n",
    "    df[\"palabra_visitas\"] = contiene_alguna(df, \"descripcion\", [\"visita\"]) | contiene_alguna(df, \"titulo\", [\"visita\"])\n",
    "    df[\"palabra_parque\"] = contiene_alguna(df, \"descripcion\", [\"parque\", \"plaza\", \"verde\"]) | contiene_alguna(df, \"titulo\", [\"parque\", \"plaza\", \"verde\"])\n",
    "    df[\"palabra_areas\"] = contiene_alguna(df, \"descripcion\", [\"area\", \"área\"]) | contiene_alguna(df, \"titulo\", [\"area\", \"área\"])\n",
    "    df[\"palabra_estrenar\"] = contiene_alguna(df, \"descripcion\", [\"estrenar\", \"estreno\", \"estrene\"]) | contiene_alguna(df, \"titulo\", [\"estrenar\", \"estreno\", \"estrene\"])\n",
    "    df[\"palabra_infonavit\"] = contiene_alguna(df, \"descripcion\", [\"infonavit\"]) | contiene_alguna(df, \"titulo\", [\"infonavit\"])\n",
    "    df[\"palabra_residencial\"] = contiene_alguna(df, \"descripcion\", [\"residencia\"]) | contiene_alguna(df, \"titulo\", [\"residencia\"])\n",
    "    df[\"palabra_escuela\"] = contiene_alguna(df, \"descripcion\", [\"escuela\", \"colegio\", \"educacion\", \"educación\", \"uni\", \"universidad\", \"facultad\"]) | contiene_alguna(df, \"titulo\", [\"escuela\", \"colegio\", \"educacion\", \"educación\", \"uni\", \"universidad\", \"facultad\"])\n",
    "    df[\"palabra_exclusivo\"] = contiene_alguna(df, \"descripcion\", [\"exclusivo\", \"exclusividad\"]) | contiene_alguna(df, \"titulo\", [\"exclusivo\", \"exclusividad\"])\n",
    "    df[\"palabra_lujo\"] = contiene_alguna(df, \"descripcion\", [\"lujo\"]) | contiene_alguna(df, \"titulo\", [\"lujo\"])\n",
    "    df[\"palabra_esquina\"] = contiene_alguna(df, \"descripcion\", [\"esquina\"]) | contiene_alguna(df, \"titulo\", [\"esquina\"])\n",
    "    df[\"palabra_refaccion\"] = contiene_alguna(df, \"descripcion\", [\"refaccion\", \"refacción\", \"reacondicionado\", \"remodelada\", \"remodelado\"]) | contiene_alguna(df, \"titulo\", [\"refaccion\", \"refacción\", \"reacondicionado\", \"remodelada\", \"remodelado\"])\n",
    "    df[\"palabra_country\"] = contiene_alguna(df, \"descripcion\", [\"country\"]) | contiene_alguna(df, \"titulo\", [\"country\"])\n",
    "    df[\"palabra_barra\"] = contiene_alguna(df, \"descripcion\", [\"barra\"]) | contiene_alguna(df, \"titulo\", [\"barra\"])\n",
    "    df[\"palabra_lavado\"] = contiene_alguna(df, \"descripcion\", [\"lavado\"]) | contiene_alguna(df, \"titulo\", [\"lavado\"])\n",
    "    df[\"palabra_renta\"] = contiene_alguna(df, \"descripcion\", [\"renta\", \"alquiler\", \"alquilar\"]) | contiene_alguna(df, \"titulo\", [\"renta\", \"alquiler\", \"alquilar\"])\n",
    "    df[\"palabra_super\"] = contiene_alguna(df, \"descripcion\", [\"super\"]) | contiene_alguna(df, \"titulo\", [\"super\"])\n",
    "    df[\"palabra_lago\"] = contiene_alguna(df, \"descripcion\", [\"lago\"]) | contiene_alguna(df, \"titulo\", [\"lago\"])\n",
    "    df[\"palabra_bosque\"] = contiene_alguna(df, \"descripcion\", [\"bosque\", \"arbol\", \"árbol\"]) | contiene_alguna(df, \"titulo\", [\"bosque\", \"arbol\", \"árbol\"])\n",
    "    df[\"palabra_avenida\"] = contiene_alguna(df, \"descripcion\", [\"av\", \"avenida\"]) | contiene_alguna(df, \"titulo\", [\"av\", \"avenida\"])\n",
    "    df[\"palabra_hospital\"] = contiene_alguna(df, \"descripcion\", [\"hospital\", \"medicina\", \"medico\", \"médico\", \"farmacia\"]) | contiene_alguna(df, \"titulo\", [\"hospital\", \"medicina\", \"medico\", \"médico\", \"farmacia\"])\n",
    "    df[\"palabra_pileta\"] = contiene_alguna(df, \"descripcion\", [\"pileta\", \"piscina\", \"jacuzzi\"]) | contiene_alguna(df, \"titulo\", [\"pileta\", \"piscina\", \"jacuzzi\"])\n",
    "    df[\"palabra_solarium\"] = contiene_alguna(df, \"descripcion\", [\"solarium\"]) | contiene_alguna(df, \"titulo\", [\"solarium\"])\n",
    "    df[\"palabra_gas\"] = contiene_alguna(df, \"descripcion\", [\"gas\", \"estufa\"]) | contiene_alguna(df, \"titulo\", [\"gas\", \"estufa\"])\n"
   ]
  },
  {
   "cell_type": "code",
   "execution_count": 30,
   "metadata": {},
   "outputs": [],
   "source": [
    "def contiene(df, columna, palabra):\n",
    "    return df[columna].str.contains(palabra).astype(int)\n",
    "\n",
    "def contiene_alguna(df, columna, palabras):\n",
    "    result = df[columna].apply(lambda x: 0)\n",
    "    for palabra in palabras:\n",
    "        result = result | contiene(df, columna, palabra)\n",
    "    return result"
   ]
  },
  {
   "cell_type": "code",
   "execution_count": null,
   "metadata": {},
   "outputs": [],
   "source": []
  }
 ],
 "metadata": {
  "kernelspec": {
   "display_name": "Python 3",
   "language": "python",
   "name": "python3"
  },
  "language_info": {
   "codemirror_mode": {
    "name": "ipython",
    "version": 3
   },
   "file_extension": ".py",
   "mimetype": "text/x-python",
   "name": "python",
   "nbconvert_exporter": "python",
   "pygments_lexer": "ipython3",
   "version": "3.7.5rc1"
  }
 },
 "nbformat": 4,
 "nbformat_minor": 2
}

{
 "cells": [
  {
   "cell_type": "markdown",
   "metadata": {},
   "source": [
    "# Probando LGB sin tunear"
   ]
  },
  {
   "cell_type": "code",
   "execution_count": 1,
   "metadata": {},
   "outputs": [],
   "source": [
    "import pandas as pd\n",
    "import numpy as np\n",
    "import seaborn as sns\n",
    "import matplotlib\n",
    "import matplotlib.pyplot as plt\n",
    "import warnings\n",
    "warnings.filterwarnings('ignore')\n",
    "\n",
    "%matplotlib inline\n",
    "sns.set(style='white', context='notebook', palette='deep')\n",
    "%config InlineBackend.figure_format = 'png' #set 'png' here when working on notebook\n",
    "pd.set_option('display.max_columns', 50)\n"
   ]
  },
  {
   "cell_type": "code",
   "execution_count": 2,
   "metadata": {},
   "outputs": [],
   "source": [
    "plt.style.use('default')\n",
    "plt.rcParams['figure.figsize'] = [12.0,8.0]"
   ]
  },
  {
   "cell_type": "code",
   "execution_count": 3,
   "metadata": {},
   "outputs": [],
   "source": [
    "df_train = pd.read_csv(\"../data/palabras.csv\")"
   ]
  },
  {
   "cell_type": "code",
   "execution_count": 4,
   "metadata": {},
   "outputs": [],
   "source": [
    "df_train['fecha'] = pd.to_datetime(df_train['fecha'], errors='coerce').astype(int) / 10**9"
   ]
  },
  {
   "cell_type": "code",
   "execution_count": 5,
   "metadata": {},
   "outputs": [],
   "source": [
    "def fill_m2(df):\n",
    "    df['metrostotales'].fillna(df['metroscubiertos'], inplace=True)\n",
    "    df['metroscubiertos'].fillna(df['metrostotales'], inplace=True)\n",
    "    \n",
    "    return df"
   ]
  },
  {
   "cell_type": "markdown",
   "metadata": {},
   "source": [
    "## Pre-processing"
   ]
  },
  {
   "cell_type": "code",
   "execution_count": 6,
   "metadata": {},
   "outputs": [],
   "source": [
    "from sklearn.model_selection import train_test_split\n",
    "from sklearn.linear_model import LogisticRegression\n",
    "from sklearn.preprocessing import OneHotEncoder \n",
    "from sklearn.preprocessing import Imputer\n",
    "from sklearn.metrics import mean_absolute_error\n",
    "from sklearn.metrics import mean_squared_error"
   ]
  },
  {
   "cell_type": "code",
   "execution_count": 7,
   "metadata": {},
   "outputs": [],
   "source": [
    "def getDropCols():\n",
    "    return ['titulo', 'descripcion', 'direccion', 'id', 'dia', 'mes'] # temporal\n",
    "\n",
    "def getOneHotCols():\n",
    "    return ['tipodepropiedad', 'provincia']\n",
    "\n",
    "def getBinaryCols():\n",
    "    return ['ciudad', 'idzona']"
   ]
  },
  {
   "cell_type": "code",
   "execution_count": 8,
   "metadata": {},
   "outputs": [],
   "source": [
    "def preprocess(df, OHE, BE, encodingType):\n",
    "    features = df.copy()\n",
    "    drop_cols = getDropCols()\n",
    "    features = features.drop(drop_cols, axis=1)\n",
    "\n",
    "    if (encodingType == 'train'):\n",
    "        features = OHE.fit_transform(features)\n",
    "        features = BE.fit_transform(features)\n",
    "    else:\n",
    "        features = OHE.transform(features)\n",
    "        features = BE.transform(features)\n",
    "        \n",
    "    drop_cols = getOneHotCols()\n",
    "    drop_cols.extend(getBinaryCols())\n",
    "\n",
    "    display(drop_cols)\n",
    "                \n",
    "    #features = features.drop(drop_cols, axis=1)\n",
    "    \n",
    "    features = fill_m2(features)\n",
    "    \n",
    "    features_with_nans = features.columns[features.isna().any()].tolist()\n",
    "    \n",
    "    for feature in features_with_nans:\n",
    "        features[feature] = features[feature].fillna(0)\n",
    "        \n",
    "    #imp = Imputer()\n",
    "    #imp_cols = ['antiguedad', 'banos', 'habitaciones', 'garages']\n",
    "    #X_train[imp_cols] = imp.fit_transform(X_train[imp_cols])\n",
    "        \n",
    "    return features    "
   ]
  },
  {
   "cell_type": "code",
   "execution_count": 9,
   "metadata": {},
   "outputs": [],
   "source": [
    "import category_encoders as ce\n",
    "\n",
    "OHE = ce.OneHotEncoder(cols=getOneHotCols(), handle_unknown='ignore', use_cat_names=True)\n",
    "BE = ce.BinaryEncoder(cols=getBinaryCols(), handle_unknown='ignore')"
   ]
  },
  {
   "cell_type": "code",
   "execution_count": 10,
   "metadata": {},
   "outputs": [],
   "source": [
    "X = df_train.drop(\"precio\", axis=1)\n",
    "y = df_train['precio']\n",
    "X_train, X_test, y_train, y_test = train_test_split(X, y, test_size=0.25, random_state=42)"
   ]
  },
  {
   "cell_type": "code",
   "execution_count": 11,
   "metadata": {},
   "outputs": [],
   "source": [
    "X_train_submit = X_train.copy()"
   ]
  },
  {
   "cell_type": "code",
   "execution_count": 12,
   "metadata": {},
   "outputs": [
    {
     "data": {
      "text/plain": [
       "['tipodepropiedad', 'provincia', 'ciudad', 'idzona']"
      ]
     },
     "metadata": {},
     "output_type": "display_data"
    },
    {
     "data": {
      "text/plain": [
       "['tipodepropiedad', 'provincia', 'ciudad', 'idzona']"
      ]
     },
     "metadata": {},
     "output_type": "display_data"
    }
   ],
   "source": [
    "X_train = preprocess(X_train, OHE, BE, 'train')\n",
    "X_test = preprocess(X_test, OHE, BE, 'test')"
   ]
  },
  {
   "cell_type": "code",
   "execution_count": 13,
   "metadata": {},
   "outputs": [
    {
     "name": "stdout",
     "output_type": "stream",
     "text": [
      "Original shapes: X=(240000, 80) y=(240000,)\n",
      "Train shapes: X=(180000, 154) y=(180000,)\n",
      "Test  shapes: X=(60000, 154)  y=(60000,)\n"
     ]
    }
   ],
   "source": [
    "print(f\"Original shapes: X={X.shape} y={y.shape}\")\n",
    "print(f\"Train shapes: X={X_train.shape} y={y_train.shape}\")\n",
    "print(f\"Test  shapes: X={X_test.shape}  y={y_test.shape}\")"
   ]
  },
  {
   "cell_type": "markdown",
   "metadata": {},
   "source": [
    "## Feature Selection"
   ]
  },
  {
   "cell_type": "code",
   "execution_count": 14,
   "metadata": {},
   "outputs": [],
   "source": [
    "#from sklearn.feature_selection import SelectKBest"
   ]
  },
  {
   "cell_type": "code",
   "execution_count": 15,
   "metadata": {},
   "outputs": [],
   "source": [
    "#selection = SelectKBest(k=40)\n",
    "#x_features = selection.fit_transform(X_train, y_train)\n",
    "#columns = np.asarray(X_train.columns.values)\n",
    "#support = np.asarray(selection.get_support())\n",
    "#columns_with_support = columns[support]"
   ]
  },
  {
   "cell_type": "code",
   "execution_count": 16,
   "metadata": {},
   "outputs": [],
   "source": [
    "#columns_with_support"
   ]
  },
  {
   "cell_type": "code",
   "execution_count": 17,
   "metadata": {},
   "outputs": [],
   "source": [
    "X_train.columns = list(range(0,X_train.shape[1]))\n",
    "X_test.columns = list(range(0,X_test.shape[1]))\n"
   ]
  },
  {
   "cell_type": "markdown",
   "metadata": {},
   "source": [
    "## Training"
   ]
  },
  {
   "cell_type": "code",
   "execution_count": 18,
   "metadata": {},
   "outputs": [],
   "source": [
    "import lightgbm as lgb\n",
    "\n",
    "model = lgb.LGBMRegressor(learning_rate=0.05,n_estimators=1500,num_leaves=15000,\n",
    "                          max_depth=14,subsample=0.5,n_jobs=3,verbose=10)"
   ]
  },
  {
   "cell_type": "code",
   "execution_count": 19,
   "metadata": {},
   "outputs": [
    {
     "data": {
      "text/plain": [
       "LGBMRegressor(boosting_type='gbdt', class_weight=None, colsample_bytree=1.0,\n",
       "              importance_type='split', learning_rate=0.05, max_depth=14,\n",
       "              min_child_samples=20, min_child_weight=0.001, min_split_gain=0.0,\n",
       "              n_estimators=1500, n_jobs=3, num_leaves=15000, objective=None,\n",
       "              random_state=None, reg_alpha=0.0, reg_lambda=0.0, silent=True,\n",
       "              subsample=0.5, subsample_for_bin=200000, subsample_freq=0,\n",
       "              verbose=10)"
      ]
     },
     "execution_count": 19,
     "metadata": {},
     "output_type": "execute_result"
    }
   ],
   "source": [
    "model.fit(X_train, y_train)"
   ]
  },
  {
   "cell_type": "code",
   "execution_count": 21,
   "metadata": {},
   "outputs": [],
   "source": [
    "# Matriz de correlaciones como heatmap\n",
    "#plt.figure(figsize=(15, 15))\n",
    "#sns.heatmap(df_train.corr(), square=True, fmt='.2f');"
   ]
  },
  {
   "cell_type": "markdown",
   "metadata": {},
   "source": [
    "## Predicciones"
   ]
  },
  {
   "cell_type": "code",
   "execution_count": 20,
   "metadata": {},
   "outputs": [],
   "source": [
    "def predecir(model, train_features, train_labels, test_features, test_labels):\n",
    "    predict = model.predict(test_features)\n",
    "    print('Entrenamiento: {:0.4f}%'.format(model.score(train_features, train_labels)*100))\n",
    "    \n",
    "    if ~test_labels.empty:\n",
    "        error = mean_absolute_error(test_labels, predict)\n",
    "        score = model.score(test_features,test_labels)\n",
    "        print('Testeo: {:0.4f}%.'.format(score*100))\n",
    "        print('Mean abs error: {:0.4f}.'.format(error))\n",
    "    \n",
    "    return predict"
   ]
  },
  {
   "cell_type": "code",
   "execution_count": 21,
   "metadata": {},
   "outputs": [
    {
     "name": "stdout",
     "output_type": "stream",
     "text": [
      "Entrenamiento: 99.0776%\n",
      "Testeo: 83.0152%.\n",
      "Mean abs error: 513483.6772.\n"
     ]
    },
    {
     "data": {
      "text/plain": [
       "array([3617846.541845  , 2649865.60470127, 6542224.25450376, ...,\n",
       "       2036749.54436977, 2332475.515294  , 1327199.05373638])"
      ]
     },
     "execution_count": 21,
     "metadata": {},
     "output_type": "execute_result"
    }
   ],
   "source": [
    "predecir(model, X_train, y_train, X_test, y_test)"
   ]
  },
  {
   "cell_type": "code",
   "execution_count": null,
   "metadata": {},
   "outputs": [],
   "source": [
    "plt.rcParams[\"figure.figsize\"] = [15, 15]\n",
    "\n",
    "importancia = model.feature_importances_\n",
    "\n",
    "d = {'x':X_train.columns,'y':importancia}\n",
    "\n",
    "df_importancia = pd.DataFrame(d)"
   ]
  },
  {
   "cell_type": "code",
   "execution_count": null,
   "metadata": {},
   "outputs": [],
   "source": [
    "importancia = df_importancia.sort_values(by=\"y\",ascending=False).head(40)\n",
    "ax = plt.barh(importancia.x,importancia.y)"
   ]
  },
  {
   "cell_type": "markdown",
   "metadata": {},
   "source": [
    " ## Tunning"
   ]
  },
  {
   "cell_type": "code",
   "execution_count": 54,
   "metadata": {},
   "outputs": [
    {
     "name": "stdout",
     "output_type": "stream",
     "text": [
      "Fitting 3 folds for each of 36 candidates, totalling 108 fits\n"
     ]
    },
    {
     "name": "stderr",
     "output_type": "stream",
     "text": [
      "[Parallel(n_jobs=3)]: Using backend LokyBackend with 3 concurrent workers.\n",
      "[Parallel(n_jobs=3)]: Done   2 tasks      | elapsed:  2.0min\n",
      "[Parallel(n_jobs=3)]: Done   7 tasks      | elapsed:  4.3min\n",
      "[Parallel(n_jobs=3)]: Done  12 tasks      | elapsed:  8.1min\n",
      "[Parallel(n_jobs=3)]: Done  19 tasks      | elapsed: 12.1min\n",
      "[Parallel(n_jobs=3)]: Done  26 tasks      | elapsed: 15.7min\n",
      "[Parallel(n_jobs=3)]: Done  35 tasks      | elapsed: 20.6min\n",
      "[Parallel(n_jobs=3)]: Done  44 tasks      | elapsed: 26.2min\n",
      "[Parallel(n_jobs=3)]: Done  55 tasks      | elapsed: 33.3min\n",
      "[Parallel(n_jobs=3)]: Done  66 tasks      | elapsed: 39.7min\n",
      "[Parallel(n_jobs=3)]: Done  79 tasks      | elapsed: 47.5min\n",
      "[Parallel(n_jobs=3)]: Done  92 tasks      | elapsed: 54.6min\n",
      "[Parallel(n_jobs=3)]: Done 108 out of 108 | elapsed: 63.8min finished\n"
     ]
    },
    {
     "data": {
      "text/plain": [
       "({'max_depth': 14, 'min_child_weight': 10}, 0.8163938827286209)"
      ]
     },
     "execution_count": 54,
     "metadata": {},
     "output_type": "execute_result"
    }
   ],
   "source": [
    "import lightgbm as lgb\n",
    "from sklearn.model_selection import GridSearchCV\n",
    "\n",
    "param_test1 = {\n",
    "    \"max_depth\": range(10,21,2),\n",
    "    \"min_child_weight\" : range(10,21,2)\n",
    "}\n",
    "\n",
    "gsearch1 = GridSearchCV(estimator = lgb.LGBMRegressor(n_estimators=2000, max_depth= 14,min_child_weight = 15), \n",
    "                        param_grid = param_test1,\n",
    "                        n_jobs=3,\n",
    "                        cv=3,\n",
    "                        return_train_score=True,\n",
    "                        verbose=10)\n",
    "\n",
    "gsearch1.fit(X_train,y_train)\n",
    "\n",
    "gsearch1.best_params_, gsearch1.best_score_"
   ]
  },
  {
   "cell_type": "code",
   "execution_count": 55,
   "metadata": {},
   "outputs": [
    {
     "data": {
      "text/html": [
       "<div>\n",
       "<style scoped>\n",
       "    .dataframe tbody tr th:only-of-type {\n",
       "        vertical-align: middle;\n",
       "    }\n",
       "\n",
       "    .dataframe tbody tr th {\n",
       "        vertical-align: top;\n",
       "    }\n",
       "\n",
       "    .dataframe thead th {\n",
       "        text-align: right;\n",
       "    }\n",
       "</style>\n",
       "<table border=\"1\" class=\"dataframe\">\n",
       "  <thead>\n",
       "    <tr style=\"text-align: right;\">\n",
       "      <th></th>\n",
       "      <th>mean_fit_time</th>\n",
       "      <th>std_fit_time</th>\n",
       "      <th>mean_score_time</th>\n",
       "      <th>std_score_time</th>\n",
       "      <th>param_max_depth</th>\n",
       "      <th>param_min_child_weight</th>\n",
       "      <th>params</th>\n",
       "      <th>split0_test_score</th>\n",
       "      <th>split1_test_score</th>\n",
       "      <th>split2_test_score</th>\n",
       "      <th>mean_test_score</th>\n",
       "      <th>std_test_score</th>\n",
       "      <th>rank_test_score</th>\n",
       "    </tr>\n",
       "  </thead>\n",
       "  <tbody>\n",
       "    <tr>\n",
       "      <th>0</th>\n",
       "      <td>79.967178</td>\n",
       "      <td>12.909894</td>\n",
       "      <td>26.355807</td>\n",
       "      <td>7.581311</td>\n",
       "      <td>10</td>\n",
       "      <td>10</td>\n",
       "      <td>{'max_depth': 10, 'min_child_weight': 10}</td>\n",
       "      <td>0.816471</td>\n",
       "      <td>0.813283</td>\n",
       "      <td>0.813495</td>\n",
       "      <td>0.814416</td>\n",
       "      <td>0.001456</td>\n",
       "      <td>31</td>\n",
       "    </tr>\n",
       "    <tr>\n",
       "      <th>1</th>\n",
       "      <td>82.958766</td>\n",
       "      <td>9.559553</td>\n",
       "      <td>29.890658</td>\n",
       "      <td>9.861749</td>\n",
       "      <td>10</td>\n",
       "      <td>12</td>\n",
       "      <td>{'max_depth': 10, 'min_child_weight': 12}</td>\n",
       "      <td>0.816471</td>\n",
       "      <td>0.813283</td>\n",
       "      <td>0.813495</td>\n",
       "      <td>0.814416</td>\n",
       "      <td>0.001456</td>\n",
       "      <td>31</td>\n",
       "    </tr>\n",
       "    <tr>\n",
       "      <th>2</th>\n",
       "      <td>81.792402</td>\n",
       "      <td>9.935518</td>\n",
       "      <td>28.869326</td>\n",
       "      <td>3.583335</td>\n",
       "      <td>10</td>\n",
       "      <td>14</td>\n",
       "      <td>{'max_depth': 10, 'min_child_weight': 14}</td>\n",
       "      <td>0.816471</td>\n",
       "      <td>0.813283</td>\n",
       "      <td>0.813495</td>\n",
       "      <td>0.814416</td>\n",
       "      <td>0.001456</td>\n",
       "      <td>31</td>\n",
       "    </tr>\n",
       "    <tr>\n",
       "      <th>3</th>\n",
       "      <td>72.970745</td>\n",
       "      <td>11.496923</td>\n",
       "      <td>20.502733</td>\n",
       "      <td>6.620329</td>\n",
       "      <td>10</td>\n",
       "      <td>16</td>\n",
       "      <td>{'max_depth': 10, 'min_child_weight': 16}</td>\n",
       "      <td>0.816471</td>\n",
       "      <td>0.813283</td>\n",
       "      <td>0.813495</td>\n",
       "      <td>0.814416</td>\n",
       "      <td>0.001456</td>\n",
       "      <td>31</td>\n",
       "    </tr>\n",
       "    <tr>\n",
       "      <th>4</th>\n",
       "      <td>83.547832</td>\n",
       "      <td>10.258654</td>\n",
       "      <td>27.113737</td>\n",
       "      <td>6.902744</td>\n",
       "      <td>10</td>\n",
       "      <td>18</td>\n",
       "      <td>{'max_depth': 10, 'min_child_weight': 18}</td>\n",
       "      <td>0.816471</td>\n",
       "      <td>0.813283</td>\n",
       "      <td>0.813495</td>\n",
       "      <td>0.814416</td>\n",
       "      <td>0.001456</td>\n",
       "      <td>31</td>\n",
       "    </tr>\n",
       "    <tr>\n",
       "      <th>5</th>\n",
       "      <td>73.801501</td>\n",
       "      <td>13.206338</td>\n",
       "      <td>20.354792</td>\n",
       "      <td>6.789688</td>\n",
       "      <td>10</td>\n",
       "      <td>20</td>\n",
       "      <td>{'max_depth': 10, 'min_child_weight': 20}</td>\n",
       "      <td>0.816471</td>\n",
       "      <td>0.813283</td>\n",
       "      <td>0.813495</td>\n",
       "      <td>0.814416</td>\n",
       "      <td>0.001456</td>\n",
       "      <td>31</td>\n",
       "    </tr>\n",
       "    <tr>\n",
       "      <th>6</th>\n",
       "      <td>81.628121</td>\n",
       "      <td>10.253404</td>\n",
       "      <td>23.821714</td>\n",
       "      <td>6.101398</td>\n",
       "      <td>12</td>\n",
       "      <td>10</td>\n",
       "      <td>{'max_depth': 12, 'min_child_weight': 10}</td>\n",
       "      <td>0.817502</td>\n",
       "      <td>0.812926</td>\n",
       "      <td>0.814121</td>\n",
       "      <td>0.814850</td>\n",
       "      <td>0.001938</td>\n",
       "      <td>25</td>\n",
       "    </tr>\n",
       "    <tr>\n",
       "      <th>7</th>\n",
       "      <td>82.064519</td>\n",
       "      <td>14.665681</td>\n",
       "      <td>25.367056</td>\n",
       "      <td>6.747873</td>\n",
       "      <td>12</td>\n",
       "      <td>12</td>\n",
       "      <td>{'max_depth': 12, 'min_child_weight': 12}</td>\n",
       "      <td>0.817502</td>\n",
       "      <td>0.812926</td>\n",
       "      <td>0.814121</td>\n",
       "      <td>0.814850</td>\n",
       "      <td>0.001938</td>\n",
       "      <td>25</td>\n",
       "    </tr>\n",
       "    <tr>\n",
       "      <th>8</th>\n",
       "      <td>79.865702</td>\n",
       "      <td>12.428195</td>\n",
       "      <td>22.907196</td>\n",
       "      <td>4.465648</td>\n",
       "      <td>12</td>\n",
       "      <td>14</td>\n",
       "      <td>{'max_depth': 12, 'min_child_weight': 14}</td>\n",
       "      <td>0.817502</td>\n",
       "      <td>0.812926</td>\n",
       "      <td>0.814121</td>\n",
       "      <td>0.814850</td>\n",
       "      <td>0.001938</td>\n",
       "      <td>25</td>\n",
       "    </tr>\n",
       "    <tr>\n",
       "      <th>9</th>\n",
       "      <td>82.611451</td>\n",
       "      <td>12.601588</td>\n",
       "      <td>18.344129</td>\n",
       "      <td>2.531889</td>\n",
       "      <td>12</td>\n",
       "      <td>16</td>\n",
       "      <td>{'max_depth': 12, 'min_child_weight': 16}</td>\n",
       "      <td>0.817502</td>\n",
       "      <td>0.812926</td>\n",
       "      <td>0.814121</td>\n",
       "      <td>0.814850</td>\n",
       "      <td>0.001938</td>\n",
       "      <td>25</td>\n",
       "    </tr>\n",
       "    <tr>\n",
       "      <th>10</th>\n",
       "      <td>78.379525</td>\n",
       "      <td>10.417249</td>\n",
       "      <td>18.896655</td>\n",
       "      <td>3.043945</td>\n",
       "      <td>12</td>\n",
       "      <td>18</td>\n",
       "      <td>{'max_depth': 12, 'min_child_weight': 18}</td>\n",
       "      <td>0.817502</td>\n",
       "      <td>0.812926</td>\n",
       "      <td>0.814121</td>\n",
       "      <td>0.814850</td>\n",
       "      <td>0.001938</td>\n",
       "      <td>25</td>\n",
       "    </tr>\n",
       "    <tr>\n",
       "      <th>11</th>\n",
       "      <td>87.681561</td>\n",
       "      <td>6.087449</td>\n",
       "      <td>26.401840</td>\n",
       "      <td>1.659825</td>\n",
       "      <td>12</td>\n",
       "      <td>20</td>\n",
       "      <td>{'max_depth': 12, 'min_child_weight': 20}</td>\n",
       "      <td>0.817502</td>\n",
       "      <td>0.812926</td>\n",
       "      <td>0.814121</td>\n",
       "      <td>0.814850</td>\n",
       "      <td>0.001938</td>\n",
       "      <td>25</td>\n",
       "    </tr>\n",
       "    <tr>\n",
       "      <th>12</th>\n",
       "      <td>81.336708</td>\n",
       "      <td>12.218695</td>\n",
       "      <td>25.389118</td>\n",
       "      <td>4.513437</td>\n",
       "      <td>14</td>\n",
       "      <td>10</td>\n",
       "      <td>{'max_depth': 14, 'min_child_weight': 10}</td>\n",
       "      <td>0.819360</td>\n",
       "      <td>0.815470</td>\n",
       "      <td>0.814351</td>\n",
       "      <td>0.816394</td>\n",
       "      <td>0.002147</td>\n",
       "      <td>1</td>\n",
       "    </tr>\n",
       "    <tr>\n",
       "      <th>13</th>\n",
       "      <td>86.804291</td>\n",
       "      <td>5.652459</td>\n",
       "      <td>29.111180</td>\n",
       "      <td>4.796531</td>\n",
       "      <td>14</td>\n",
       "      <td>12</td>\n",
       "      <td>{'max_depth': 14, 'min_child_weight': 12}</td>\n",
       "      <td>0.819360</td>\n",
       "      <td>0.815470</td>\n",
       "      <td>0.814351</td>\n",
       "      <td>0.816394</td>\n",
       "      <td>0.002147</td>\n",
       "      <td>1</td>\n",
       "    </tr>\n",
       "    <tr>\n",
       "      <th>14</th>\n",
       "      <td>78.295786</td>\n",
       "      <td>3.263891</td>\n",
       "      <td>21.948109</td>\n",
       "      <td>7.010371</td>\n",
       "      <td>14</td>\n",
       "      <td>14</td>\n",
       "      <td>{'max_depth': 14, 'min_child_weight': 14}</td>\n",
       "      <td>0.819360</td>\n",
       "      <td>0.815470</td>\n",
       "      <td>0.814351</td>\n",
       "      <td>0.816394</td>\n",
       "      <td>0.002147</td>\n",
       "      <td>1</td>\n",
       "    </tr>\n",
       "    <tr>\n",
       "      <th>15</th>\n",
       "      <td>82.587655</td>\n",
       "      <td>10.084207</td>\n",
       "      <td>19.617947</td>\n",
       "      <td>3.438271</td>\n",
       "      <td>14</td>\n",
       "      <td>16</td>\n",
       "      <td>{'max_depth': 14, 'min_child_weight': 16}</td>\n",
       "      <td>0.819360</td>\n",
       "      <td>0.815470</td>\n",
       "      <td>0.814351</td>\n",
       "      <td>0.816394</td>\n",
       "      <td>0.002147</td>\n",
       "      <td>1</td>\n",
       "    </tr>\n",
       "    <tr>\n",
       "      <th>16</th>\n",
       "      <td>83.291854</td>\n",
       "      <td>12.304969</td>\n",
       "      <td>20.954709</td>\n",
       "      <td>3.303063</td>\n",
       "      <td>14</td>\n",
       "      <td>18</td>\n",
       "      <td>{'max_depth': 14, 'min_child_weight': 18}</td>\n",
       "      <td>0.819360</td>\n",
       "      <td>0.815470</td>\n",
       "      <td>0.814351</td>\n",
       "      <td>0.816394</td>\n",
       "      <td>0.002147</td>\n",
       "      <td>1</td>\n",
       "    </tr>\n",
       "    <tr>\n",
       "      <th>17</th>\n",
       "      <td>84.834656</td>\n",
       "      <td>12.012500</td>\n",
       "      <td>25.886123</td>\n",
       "      <td>0.726524</td>\n",
       "      <td>14</td>\n",
       "      <td>20</td>\n",
       "      <td>{'max_depth': 14, 'min_child_weight': 20}</td>\n",
       "      <td>0.819360</td>\n",
       "      <td>0.815470</td>\n",
       "      <td>0.814351</td>\n",
       "      <td>0.816394</td>\n",
       "      <td>0.002147</td>\n",
       "      <td>1</td>\n",
       "    </tr>\n",
       "    <tr>\n",
       "      <th>18</th>\n",
       "      <td>86.011549</td>\n",
       "      <td>3.325598</td>\n",
       "      <td>28.764529</td>\n",
       "      <td>3.598443</td>\n",
       "      <td>16</td>\n",
       "      <td>10</td>\n",
       "      <td>{'max_depth': 16, 'min_child_weight': 10}</td>\n",
       "      <td>0.817403</td>\n",
       "      <td>0.814290</td>\n",
       "      <td>0.814006</td>\n",
       "      <td>0.815233</td>\n",
       "      <td>0.001539</td>\n",
       "      <td>7</td>\n",
       "    </tr>\n",
       "    <tr>\n",
       "      <th>19</th>\n",
       "      <td>81.452811</td>\n",
       "      <td>9.331495</td>\n",
       "      <td>27.114427</td>\n",
       "      <td>3.846471</td>\n",
       "      <td>16</td>\n",
       "      <td>12</td>\n",
       "      <td>{'max_depth': 16, 'min_child_weight': 12}</td>\n",
       "      <td>0.817403</td>\n",
       "      <td>0.814290</td>\n",
       "      <td>0.814006</td>\n",
       "      <td>0.815233</td>\n",
       "      <td>0.001539</td>\n",
       "      <td>7</td>\n",
       "    </tr>\n",
       "    <tr>\n",
       "      <th>20</th>\n",
       "      <td>86.296059</td>\n",
       "      <td>8.842848</td>\n",
       "      <td>26.335813</td>\n",
       "      <td>7.371275</td>\n",
       "      <td>16</td>\n",
       "      <td>14</td>\n",
       "      <td>{'max_depth': 16, 'min_child_weight': 14}</td>\n",
       "      <td>0.817403</td>\n",
       "      <td>0.814290</td>\n",
       "      <td>0.814006</td>\n",
       "      <td>0.815233</td>\n",
       "      <td>0.001539</td>\n",
       "      <td>7</td>\n",
       "    </tr>\n",
       "    <tr>\n",
       "      <th>21</th>\n",
       "      <td>85.265183</td>\n",
       "      <td>8.500367</td>\n",
       "      <td>27.986261</td>\n",
       "      <td>8.445354</td>\n",
       "      <td>16</td>\n",
       "      <td>16</td>\n",
       "      <td>{'max_depth': 16, 'min_child_weight': 16}</td>\n",
       "      <td>0.817403</td>\n",
       "      <td>0.814290</td>\n",
       "      <td>0.814006</td>\n",
       "      <td>0.815233</td>\n",
       "      <td>0.001539</td>\n",
       "      <td>7</td>\n",
       "    </tr>\n",
       "    <tr>\n",
       "      <th>22</th>\n",
       "      <td>73.976850</td>\n",
       "      <td>13.499720</td>\n",
       "      <td>28.931067</td>\n",
       "      <td>9.495726</td>\n",
       "      <td>16</td>\n",
       "      <td>18</td>\n",
       "      <td>{'max_depth': 16, 'min_child_weight': 18}</td>\n",
       "      <td>0.817403</td>\n",
       "      <td>0.814290</td>\n",
       "      <td>0.814006</td>\n",
       "      <td>0.815233</td>\n",
       "      <td>0.001539</td>\n",
       "      <td>7</td>\n",
       "    </tr>\n",
       "    <tr>\n",
       "      <th>23</th>\n",
       "      <td>82.875432</td>\n",
       "      <td>7.820241</td>\n",
       "      <td>25.944286</td>\n",
       "      <td>6.139222</td>\n",
       "      <td>16</td>\n",
       "      <td>20</td>\n",
       "      <td>{'max_depth': 16, 'min_child_weight': 20}</td>\n",
       "      <td>0.817403</td>\n",
       "      <td>0.814290</td>\n",
       "      <td>0.814006</td>\n",
       "      <td>0.815233</td>\n",
       "      <td>0.001539</td>\n",
       "      <td>7</td>\n",
       "    </tr>\n",
       "    <tr>\n",
       "      <th>24</th>\n",
       "      <td>85.376069</td>\n",
       "      <td>8.878426</td>\n",
       "      <td>23.091892</td>\n",
       "      <td>5.443177</td>\n",
       "      <td>18</td>\n",
       "      <td>10</td>\n",
       "      <td>{'max_depth': 18, 'min_child_weight': 10}</td>\n",
       "      <td>0.817674</td>\n",
       "      <td>0.813307</td>\n",
       "      <td>0.814021</td>\n",
       "      <td>0.815001</td>\n",
       "      <td>0.001913</td>\n",
       "      <td>19</td>\n",
       "    </tr>\n",
       "    <tr>\n",
       "      <th>25</th>\n",
       "      <td>77.265461</td>\n",
       "      <td>9.892447</td>\n",
       "      <td>18.066777</td>\n",
       "      <td>3.030852</td>\n",
       "      <td>18</td>\n",
       "      <td>12</td>\n",
       "      <td>{'max_depth': 18, 'min_child_weight': 12}</td>\n",
       "      <td>0.817674</td>\n",
       "      <td>0.813307</td>\n",
       "      <td>0.814021</td>\n",
       "      <td>0.815001</td>\n",
       "      <td>0.001913</td>\n",
       "      <td>19</td>\n",
       "    </tr>\n",
       "    <tr>\n",
       "      <th>26</th>\n",
       "      <td>85.663157</td>\n",
       "      <td>11.787626</td>\n",
       "      <td>23.562622</td>\n",
       "      <td>2.323385</td>\n",
       "      <td>18</td>\n",
       "      <td>14</td>\n",
       "      <td>{'max_depth': 18, 'min_child_weight': 14}</td>\n",
       "      <td>0.817674</td>\n",
       "      <td>0.813307</td>\n",
       "      <td>0.814021</td>\n",
       "      <td>0.815001</td>\n",
       "      <td>0.001913</td>\n",
       "      <td>19</td>\n",
       "    </tr>\n",
       "    <tr>\n",
       "      <th>27</th>\n",
       "      <td>87.555604</td>\n",
       "      <td>5.454992</td>\n",
       "      <td>23.063208</td>\n",
       "      <td>4.894458</td>\n",
       "      <td>18</td>\n",
       "      <td>16</td>\n",
       "      <td>{'max_depth': 18, 'min_child_weight': 16}</td>\n",
       "      <td>0.817674</td>\n",
       "      <td>0.813307</td>\n",
       "      <td>0.814021</td>\n",
       "      <td>0.815001</td>\n",
       "      <td>0.001913</td>\n",
       "      <td>19</td>\n",
       "    </tr>\n",
       "    <tr>\n",
       "      <th>28</th>\n",
       "      <td>79.799884</td>\n",
       "      <td>9.844364</td>\n",
       "      <td>22.503898</td>\n",
       "      <td>5.564648</td>\n",
       "      <td>18</td>\n",
       "      <td>18</td>\n",
       "      <td>{'max_depth': 18, 'min_child_weight': 18}</td>\n",
       "      <td>0.817674</td>\n",
       "      <td>0.813307</td>\n",
       "      <td>0.814021</td>\n",
       "      <td>0.815001</td>\n",
       "      <td>0.001913</td>\n",
       "      <td>19</td>\n",
       "    </tr>\n",
       "    <tr>\n",
       "      <th>29</th>\n",
       "      <td>84.356053</td>\n",
       "      <td>10.596208</td>\n",
       "      <td>20.201343</td>\n",
       "      <td>2.364988</td>\n",
       "      <td>18</td>\n",
       "      <td>20</td>\n",
       "      <td>{'max_depth': 18, 'min_child_weight': 20}</td>\n",
       "      <td>0.817674</td>\n",
       "      <td>0.813307</td>\n",
       "      <td>0.814021</td>\n",
       "      <td>0.815001</td>\n",
       "      <td>0.001913</td>\n",
       "      <td>19</td>\n",
       "    </tr>\n",
       "    <tr>\n",
       "      <th>30</th>\n",
       "      <td>86.106803</td>\n",
       "      <td>11.509341</td>\n",
       "      <td>20.658501</td>\n",
       "      <td>2.595292</td>\n",
       "      <td>20</td>\n",
       "      <td>10</td>\n",
       "      <td>{'max_depth': 20, 'min_child_weight': 10}</td>\n",
       "      <td>0.817010</td>\n",
       "      <td>0.813934</td>\n",
       "      <td>0.814519</td>\n",
       "      <td>0.815154</td>\n",
       "      <td>0.001334</td>\n",
       "      <td>13</td>\n",
       "    </tr>\n",
       "    <tr>\n",
       "      <th>31</th>\n",
       "      <td>85.558431</td>\n",
       "      <td>13.002117</td>\n",
       "      <td>24.438404</td>\n",
       "      <td>4.126537</td>\n",
       "      <td>20</td>\n",
       "      <td>12</td>\n",
       "      <td>{'max_depth': 20, 'min_child_weight': 12}</td>\n",
       "      <td>0.817010</td>\n",
       "      <td>0.813934</td>\n",
       "      <td>0.814519</td>\n",
       "      <td>0.815154</td>\n",
       "      <td>0.001334</td>\n",
       "      <td>13</td>\n",
       "    </tr>\n",
       "    <tr>\n",
       "      <th>32</th>\n",
       "      <td>78.745612</td>\n",
       "      <td>9.827061</td>\n",
       "      <td>20.136605</td>\n",
       "      <td>1.906158</td>\n",
       "      <td>20</td>\n",
       "      <td>14</td>\n",
       "      <td>{'max_depth': 20, 'min_child_weight': 14}</td>\n",
       "      <td>0.817010</td>\n",
       "      <td>0.813934</td>\n",
       "      <td>0.814519</td>\n",
       "      <td>0.815154</td>\n",
       "      <td>0.001334</td>\n",
       "      <td>13</td>\n",
       "    </tr>\n",
       "    <tr>\n",
       "      <th>33</th>\n",
       "      <td>90.205905</td>\n",
       "      <td>3.471064</td>\n",
       "      <td>20.218416</td>\n",
       "      <td>3.080316</td>\n",
       "      <td>20</td>\n",
       "      <td>16</td>\n",
       "      <td>{'max_depth': 20, 'min_child_weight': 16}</td>\n",
       "      <td>0.817010</td>\n",
       "      <td>0.813934</td>\n",
       "      <td>0.814519</td>\n",
       "      <td>0.815154</td>\n",
       "      <td>0.001334</td>\n",
       "      <td>13</td>\n",
       "    </tr>\n",
       "    <tr>\n",
       "      <th>34</th>\n",
       "      <td>86.223660</td>\n",
       "      <td>11.693571</td>\n",
       "      <td>22.628848</td>\n",
       "      <td>2.026225</td>\n",
       "      <td>20</td>\n",
       "      <td>18</td>\n",
       "      <td>{'max_depth': 20, 'min_child_weight': 18}</td>\n",
       "      <td>0.817010</td>\n",
       "      <td>0.813934</td>\n",
       "      <td>0.814519</td>\n",
       "      <td>0.815154</td>\n",
       "      <td>0.001334</td>\n",
       "      <td>13</td>\n",
       "    </tr>\n",
       "    <tr>\n",
       "      <th>35</th>\n",
       "      <td>68.567949</td>\n",
       "      <td>6.170065</td>\n",
       "      <td>14.901020</td>\n",
       "      <td>1.489428</td>\n",
       "      <td>20</td>\n",
       "      <td>20</td>\n",
       "      <td>{'max_depth': 20, 'min_child_weight': 20}</td>\n",
       "      <td>0.817010</td>\n",
       "      <td>0.813934</td>\n",
       "      <td>0.814519</td>\n",
       "      <td>0.815154</td>\n",
       "      <td>0.001334</td>\n",
       "      <td>13</td>\n",
       "    </tr>\n",
       "  </tbody>\n",
       "</table>\n",
       "</div>"
      ],
      "text/plain": [
       "    mean_fit_time  std_fit_time  mean_score_time  std_score_time  \\\n",
       "0       79.967178     12.909894        26.355807        7.581311   \n",
       "1       82.958766      9.559553        29.890658        9.861749   \n",
       "2       81.792402      9.935518        28.869326        3.583335   \n",
       "3       72.970745     11.496923        20.502733        6.620329   \n",
       "4       83.547832     10.258654        27.113737        6.902744   \n",
       "5       73.801501     13.206338        20.354792        6.789688   \n",
       "6       81.628121     10.253404        23.821714        6.101398   \n",
       "7       82.064519     14.665681        25.367056        6.747873   \n",
       "8       79.865702     12.428195        22.907196        4.465648   \n",
       "9       82.611451     12.601588        18.344129        2.531889   \n",
       "10      78.379525     10.417249        18.896655        3.043945   \n",
       "11      87.681561      6.087449        26.401840        1.659825   \n",
       "12      81.336708     12.218695        25.389118        4.513437   \n",
       "13      86.804291      5.652459        29.111180        4.796531   \n",
       "14      78.295786      3.263891        21.948109        7.010371   \n",
       "15      82.587655     10.084207        19.617947        3.438271   \n",
       "16      83.291854     12.304969        20.954709        3.303063   \n",
       "17      84.834656     12.012500        25.886123        0.726524   \n",
       "18      86.011549      3.325598        28.764529        3.598443   \n",
       "19      81.452811      9.331495        27.114427        3.846471   \n",
       "20      86.296059      8.842848        26.335813        7.371275   \n",
       "21      85.265183      8.500367        27.986261        8.445354   \n",
       "22      73.976850     13.499720        28.931067        9.495726   \n",
       "23      82.875432      7.820241        25.944286        6.139222   \n",
       "24      85.376069      8.878426        23.091892        5.443177   \n",
       "25      77.265461      9.892447        18.066777        3.030852   \n",
       "26      85.663157     11.787626        23.562622        2.323385   \n",
       "27      87.555604      5.454992        23.063208        4.894458   \n",
       "28      79.799884      9.844364        22.503898        5.564648   \n",
       "29      84.356053     10.596208        20.201343        2.364988   \n",
       "30      86.106803     11.509341        20.658501        2.595292   \n",
       "31      85.558431     13.002117        24.438404        4.126537   \n",
       "32      78.745612      9.827061        20.136605        1.906158   \n",
       "33      90.205905      3.471064        20.218416        3.080316   \n",
       "34      86.223660     11.693571        22.628848        2.026225   \n",
       "35      68.567949      6.170065        14.901020        1.489428   \n",
       "\n",
       "   param_max_depth param_min_child_weight  \\\n",
       "0               10                     10   \n",
       "1               10                     12   \n",
       "2               10                     14   \n",
       "3               10                     16   \n",
       "4               10                     18   \n",
       "5               10                     20   \n",
       "6               12                     10   \n",
       "7               12                     12   \n",
       "8               12                     14   \n",
       "9               12                     16   \n",
       "10              12                     18   \n",
       "11              12                     20   \n",
       "12              14                     10   \n",
       "13              14                     12   \n",
       "14              14                     14   \n",
       "15              14                     16   \n",
       "16              14                     18   \n",
       "17              14                     20   \n",
       "18              16                     10   \n",
       "19              16                     12   \n",
       "20              16                     14   \n",
       "21              16                     16   \n",
       "22              16                     18   \n",
       "23              16                     20   \n",
       "24              18                     10   \n",
       "25              18                     12   \n",
       "26              18                     14   \n",
       "27              18                     16   \n",
       "28              18                     18   \n",
       "29              18                     20   \n",
       "30              20                     10   \n",
       "31              20                     12   \n",
       "32              20                     14   \n",
       "33              20                     16   \n",
       "34              20                     18   \n",
       "35              20                     20   \n",
       "\n",
       "                                       params  split0_test_score  \\\n",
       "0   {'max_depth': 10, 'min_child_weight': 10}           0.816471   \n",
       "1   {'max_depth': 10, 'min_child_weight': 12}           0.816471   \n",
       "2   {'max_depth': 10, 'min_child_weight': 14}           0.816471   \n",
       "3   {'max_depth': 10, 'min_child_weight': 16}           0.816471   \n",
       "4   {'max_depth': 10, 'min_child_weight': 18}           0.816471   \n",
       "5   {'max_depth': 10, 'min_child_weight': 20}           0.816471   \n",
       "6   {'max_depth': 12, 'min_child_weight': 10}           0.817502   \n",
       "7   {'max_depth': 12, 'min_child_weight': 12}           0.817502   \n",
       "8   {'max_depth': 12, 'min_child_weight': 14}           0.817502   \n",
       "9   {'max_depth': 12, 'min_child_weight': 16}           0.817502   \n",
       "10  {'max_depth': 12, 'min_child_weight': 18}           0.817502   \n",
       "11  {'max_depth': 12, 'min_child_weight': 20}           0.817502   \n",
       "12  {'max_depth': 14, 'min_child_weight': 10}           0.819360   \n",
       "13  {'max_depth': 14, 'min_child_weight': 12}           0.819360   \n",
       "14  {'max_depth': 14, 'min_child_weight': 14}           0.819360   \n",
       "15  {'max_depth': 14, 'min_child_weight': 16}           0.819360   \n",
       "16  {'max_depth': 14, 'min_child_weight': 18}           0.819360   \n",
       "17  {'max_depth': 14, 'min_child_weight': 20}           0.819360   \n",
       "18  {'max_depth': 16, 'min_child_weight': 10}           0.817403   \n",
       "19  {'max_depth': 16, 'min_child_weight': 12}           0.817403   \n",
       "20  {'max_depth': 16, 'min_child_weight': 14}           0.817403   \n",
       "21  {'max_depth': 16, 'min_child_weight': 16}           0.817403   \n",
       "22  {'max_depth': 16, 'min_child_weight': 18}           0.817403   \n",
       "23  {'max_depth': 16, 'min_child_weight': 20}           0.817403   \n",
       "24  {'max_depth': 18, 'min_child_weight': 10}           0.817674   \n",
       "25  {'max_depth': 18, 'min_child_weight': 12}           0.817674   \n",
       "26  {'max_depth': 18, 'min_child_weight': 14}           0.817674   \n",
       "27  {'max_depth': 18, 'min_child_weight': 16}           0.817674   \n",
       "28  {'max_depth': 18, 'min_child_weight': 18}           0.817674   \n",
       "29  {'max_depth': 18, 'min_child_weight': 20}           0.817674   \n",
       "30  {'max_depth': 20, 'min_child_weight': 10}           0.817010   \n",
       "31  {'max_depth': 20, 'min_child_weight': 12}           0.817010   \n",
       "32  {'max_depth': 20, 'min_child_weight': 14}           0.817010   \n",
       "33  {'max_depth': 20, 'min_child_weight': 16}           0.817010   \n",
       "34  {'max_depth': 20, 'min_child_weight': 18}           0.817010   \n",
       "35  {'max_depth': 20, 'min_child_weight': 20}           0.817010   \n",
       "\n",
       "    split1_test_score  split2_test_score  mean_test_score  std_test_score  \\\n",
       "0            0.813283           0.813495         0.814416        0.001456   \n",
       "1            0.813283           0.813495         0.814416        0.001456   \n",
       "2            0.813283           0.813495         0.814416        0.001456   \n",
       "3            0.813283           0.813495         0.814416        0.001456   \n",
       "4            0.813283           0.813495         0.814416        0.001456   \n",
       "5            0.813283           0.813495         0.814416        0.001456   \n",
       "6            0.812926           0.814121         0.814850        0.001938   \n",
       "7            0.812926           0.814121         0.814850        0.001938   \n",
       "8            0.812926           0.814121         0.814850        0.001938   \n",
       "9            0.812926           0.814121         0.814850        0.001938   \n",
       "10           0.812926           0.814121         0.814850        0.001938   \n",
       "11           0.812926           0.814121         0.814850        0.001938   \n",
       "12           0.815470           0.814351         0.816394        0.002147   \n",
       "13           0.815470           0.814351         0.816394        0.002147   \n",
       "14           0.815470           0.814351         0.816394        0.002147   \n",
       "15           0.815470           0.814351         0.816394        0.002147   \n",
       "16           0.815470           0.814351         0.816394        0.002147   \n",
       "17           0.815470           0.814351         0.816394        0.002147   \n",
       "18           0.814290           0.814006         0.815233        0.001539   \n",
       "19           0.814290           0.814006         0.815233        0.001539   \n",
       "20           0.814290           0.814006         0.815233        0.001539   \n",
       "21           0.814290           0.814006         0.815233        0.001539   \n",
       "22           0.814290           0.814006         0.815233        0.001539   \n",
       "23           0.814290           0.814006         0.815233        0.001539   \n",
       "24           0.813307           0.814021         0.815001        0.001913   \n",
       "25           0.813307           0.814021         0.815001        0.001913   \n",
       "26           0.813307           0.814021         0.815001        0.001913   \n",
       "27           0.813307           0.814021         0.815001        0.001913   \n",
       "28           0.813307           0.814021         0.815001        0.001913   \n",
       "29           0.813307           0.814021         0.815001        0.001913   \n",
       "30           0.813934           0.814519         0.815154        0.001334   \n",
       "31           0.813934           0.814519         0.815154        0.001334   \n",
       "32           0.813934           0.814519         0.815154        0.001334   \n",
       "33           0.813934           0.814519         0.815154        0.001334   \n",
       "34           0.813934           0.814519         0.815154        0.001334   \n",
       "35           0.813934           0.814519         0.815154        0.001334   \n",
       "\n",
       "    rank_test_score  \n",
       "0                31  \n",
       "1                31  \n",
       "2                31  \n",
       "3                31  \n",
       "4                31  \n",
       "5                31  \n",
       "6                25  \n",
       "7                25  \n",
       "8                25  \n",
       "9                25  \n",
       "10               25  \n",
       "11               25  \n",
       "12                1  \n",
       "13                1  \n",
       "14                1  \n",
       "15                1  \n",
       "16                1  \n",
       "17                1  \n",
       "18                7  \n",
       "19                7  \n",
       "20                7  \n",
       "21                7  \n",
       "22                7  \n",
       "23                7  \n",
       "24               19  \n",
       "25               19  \n",
       "26               19  \n",
       "27               19  \n",
       "28               19  \n",
       "29               19  \n",
       "30               13  \n",
       "31               13  \n",
       "32               13  \n",
       "33               13  \n",
       "34               13  \n",
       "35               13  "
      ]
     },
     "execution_count": 55,
     "metadata": {},
     "output_type": "execute_result"
    }
   ],
   "source": [
    "pd.DataFrame(gsearch1.cv_results_)\n"
   ]
  },
  {
   "cell_type": "code",
   "execution_count": 56,
   "metadata": {},
   "outputs": [
    {
     "name": "stdout",
     "output_type": "stream",
     "text": [
      "Entrenamiento: 90.6091%\n",
      "Testeo: 82.2264%.\n",
      "Mean abs error: 540587.2892.\n"
     ]
    },
    {
     "data": {
      "text/plain": [
       "array([3482425.95813658, 1879096.75149996, 6613556.68276304, ...,\n",
       "       1744492.17376268, 2599370.92107758, 1235902.3836734 ])"
      ]
     },
     "execution_count": 56,
     "metadata": {},
     "output_type": "execute_result"
    }
   ],
   "source": [
    "predecir(gsearch1,X_train,y_train,X_test,y_test)"
   ]
  },
  {
   "cell_type": "code",
   "execution_count": null,
   "metadata": {},
   "outputs": [],
   "source": []
  },
  {
   "cell_type": "code",
   "execution_count": null,
   "metadata": {},
   "outputs": [],
   "source": []
  },
  {
   "cell_type": "markdown",
   "metadata": {},
   "source": [
    "## Submission"
   ]
  },
  {
   "cell_type": "code",
   "execution_count": 36,
   "metadata": {},
   "outputs": [],
   "source": [
    "df_test = pd.read_csv('../data/test.csv')"
   ]
  },
  {
   "cell_type": "code",
   "execution_count": 37,
   "metadata": {},
   "outputs": [],
   "source": [
    "import Featurizer as ft"
   ]
  },
  {
   "cell_type": "code",
   "execution_count": 38,
   "metadata": {},
   "outputs": [],
   "source": [
    "df = df_test.copy()\n",
    "df = ft.init_test(df)"
   ]
  },
  {
   "cell_type": "code",
   "execution_count": 40,
   "metadata": {},
   "outputs": [
    {
     "data": {
      "text/plain": [
       "(60000, 80)"
      ]
     },
     "execution_count": 40,
     "metadata": {},
     "output_type": "execute_result"
    }
   ],
   "source": [
    "df.shape"
   ]
  },
  {
   "cell_type": "code",
   "execution_count": 43,
   "metadata": {},
   "outputs": [
    {
     "ename": "KeyError",
     "evalue": "\"['titulo' 'descripcion' 'direccion' 'id' 'dia' 'mes'] not found in axis\"",
     "output_type": "error",
     "traceback": [
      "\u001b[0;31m---------------------------------------------------------------------------\u001b[0m",
      "\u001b[0;31mKeyError\u001b[0m                                  Traceback (most recent call last)",
      "\u001b[0;32m<ipython-input-43-6f7d1be1db7e>\u001b[0m in \u001b[0;36m<module>\u001b[0;34m\u001b[0m\n\u001b[0;32m----> 1\u001b[0;31m \u001b[0mdf\u001b[0m \u001b[0;34m=\u001b[0m \u001b[0mpreprocess\u001b[0m\u001b[0;34m(\u001b[0m\u001b[0mdf\u001b[0m\u001b[0;34m,\u001b[0m \u001b[0mOHE\u001b[0m\u001b[0;34m,\u001b[0m \u001b[0mBE\u001b[0m\u001b[0;34m,\u001b[0m \u001b[0;34m'test'\u001b[0m\u001b[0;34m)\u001b[0m\u001b[0;34m\u001b[0m\u001b[0;34m\u001b[0m\u001b[0m\n\u001b[0m\u001b[1;32m      2\u001b[0m \u001b[0mdf\u001b[0m \u001b[0;34m=\u001b[0m \u001b[0mdf\u001b[0m\u001b[0;34m.\u001b[0m\u001b[0mdrop\u001b[0m\u001b[0;34m(\u001b[0m\u001b[0mcolumns\u001b[0m\u001b[0;34m=\u001b[0m\u001b[0;34m[\u001b[0m\u001b[0;34m\"fecha\"\u001b[0m\u001b[0;34m]\u001b[0m\u001b[0;34m)\u001b[0m\u001b[0;34m\u001b[0m\u001b[0;34m\u001b[0m\u001b[0m\n",
      "\u001b[0;32m<ipython-input-8-a8e9b9dc7514>\u001b[0m in \u001b[0;36mpreprocess\u001b[0;34m(df, OHE, BE, encodingType)\u001b[0m\n\u001b[1;32m      2\u001b[0m     \u001b[0mfeatures\u001b[0m \u001b[0;34m=\u001b[0m \u001b[0mdf\u001b[0m\u001b[0;34m.\u001b[0m\u001b[0mcopy\u001b[0m\u001b[0;34m(\u001b[0m\u001b[0;34m)\u001b[0m\u001b[0;34m\u001b[0m\u001b[0;34m\u001b[0m\u001b[0m\n\u001b[1;32m      3\u001b[0m     \u001b[0mdrop_cols\u001b[0m \u001b[0;34m=\u001b[0m \u001b[0mgetDropCols\u001b[0m\u001b[0;34m(\u001b[0m\u001b[0;34m)\u001b[0m\u001b[0;34m\u001b[0m\u001b[0;34m\u001b[0m\u001b[0m\n\u001b[0;32m----> 4\u001b[0;31m     \u001b[0mfeatures\u001b[0m \u001b[0;34m=\u001b[0m \u001b[0mfeatures\u001b[0m\u001b[0;34m.\u001b[0m\u001b[0mdrop\u001b[0m\u001b[0;34m(\u001b[0m\u001b[0mdrop_cols\u001b[0m\u001b[0;34m,\u001b[0m \u001b[0maxis\u001b[0m\u001b[0;34m=\u001b[0m\u001b[0;36m1\u001b[0m\u001b[0;34m)\u001b[0m\u001b[0;34m\u001b[0m\u001b[0;34m\u001b[0m\u001b[0m\n\u001b[0m\u001b[1;32m      5\u001b[0m \u001b[0;34m\u001b[0m\u001b[0m\n\u001b[1;32m      6\u001b[0m     \u001b[0;32mif\u001b[0m \u001b[0;34m(\u001b[0m\u001b[0mencodingType\u001b[0m \u001b[0;34m==\u001b[0m \u001b[0;34m'train'\u001b[0m\u001b[0;34m)\u001b[0m\u001b[0;34m:\u001b[0m\u001b[0;34m\u001b[0m\u001b[0;34m\u001b[0m\u001b[0m\n",
      "\u001b[0;32m~/.local/lib/python3.7/site-packages/pandas/core/frame.py\u001b[0m in \u001b[0;36mdrop\u001b[0;34m(self, labels, axis, index, columns, level, inplace, errors)\u001b[0m\n\u001b[1;32m   4115\u001b[0m             \u001b[0mlevel\u001b[0m\u001b[0;34m=\u001b[0m\u001b[0mlevel\u001b[0m\u001b[0;34m,\u001b[0m\u001b[0;34m\u001b[0m\u001b[0;34m\u001b[0m\u001b[0m\n\u001b[1;32m   4116\u001b[0m             \u001b[0minplace\u001b[0m\u001b[0;34m=\u001b[0m\u001b[0minplace\u001b[0m\u001b[0;34m,\u001b[0m\u001b[0;34m\u001b[0m\u001b[0;34m\u001b[0m\u001b[0m\n\u001b[0;32m-> 4117\u001b[0;31m             \u001b[0merrors\u001b[0m\u001b[0;34m=\u001b[0m\u001b[0merrors\u001b[0m\u001b[0;34m,\u001b[0m\u001b[0;34m\u001b[0m\u001b[0;34m\u001b[0m\u001b[0m\n\u001b[0m\u001b[1;32m   4118\u001b[0m         )\n\u001b[1;32m   4119\u001b[0m \u001b[0;34m\u001b[0m\u001b[0m\n",
      "\u001b[0;32m~/.local/lib/python3.7/site-packages/pandas/core/generic.py\u001b[0m in \u001b[0;36mdrop\u001b[0;34m(self, labels, axis, index, columns, level, inplace, errors)\u001b[0m\n\u001b[1;32m   3912\u001b[0m         \u001b[0;32mfor\u001b[0m \u001b[0maxis\u001b[0m\u001b[0;34m,\u001b[0m \u001b[0mlabels\u001b[0m \u001b[0;32min\u001b[0m \u001b[0maxes\u001b[0m\u001b[0;34m.\u001b[0m\u001b[0mitems\u001b[0m\u001b[0;34m(\u001b[0m\u001b[0;34m)\u001b[0m\u001b[0;34m:\u001b[0m\u001b[0;34m\u001b[0m\u001b[0;34m\u001b[0m\u001b[0m\n\u001b[1;32m   3913\u001b[0m             \u001b[0;32mif\u001b[0m \u001b[0mlabels\u001b[0m \u001b[0;32mis\u001b[0m \u001b[0;32mnot\u001b[0m \u001b[0;32mNone\u001b[0m\u001b[0;34m:\u001b[0m\u001b[0;34m\u001b[0m\u001b[0;34m\u001b[0m\u001b[0m\n\u001b[0;32m-> 3914\u001b[0;31m                 \u001b[0mobj\u001b[0m \u001b[0;34m=\u001b[0m \u001b[0mobj\u001b[0m\u001b[0;34m.\u001b[0m\u001b[0m_drop_axis\u001b[0m\u001b[0;34m(\u001b[0m\u001b[0mlabels\u001b[0m\u001b[0;34m,\u001b[0m \u001b[0maxis\u001b[0m\u001b[0;34m,\u001b[0m \u001b[0mlevel\u001b[0m\u001b[0;34m=\u001b[0m\u001b[0mlevel\u001b[0m\u001b[0;34m,\u001b[0m \u001b[0merrors\u001b[0m\u001b[0;34m=\u001b[0m\u001b[0merrors\u001b[0m\u001b[0;34m)\u001b[0m\u001b[0;34m\u001b[0m\u001b[0;34m\u001b[0m\u001b[0m\n\u001b[0m\u001b[1;32m   3915\u001b[0m \u001b[0;34m\u001b[0m\u001b[0m\n\u001b[1;32m   3916\u001b[0m         \u001b[0;32mif\u001b[0m \u001b[0minplace\u001b[0m\u001b[0;34m:\u001b[0m\u001b[0;34m\u001b[0m\u001b[0;34m\u001b[0m\u001b[0m\n",
      "\u001b[0;32m~/.local/lib/python3.7/site-packages/pandas/core/generic.py\u001b[0m in \u001b[0;36m_drop_axis\u001b[0;34m(self, labels, axis, level, errors)\u001b[0m\n\u001b[1;32m   3944\u001b[0m                 \u001b[0mnew_axis\u001b[0m \u001b[0;34m=\u001b[0m \u001b[0maxis\u001b[0m\u001b[0;34m.\u001b[0m\u001b[0mdrop\u001b[0m\u001b[0;34m(\u001b[0m\u001b[0mlabels\u001b[0m\u001b[0;34m,\u001b[0m \u001b[0mlevel\u001b[0m\u001b[0;34m=\u001b[0m\u001b[0mlevel\u001b[0m\u001b[0;34m,\u001b[0m \u001b[0merrors\u001b[0m\u001b[0;34m=\u001b[0m\u001b[0merrors\u001b[0m\u001b[0;34m)\u001b[0m\u001b[0;34m\u001b[0m\u001b[0;34m\u001b[0m\u001b[0m\n\u001b[1;32m   3945\u001b[0m             \u001b[0;32melse\u001b[0m\u001b[0;34m:\u001b[0m\u001b[0;34m\u001b[0m\u001b[0;34m\u001b[0m\u001b[0m\n\u001b[0;32m-> 3946\u001b[0;31m                 \u001b[0mnew_axis\u001b[0m \u001b[0;34m=\u001b[0m \u001b[0maxis\u001b[0m\u001b[0;34m.\u001b[0m\u001b[0mdrop\u001b[0m\u001b[0;34m(\u001b[0m\u001b[0mlabels\u001b[0m\u001b[0;34m,\u001b[0m \u001b[0merrors\u001b[0m\u001b[0;34m=\u001b[0m\u001b[0merrors\u001b[0m\u001b[0;34m)\u001b[0m\u001b[0;34m\u001b[0m\u001b[0;34m\u001b[0m\u001b[0m\n\u001b[0m\u001b[1;32m   3947\u001b[0m             \u001b[0mresult\u001b[0m \u001b[0;34m=\u001b[0m \u001b[0mself\u001b[0m\u001b[0;34m.\u001b[0m\u001b[0mreindex\u001b[0m\u001b[0;34m(\u001b[0m\u001b[0;34m**\u001b[0m\u001b[0;34m{\u001b[0m\u001b[0maxis_name\u001b[0m\u001b[0;34m:\u001b[0m \u001b[0mnew_axis\u001b[0m\u001b[0;34m}\u001b[0m\u001b[0;34m)\u001b[0m\u001b[0;34m\u001b[0m\u001b[0;34m\u001b[0m\u001b[0m\n\u001b[1;32m   3948\u001b[0m \u001b[0;34m\u001b[0m\u001b[0m\n",
      "\u001b[0;32m~/.local/lib/python3.7/site-packages/pandas/core/indexes/base.py\u001b[0m in \u001b[0;36mdrop\u001b[0;34m(self, labels, errors)\u001b[0m\n\u001b[1;32m   5338\u001b[0m         \u001b[0;32mif\u001b[0m \u001b[0mmask\u001b[0m\u001b[0;34m.\u001b[0m\u001b[0many\u001b[0m\u001b[0;34m(\u001b[0m\u001b[0;34m)\u001b[0m\u001b[0;34m:\u001b[0m\u001b[0;34m\u001b[0m\u001b[0;34m\u001b[0m\u001b[0m\n\u001b[1;32m   5339\u001b[0m             \u001b[0;32mif\u001b[0m \u001b[0merrors\u001b[0m \u001b[0;34m!=\u001b[0m \u001b[0;34m\"ignore\"\u001b[0m\u001b[0;34m:\u001b[0m\u001b[0;34m\u001b[0m\u001b[0;34m\u001b[0m\u001b[0m\n\u001b[0;32m-> 5340\u001b[0;31m                 \u001b[0;32mraise\u001b[0m \u001b[0mKeyError\u001b[0m\u001b[0;34m(\u001b[0m\u001b[0;34m\"{} not found in axis\"\u001b[0m\u001b[0;34m.\u001b[0m\u001b[0mformat\u001b[0m\u001b[0;34m(\u001b[0m\u001b[0mlabels\u001b[0m\u001b[0;34m[\u001b[0m\u001b[0mmask\u001b[0m\u001b[0;34m]\u001b[0m\u001b[0;34m)\u001b[0m\u001b[0;34m)\u001b[0m\u001b[0;34m\u001b[0m\u001b[0;34m\u001b[0m\u001b[0m\n\u001b[0m\u001b[1;32m   5341\u001b[0m             \u001b[0mindexer\u001b[0m \u001b[0;34m=\u001b[0m \u001b[0mindexer\u001b[0m\u001b[0;34m[\u001b[0m\u001b[0;34m~\u001b[0m\u001b[0mmask\u001b[0m\u001b[0;34m]\u001b[0m\u001b[0;34m\u001b[0m\u001b[0;34m\u001b[0m\u001b[0m\n\u001b[1;32m   5342\u001b[0m         \u001b[0;32mreturn\u001b[0m \u001b[0mself\u001b[0m\u001b[0;34m.\u001b[0m\u001b[0mdelete\u001b[0m\u001b[0;34m(\u001b[0m\u001b[0mindexer\u001b[0m\u001b[0;34m)\u001b[0m\u001b[0;34m\u001b[0m\u001b[0;34m\u001b[0m\u001b[0m\n",
      "\u001b[0;31mKeyError\u001b[0m: \"['titulo' 'descripcion' 'direccion' 'id' 'dia' 'mes'] not found in axis\""
     ]
    }
   ],
   "source": [
    "df = preprocess(df, OHE, BE, 'test')\n"
   ]
  },
  {
   "cell_type": "code",
   "execution_count": 44,
   "metadata": {},
   "outputs": [],
   "source": [
    "df = df.drop(columns=[\"fecha\"])\n"
   ]
  },
  {
   "cell_type": "code",
   "execution_count": 45,
   "metadata": {},
   "outputs": [
    {
     "ename": "ValueError",
     "evalue": "Number of features of the model must match the input. Model n_features_ is 154 and input n_features is 153 ",
     "output_type": "error",
     "traceback": [
      "\u001b[0;31m---------------------------------------------------------------------------\u001b[0m",
      "\u001b[0;31mValueError\u001b[0m                                Traceback (most recent call last)",
      "\u001b[0;32m<ipython-input-45-66acf8ba19af>\u001b[0m in \u001b[0;36m<module>\u001b[0;34m\u001b[0m\n\u001b[0;32m----> 1\u001b[0;31m \u001b[0msubmit_prediction\u001b[0m \u001b[0;34m=\u001b[0m \u001b[0mmodel\u001b[0m\u001b[0;34m.\u001b[0m\u001b[0mpredict\u001b[0m\u001b[0;34m(\u001b[0m \u001b[0mdf\u001b[0m \u001b[0;34m)\u001b[0m\u001b[0;34m\u001b[0m\u001b[0;34m\u001b[0m\u001b[0m\n\u001b[0m",
      "\u001b[0;32m~/.local/lib/python3.7/site-packages/lightgbm/sklearn.py\u001b[0m in \u001b[0;36mpredict\u001b[0;34m(self, X, raw_score, num_iteration, pred_leaf, pred_contrib, **kwargs)\u001b[0m\n\u001b[1;32m    656\u001b[0m                              \u001b[0;34m\"match the input. Model n_features_ is %s and \"\u001b[0m\u001b[0;34m\u001b[0m\u001b[0;34m\u001b[0m\u001b[0m\n\u001b[1;32m    657\u001b[0m                              \u001b[0;34m\"input n_features is %s \"\u001b[0m\u001b[0;34m\u001b[0m\u001b[0;34m\u001b[0m\u001b[0m\n\u001b[0;32m--> 658\u001b[0;31m                              % (self._n_features, n_features))\n\u001b[0m\u001b[1;32m    659\u001b[0m         return self.booster_.predict(X, raw_score=raw_score, num_iteration=num_iteration,\n\u001b[1;32m    660\u001b[0m                                      pred_leaf=pred_leaf, pred_contrib=pred_contrib, **kwargs)\n",
      "\u001b[0;31mValueError\u001b[0m: Number of features of the model must match the input. Model n_features_ is 154 and input n_features is 153 "
     ]
    }
   ],
   "source": [
    "submit_prediction = model.predict( df )"
   ]
  },
  {
   "cell_type": "code",
   "execution_count": 25,
   "metadata": {},
   "outputs": [],
   "source": [
    "def contiene(df, columna, palabra):\n",
    "    return df[columna].str.contains(palabra).astype(int)"
   ]
  },
  {
   "cell_type": "code",
   "execution_count": 26,
   "metadata": {},
   "outputs": [],
   "source": [
    "def contiene_alguna(df, columna, palabras):\n",
    "    result = df[columna].apply(lambda x: 0)\n",
    "    for palabra in palabras:\n",
    "        result = result | contiene(df, columna, palabra)\n",
    "        \n",
    "    return result    "
   ]
  },
  {
   "cell_type": "code",
   "execution_count": 61,
   "metadata": {},
   "outputs": [],
   "source": [
    "df = df_test.copy()"
   ]
  },
  {
   "cell_type": "code",
   "execution_count": 62,
   "metadata": {},
   "outputs": [],
   "source": [
    "# del wordcloud\n",
    "df[\"palabra_hermosa\"] = contiene_alguna(df, \"descripcion\", [\"hermosa\", \"bonita\", \"bonito\", \"linda\", \"cholula\", \"cholulo\", \"preciosa\", \"precioso\"]) | contiene_alguna(df, \"titulo\", [\"hermosa\", \"bonita\", \"bonito\", \"linda\", \"cholula\", \"cholulo\", \"precioso\", \"preciosa\"])\n",
    "df[\"palabra_excelente\"] = contiene_alguna(df, \"descripcion\", [\"excelente\", \"excelentes\"]) | contiene_alguna(df, \"titulo\", [\"excelente\", \"excelentes\"])\n",
    "df[\"palabra_mejor\"] = contiene_alguna(df, \"descripcion\", [\"mejor\", \"mejores\"]) | contiene_alguna(df, \"titulo\", [\"mejor\", \"mejores\"])\n",
    "df[\"palabra_grande\"] = contiene_alguna(df, \"descripcion\", [\"grande\", \"gran\", \"amplia\", \"amplias\", \"amplio\", \"amplios\"]) | contiene_alguna(df, \"titulo\", [\"grande\", \"gran\", \"amplia\", \"amplias\", \"amplio\", \"amplios\"])\n",
    "df[\"palabra_equipada\"] = contiene_alguna(df, \"descripcion\", [\"equipada\", \"equipado\", \"completa\", \"completo\"]) | contiene_alguna(df, \"descripcion\", [\"equipada\", \"equipado\", \"completa\", \"completo\"])\n",
    "df[\"palabra_vestidor\"] = contiene_alguna(df, \"descripcion\", [\"vestidor\", \"closet\"]) | contiene_alguna(df, \"titulo\", [\"vestidor\", \"closet\"])\n",
    "df[\"palabra_credito\"] = contiene_alguna(df, \"descripcion\", [\"credito\", \"crédito\", \"créditos\", \"creditos\", \"banco\", \"banca\", \"bancario\", \"bancarios\", \"hipoteca\"]) | contiene_alguna(df, \"titulo\", [\"credito\", \"crédito\", \"créditos\", \"creditos\", \"banco\", \"banca\", \"bancario\", \"bancarios\", \"hipoteca\"])\n",
    "df[\"palabra_privada\"] = contiene_alguna(df, \"descripcion\", [\"privada\", \"privado\"]) | contiene_alguna(df, \"titulo\", [\"privada\", \"privado\"])\n",
    "df[\"palabra_bodega\"] = contiene_alguna(df, \"descripcion\", [\"bodega\"]) | contiene_alguna(df, \"titulo\", [\"bodega\"])\n",
    "df[\"palabra_club\"] = contiene_alguna(df, \"descripcion\", [\"club\"]) | contiene_alguna(df, \"titulo\", [\"club\"])\n",
    "df[\"palabra_cerrada\"] = contiene_alguna(df, \"descripcion\", [\"cerrada\", \"cerrado\"]) | contiene_alguna(df, \"titulo\", [\"cerrada\", \"cerrado\"])\n",
    "df[\"palabra_jardin\"] = contiene_alguna(df, \"descripcion\", [\"jardin\", \"jardín\", \"garden\", \"patio\"]) | contiene_alguna(df, \"titulo\", [\"jardin\", \"jardín\", \"garden\", \"patio\"])\n",
    "df[\"palabra_oportunidad\"] = contiene_alguna(df, \"descripcion\", [\"oportunidad\"]) | contiene_alguna(df, \"titulo\", [\"oportunidad\"])\n",
    "df[\"palabra_tv\"] = contiene_alguna(df, \"descripcion\", [\"tv\", \"tele\", \"television\", \"televisión\", \"televisor\"]) | contiene_alguna(df, \"titulo\", [\"tv\", \"tele\", \"television\", \"televisión\", \"televisor\"])\n",
    "df[\"palabra_juegos\"] = contiene_alguna(df, \"descripcion\", [\"juego\"]) | contiene_alguna(df, \"titulo\", [\"juego\"])\n",
    "df[\"palabra_niño\"] = contiene_alguna(df, \"descripcion\", [\"niño\", \"niña\", \"infantil\"]) | contiene_alguna(df, \"titulo\", [\"niño\", \"niña\", \"infantil\"])\n",
    "df[\"palabra_transporte\"] = contiene_alguna(df, \"descripcion\", [\"transporte\"]) | contiene_alguna(df, \"titulo\", [\"transporte\"])\n",
    "df[\"palabra_estudio\"] = contiene_alguna(df, \"descripcion\", [\"estudio\"]) | contiene_alguna(df, \"titulo\", [\"estudio\"])\n",
    "df[\"palabra_terraza\"] = contiene_alguna(df, \"descripcion\", [\"terraza\"]) | contiene_alguna(df, \"titulo\", [\"terraza\"])\n",
    "df[\"palabra_balcon\"] = contiene_alguna(df, \"descripcion\", [\"balcón\", \"balcon\"]) | contiene_alguna(df, \"titulo\", [\"balcón\", \"balcon\"])\n",
    "df[\"palabra_lote\"] = contiene_alguna(df, \"descripcion\", [\"lote\", \"terreno\"]) | contiene_alguna(df, \"titulo\", [\"lote\", \"terreno\"])\n",
    "df[\"palabra_fraccionamiento\"] = contiene_alguna(df, \"descripcion\", [\"fraccionamiento\", \"fracc\"]) | contiene_alguna(df, \"titulo\", [\"fraccionamiento\", \"fracc\"])\n",
    "df[\"palabra_local\"] = contiene_alguna(df, \"descripcion\", [\"local\", \"tienda\", \"comercial\"]) | contiene_alguna(df, \"titulo\", [\"local\", \"tienda\", \"comercial\"])\n",
    "df[\"palabra_seguridad\"] = contiene_alguna(df, \"descripcion\", [\"vigilancia\", \"vigilador\", \"seguridad\", \"guardia\"]) | contiene_alguna(df, \"titulo\", [\"vigilancia\", \"vigilador\", \"seguridad\", \"guardia\"])\n",
    "df[\"palabra_garage\"] = contiene_alguna(df, \"descripcion\", [\"garage\", \"auto\", \"estacionamiento\"]) | contiene_alguna(df, \"titulo\", [\"garage\", \"auto\", \"estacionamiento\"])\n",
    "df[\"palabra_centro\"] = contiene_alguna(df, \"descripcion\", [\"centro\", \"central\", \"cercano\", \"cercania\", \"minuto\"]) | contiene_alguna(df, \"titulo\", [\"centro\", \"central\", \"cercano\", \"cercania\", \"minuto\"])\n",
    "df[\"palabra_techada\"] = contiene_alguna(df, \"descripcion\", [\"techada\", \"techado\", \"roof\"]) | contiene_alguna(df, \"titulo\", [\"techada\", \"techado\", \"roof\"])\n",
    "df[\"palabra_estancia\"] = contiene_alguna(df, \"descripcion\", [\"estancia\"]) | contiene_alguna(df, \"titulo\", [\"estancia\"])\n",
    "df[\"palabra_alberca\"] = contiene_alguna(df, \"descripcion\", [\"alberca\"]) | contiene_alguna(df, \"titulo\", [\"alberca\"])\n",
    "df[\"palabra_servicios\"] = contiene_alguna(df, \"descripcion\", [\"servicios\"]) | contiene_alguna(df, \"titulo\", [\"servicios\"])\n",
    "df[\"palabra_servicio\"] = contiene_alguna(df, \"descripcion\", [\"servicio\"]) | contiene_alguna(df, \"titulo\", [\"servicio\"])\n",
    "df[\"palabra_estilo\"] = contiene_alguna(df, \"descripcion\", [\"estilo\"]) | contiene_alguna(df, \"titulo\", [\"estilo\"])\n",
    "df[\"palabra_frente\"] = contiene_alguna(df, \"descripcion\", [\"frente\"]) | contiene_alguna(df, \"titulo\", [\"frente\"])\n",
    "df[\"palabra_vista\"] = contiene_alguna(df, \"descripcion\", [\"vista\"]) | contiene_alguna(df, \"titulo\", [\"vista\"])\n",
    "df[\"palabra_visitas\"] = contiene_alguna(df, \"descripcion\", [\"visita\"]) | contiene_alguna(df, \"titulo\", [\"visita\"])\n",
    "df[\"palabra_parque\"] = contiene_alguna(df, \"descripcion\", [\"parque\", \"plaza\", \"verde\"]) | contiene_alguna(df, \"titulo\", [\"parque\", \"plaza\", \"verde\"])\n",
    "df[\"palabra_areas\"] = contiene_alguna(df, \"descripcion\", [\"area\", \"área\"]) | contiene_alguna(df, \"titulo\", [\"area\", \"área\"])\n",
    "df[\"palabra_estrenar\"] = contiene_alguna(df, \"descripcion\", [\"estrenar\", \"estreno\", \"estrene\"]) | contiene_alguna(df, \"titulo\", [\"estrenar\", \"estreno\", \"estrene\"])\n",
    "df[\"palabra_infonavit\"] = contiene_alguna(df, \"descripcion\", [\"infonavit\"]) | contiene_alguna(df, \"titulo\", [\"infonavit\"])\n",
    "df[\"palabra_residencial\"] = contiene_alguna(df, \"descripcion\", [\"residencia\"]) | contiene_alguna(df, \"titulo\", [\"residencia\"])\n",
    "df[\"palabra_escuela\"] = contiene_alguna(df, \"descripcion\", [\"escuela\", \"colegio\", \"educacion\", \"educación\", \"uni\", \"universidad\", \"facultad\"]) | contiene_alguna(df, \"titulo\", [\"escuela\", \"colegio\", \"educacion\", \"educación\", \"uni\", \"universidad\", \"facultad\"])\n",
    "df[\"palabra_exclusivo\"] = contiene_alguna(df, \"descripcion\", [\"exclusivo\", \"exclusividad\"]) | contiene_alguna(df, \"titulo\", [\"exclusivo\", \"exclusividad\"])\n",
    "df[\"palabra_lujo\"] = contiene_alguna(df, \"descripcion\", [\"lujo\"]) | contiene_alguna(df, \"titulo\", [\"lujo\"])\n",
    "df[\"palabra_esquina\"] = contiene_alguna(df, \"descripcion\", [\"esquina\"]) | contiene_alguna(df, \"titulo\", [\"esquina\"])\n",
    "df[\"palabra_refaccion\"] = contiene_alguna(df, \"descripcion\", [\"refaccion\", \"refacción\", \"reacondicionado\", \"remodelada\", \"remodelado\"]) | contiene_alguna(df, \"titulo\", [\"refaccion\", \"refacción\", \"reacondicionado\", \"remodelada\", \"remodelado\"])\n",
    "df[\"palabra_country\"] = contiene_alguna(df, \"descripcion\", [\"country\"]) | contiene_alguna(df, \"titulo\", [\"country\"])\n",
    "df[\"palabra_barra\"] = contiene_alguna(df, \"descripcion\", [\"barra\"]) | contiene_alguna(df, \"titulo\", [\"barra\"])\n",
    "df[\"palabra_lavado\"] = contiene_alguna(df, \"descripcion\", [\"lavado\"]) | contiene_alguna(df, \"titulo\", [\"lavado\"])\n",
    "df[\"palabra_renta\"] = contiene_alguna(df, \"descripcion\", [\"renta\", \"alquiler\", \"alquilar\"]) | contiene_alguna(df, \"titulo\", [\"renta\", \"alquiler\", \"alquilar\"])\n",
    "df[\"palabra_super\"] = contiene_alguna(df, \"descripcion\", [\"super\"]) | contiene_alguna(df, \"titulo\", [\"super\"])\n",
    "df[\"palabra_lago\"] = contiene_alguna(df, \"descripcion\", [\"lago\"]) | contiene_alguna(df, \"titulo\", [\"lago\"])\n",
    "df[\"palabra_bosque\"] = contiene_alguna(df, \"descripcion\", [\"bosque\", \"arbol\", \"árbol\"]) | contiene_alguna(df, \"titulo\", [\"bosque\", \"arbol\", \"árbol\"])\n",
    "df[\"palabra_avenida\"] = contiene_alguna(df, \"descripcion\", [\"av\", \"avenida\"]) | contiene_alguna(df, \"titulo\", [\"av\", \"avenida\"])\n",
    "df[\"palabra_hospital\"] = contiene_alguna(df, \"descripcion\", [\"hospital\", \"medicina\", \"medico\", \"médico\", \"farmacia\"]) | contiene_alguna(df, \"titulo\", [\"hospital\", \"medicina\", \"medico\", \"médico\", \"farmacia\"])\n",
    "df[\"palabra_pileta\"] = contiene_alguna(df, \"descripcion\", [\"pileta\", \"piscina\", \"jacuzzi\"]) | contiene_alguna(df, \"titulo\", [\"pileta\", \"piscina\", \"jacuzzi\"])\n",
    "df[\"palabra_solarium\"] = contiene_alguna(df, \"descripcion\", [\"solarium\"]) | contiene_alguna(df, \"titulo\", [\"solarium\"])\n",
    "df[\"palabra_gas\"] = contiene_alguna(df, \"descripcion\", [\"gas\", \"estufa\"]) | contiene_alguna(df, \"titulo\", [\"gas\", \"estufa\"])\n",
    "\n",
    "\n"
   ]
  },
  {
   "cell_type": "code",
   "execution_count": 63,
   "metadata": {},
   "outputs": [
    {
     "name": "stdout",
     "output_type": "stream",
     "text": [
      "Train shapes: X=(180000, 80) y=(180000,)\n",
      "Test  shapes: X=(60000, 80)  \n"
     ]
    }
   ],
   "source": [
    "print(f\"Train shapes: X={X_train_submit.shape} y={y_train.shape}\")\n",
    "print(f\"Test  shapes: X={df.shape}  \")"
   ]
  },
  {
   "cell_type": "code",
   "execution_count": 64,
   "metadata": {},
   "outputs": [
    {
     "data": {
      "text/plain": [
       "['tipodepropiedad', 'provincia', 'ciudad', 'idzona']"
      ]
     },
     "metadata": {},
     "output_type": "display_data"
    }
   ],
   "source": [
    "#X_train_submit = preprocess(X_train_submit, OHE, BE, 'train')\n",
    "df = preprocess(df, OHE, BE, 'test')"
   ]
  },
  {
   "cell_type": "code",
   "execution_count": 65,
   "metadata": {},
   "outputs": [
    {
     "name": "stdout",
     "output_type": "stream",
     "text": [
      "Train shapes: X=(180000, 80) y=(240000,)\n",
      "Test  shapes: X=(60000, 154)\n"
     ]
    }
   ],
   "source": [
    "print(f\"Train shapes: X={X_train_submit.shape} y={y.shape}\")\n",
    "print(f\"Test  shapes: X={df.shape}\")"
   ]
  },
  {
   "cell_type": "code",
   "execution_count": 66,
   "metadata": {},
   "outputs": [],
   "source": [
    "submit_prediction = gsearch1.predict( df )"
   ]
  },
  {
   "cell_type": "code",
   "execution_count": null,
   "metadata": {},
   "outputs": [],
   "source": []
  },
  {
   "cell_type": "code",
   "execution_count": 42,
   "metadata": {},
   "outputs": [],
   "source": [
    "#cols_diff = []\n",
    "#ft = X_train.columns.values\n",
    "#fs = df.columns.values\n",
    "#for feat in fs:\n",
    "#    if feat not in ft:\n",
    "#        cols_diff.append(feat)\n",
    "        \n",
    "#display(cols_diff)        "
   ]
  },
  {
   "cell_type": "code",
   "execution_count": 43,
   "metadata": {},
   "outputs": [],
   "source": [
    "#pd.concat([df_test[['id']], pd.Series(submit_prediction)], axis=1).rename(columns={0:\"target\"}).to_csv(\"../data/submission13.csv\", index=False)"
   ]
  },
  {
   "cell_type": "code",
   "execution_count": 67,
   "metadata": {},
   "outputs": [],
   "source": [
    "from submission_helper import submission_output\n",
    "\n",
    "output = submission_output(df_test, submit_prediction)\n",
    "\n",
    "output.to_csv('../data/submission16.csv', index=False)"
   ]
  },
  {
   "cell_type": "code",
   "execution_count": null,
   "metadata": {},
   "outputs": [],
   "source": []
  }
 ],
 "metadata": {
  "kernelspec": {
   "display_name": "Python 3",
   "language": "python",
   "name": "python3"
  },
  "language_info": {
   "codemirror_mode": {
    "name": "ipython",
    "version": 3
   },
   "file_extension": ".py",
   "mimetype": "text/x-python",
   "name": "python",
   "nbconvert_exporter": "python",
   "pygments_lexer": "ipython3",
   "version": "3.7.5rc1"
  }
 },
 "nbformat": 4,
 "nbformat_minor": 2
}

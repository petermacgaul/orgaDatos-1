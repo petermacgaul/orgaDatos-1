{
 "cells": [
  {
   "cell_type": "code",
   "execution_count": 4,
   "metadata": {},
   "outputs": [],
   "source": [
    "import category_encoders as ce\n",
    "\n",
    "from sklearn.impute import SimpleImputer\n",
    "from sklearn.preprocessing import LabelEncoder\n",
    "from sklearn.preprocessing import MinMaxScaler\n",
    "from sklearn.model_selection import train_test_split\n",
    "\n",
    "import matplotlib.pyplot as plt\n",
    "import pandas as pd\n",
    "import numpy as np"
   ]
  },
  {
   "cell_type": "markdown",
   "metadata": {},
   "source": [
    "## Defino funciones"
   ]
  },
  {
   "cell_type": "code",
   "execution_count": 5,
   "metadata": {},
   "outputs": [],
   "source": [
    "def imputar(df):\n",
    "    imp = SimpleImputer()\n",
    "    cols = df._get_numeric_data().columns\n",
    "    df_result = df.copy()\n",
    "    for x in cols:\n",
    "        df_result[x]=imp.fit_transform(df[[x]])\n",
    "    return df_result"
   ]
  },
  {
   "cell_type": "code",
   "execution_count": 6,
   "metadata": {},
   "outputs": [],
   "source": [
    "from sklearn.metrics import mean_absolute_error\n",
    "\n",
    "def predecir(model, train_features, train_labels, test_features, test_labels):\n",
    "    predict = model.predict(test_features)\n",
    "    error = mean_absolute_error(test_labels, predict)\n",
    "    score = model.score(test_features,test_labels)\n",
    "    \n",
    "    print('Entrenamiento: {:0.4f}%'.format(model.score(train_features, train_labels)*100))\n",
    "    print('Testeo: {:0.4f}%.'.format(score*100))\n",
    "    print('Mean abs error: {:0.4f}.'.format(error))\n",
    "\n",
    "    \n",
    "    return predict"
   ]
  },
  {
   "cell_type": "code",
   "execution_count": 7,
   "metadata": {},
   "outputs": [],
   "source": [
    "def transformar(df,colums,func):\n",
    "    for x in colums:\n",
    "        df[x]=df[x].transform(lambda y: func(y))\n",
    "        \n",
    "columnas_para_transformar = [\"metroscubiertos\",\"metrostotales\",\"metroscubiertostotales\"]\n",
    "\n",
    "#transformar(df1,columnas_para_transformar,np.sqrt)"
   ]
  },
  {
   "cell_type": "code",
   "execution_count": 8,
   "metadata": {},
   "outputs": [],
   "source": [
    "def knn_best_distance(df,dist,x_train,y_train,x_test,y_test):\n",
    "    for x in dist:\n",
    "        print(x+\" --------------------------\")\n",
    "        result , k = knn_predictor(x,x_train,y_train,x_test,y_test)\n",
    "        df[x] = result\n",
    "        "
   ]
  },
  {
   "cell_type": "code",
   "execution_count": 9,
   "metadata": {},
   "outputs": [],
   "source": [
    "from sklearn.neighbors import KNeighborsRegressor\n",
    "\n",
    "def knn_predictor(distancia,x_train,y_train,x_test,y_test):\n",
    "    kesimos = []\n",
    "    result = []\n",
    "    for k in range(4,10):\n",
    "        kesimos.append(k)\n",
    "        print(k)\n",
    "        knn = KNeighborsRegressor(n_neighbors = k, metric=distancia)\n",
    "        knn.fit(x_train, y_train)\n",
    "        res = predecir(knn,x_train,y_train,x_test,y_test)\n",
    "        result.append(res)\n",
    "    return result, kesimos"
   ]
  },
  {
   "cell_type": "markdown",
   "metadata": {},
   "source": [
    "## Importo dataset"
   ]
  },
  {
   "cell_type": "code",
   "execution_count": 10,
   "metadata": {},
   "outputs": [],
   "source": [
    "df = pd.read_csv('../data/test_features.csv')\n",
    "\n",
    "df['fecha'] = pd.to_datetime(df['fecha'])\n",
    "df['anio'] = df['fecha'].dt.year\n",
    "df[\"mes\"] = df['fecha'].dt.month\n",
    "df[\"dia\"] = df['fecha'].dt.day"
   ]
  },
  {
   "cell_type": "code",
   "execution_count": 136,
   "metadata": {},
   "outputs": [],
   "source": [
    "df = df.drop(columns=[\"direccion\",\"descripcion\",\"titulo\"])"
   ]
  },
  {
   "cell_type": "markdown",
   "metadata": {},
   "source": [
    " ## Completo los datos faltantes"
   ]
  },
  {
   "cell_type": "code",
   "execution_count": 137,
   "metadata": {},
   "outputs": [],
   "source": [
    "oneHot = ['tipodepropiedad','provincia']\n",
    "binary = ['ciudad']\n",
    "\n",
    "\n",
    "df_ids = df[\"id\"]\n",
    "df = df.drop(columns=[\"id\"])"
   ]
  },
  {
   "cell_type": "code",
   "execution_count": 138,
   "metadata": {},
   "outputs": [],
   "source": [
    "#Completo los numericos\n",
    "df1 = imputar(df)\n",
    "\n",
    "\n",
    "#Completo los categoricos\n",
    "imp = SimpleImputer(strategy=\"constant\",fill_value=\"-\")\n",
    "\n",
    "df1[\"tipodepropiedad\"] = imp.fit_transform(df1[[\"tipodepropiedad\"]])\n",
    "df1[\"provincia\"] = imp.fit_transform(df1[[\"provincia\"]])\n",
    "df1[\"ciudad\"] = imp.fit_transform(df1[[\"ciudad\"]])"
   ]
  },
  {
   "cell_type": "code",
   "execution_count": 139,
   "metadata": {},
   "outputs": [],
   "source": [
    "df1[\"metroscubiertostotales\"]=df1[\"metroscubiertos\"]+df1[\"metrostotales\"]\n",
    "df1[\"ambientes\"]=df1[\"banos\"]+df1[\"habitaciones\"]\n",
    "df1[\"ambientesygarage\"]=df1[\"banos\"]+df1[\"habitaciones\"]+df1[\"garages\"]"
   ]
  },
  {
   "cell_type": "markdown",
   "metadata": {},
   "source": [
    " ## Genero los encodes"
   ]
  },
  {
   "cell_type": "code",
   "execution_count": 140,
   "metadata": {},
   "outputs": [
    {
     "data": {
      "text/plain": [
       "(60000, 105)"
      ]
     },
     "execution_count": 140,
     "metadata": {},
     "output_type": "execute_result"
    }
   ],
   "source": [
    "data_cols = df1._get_numeric_data().columns\n",
    "baseline_data = df1[data_cols]\n",
    "\n",
    "encoder = ce.OneHotEncoder()\n",
    "\n",
    "encoded = encoder.fit_transform(df1[oneHot])\n",
    "data = baseline_data.join(encoded)\n",
    "\n",
    "encoder = ce.BinaryEncoder()\n",
    "encoded = encoder.fit_transform(df1[binary])\n",
    "data = data.join(encoded)\n",
    "\n",
    "data.shape"
   ]
  },
  {
   "cell_type": "markdown",
   "metadata": {},
   "source": [
    "\n",
    "\n",
    "## Divido data set\n"
   ]
  },
  {
   "cell_type": "code",
   "execution_count": 98,
   "metadata": {},
   "outputs": [
    {
     "name": "stdout",
     "output_type": "stream",
     "text": [
      "Original shapes: X=(240000, 107) y=(240000,)\n",
      "Train shapes: X=(192000, 107) y=(192000,)\n",
      "Test  shapes: X=(48000, 107)  y=(48000,)\n"
     ]
    }
   ],
   "source": [
    "x = df[data.columns.drop(\"precio\")]\n",
    "y = df['precio']\n",
    "\n",
    "x_train, x_test, y_train, y_test = train_test_split(x, y, test_size=0.20)\n",
    "\n",
    "print(f\"Original shapes: X={x.shape} y={y.shape}\")\n",
    "print(f\"Train shapes: X={x_train.shape} y={y_train.shape}\")\n",
    "print(f\"Test  shapes: X={x_test.shape}  y={y_test.shape}\")"
   ]
  },
  {
   "cell_type": "markdown",
   "metadata": {},
   "source": [
    "\n",
    "## Modelo y entreno"
   ]
  },
  {
   "cell_type": "markdown",
   "metadata": {},
   "source": [
    "## Predicciones"
   ]
  },
  {
   "cell_type": "code",
   "execution_count": 55,
   "metadata": {},
   "outputs": [],
   "source": [
    "k = list(range(4,10))\n",
    "prueba = pd.DataFrame(k,index=k,columns=[\"Kactual\"])"
   ]
  },
  {
   "cell_type": "code",
   "execution_count": 56,
   "metadata": {},
   "outputs": [
    {
     "name": "stdout",
     "output_type": "stream",
     "text": [
      "manhattan --------------------------\n",
      "Entrenamiento: 63.8971%\n",
      "Testeo: 38.8238%.\n",
      "Mean abs error: 1129197.8864.\n",
      "Entrenamiento: 60.7249%\n",
      "Testeo: 40.1496%.\n",
      "Mean abs error: 1118351.0334.\n",
      "Entrenamiento: 58.3783%\n",
      "Testeo: 40.6936%.\n",
      "Mean abs error: 1115446.7898.\n",
      "Entrenamiento: 56.4860%\n",
      "Testeo: 41.0841%.\n",
      "Mean abs error: 1113044.2474.\n",
      "Entrenamiento: 54.9238%\n",
      "Testeo: 41.3226%.\n",
      "Mean abs error: 1113258.1706.\n",
      "Entrenamiento: 53.6208%\n",
      "Testeo: 41.3020%.\n",
      "Mean abs error: 1116132.9243.\n"
     ]
    }
   ],
   "source": [
    "dists = [\"manhattan\"\n",
    "]\n",
    "\n",
    "\n",
    "knn_best_distance(prueba,dists,x_train,y_train,x_test,y_test)\n"
   ]
  },
  {
   "cell_type": "markdown",
   "metadata": {},
   "source": [
    "# Result de test"
   ]
  },
  {
   "cell_type": "code",
   "execution_count": 144,
   "metadata": {},
   "outputs": [
    {
     "data": {
      "text/plain": [
       "True"
      ]
     },
     "execution_count": 144,
     "metadata": {},
     "output_type": "execute_result"
    }
   ],
   "source": [
    "#Agrego las columnas que no estan con 0's\n",
    "for a in x.columns[~x.columns.isin(data.columns)]:\n",
    "    data[a] = 0\n",
    "\n",
    "data.shape[1] == x.shape[1]"
   ]
  },
  {
   "cell_type": "code",
   "execution_count": 126,
   "metadata": {},
   "outputs": [],
   "source": [
    "#Resultado de test\n",
    "knn = KNeighborsRegressor(n_neighbors = 8, metric=\"manhattan\")\n",
    "\n",
    "#Entreno con todo el dataset\n",
    "knn.fit(x, y)\n",
    "\n",
    "#Predigo la data\n",
    "predict = knn.predict(data)"
   ]
  },
  {
   "cell_type": "code",
   "execution_count": 127,
   "metadata": {},
   "outputs": [],
   "source": [
    "result = df_ids.astype(\"int32\").to_frame()\n",
    "result[\"target\"] = predict.astype(\"int32\")"
   ]
  },
  {
   "cell_type": "code",
   "execution_count": 1,
   "metadata": {},
   "outputs": [
    {
     "ename": "NameError",
     "evalue": "name 'df_ids' is not defined",
     "output_type": "error",
     "traceback": [
      "\u001b[0;31m---------------------------------------------------------------------------\u001b[0m",
      "\u001b[0;31mNameError\u001b[0m                                 Traceback (most recent call last)",
      "\u001b[0;32m<ipython-input-1-067f6569979e>\u001b[0m in \u001b[0;36m<module>\u001b[0;34m\u001b[0m\n\u001b[0;32m----> 1\u001b[0;31m \u001b[0mresult\u001b[0m \u001b[0;34m=\u001b[0m \u001b[0mdf_ids\u001b[0m\u001b[0;34m.\u001b[0m\u001b[0mastype\u001b[0m\u001b[0;34m(\u001b[0m\u001b[0;34m\"int32\"\u001b[0m\u001b[0;34m)\u001b[0m\u001b[0;34m.\u001b[0m\u001b[0mto_frame\u001b[0m\u001b[0;34m(\u001b[0m\u001b[0;34m)\u001b[0m\u001b[0;34m\u001b[0m\u001b[0;34m\u001b[0m\u001b[0m\n\u001b[0m\u001b[1;32m      2\u001b[0m \u001b[0mresult\u001b[0m\u001b[0;34m[\u001b[0m\u001b[0;34m\"target\"\u001b[0m\u001b[0;34m]\u001b[0m \u001b[0;34m=\u001b[0m \u001b[0mpredict\u001b[0m\u001b[0;34m.\u001b[0m\u001b[0mastype\u001b[0m\u001b[0;34m(\u001b[0m\u001b[0;34m\"int32\"\u001b[0m\u001b[0;34m)\u001b[0m\u001b[0;34m\u001b[0m\u001b[0;34m\u001b[0m\u001b[0m\n\u001b[1;32m      3\u001b[0m \u001b[0mresult\u001b[0m\u001b[0;34m.\u001b[0m\u001b[0mto_csv\u001b[0m\u001b[0;34m(\u001b[0m\u001b[0;34m\"../data/results/resultKNN_Features.csv\"\u001b[0m\u001b[0;34m,\u001b[0m \u001b[0mindex\u001b[0m\u001b[0;34m=\u001b[0m\u001b[0;32mFalse\u001b[0m\u001b[0;34m)\u001b[0m\u001b[0;34m\u001b[0m\u001b[0;34m\u001b[0m\u001b[0m\n",
      "\u001b[0;31mNameError\u001b[0m: name 'df_ids' is not defined"
     ]
    }
   ],
   "source": [
    "result = df_ids.astype(\"int32\").to_frame()\n",
    "result[\"target\"] = predict.astype(\"int32\")\n",
    "result.to_csv(\"../data/results/resultKNN_Features.csv\", index=False)"
   ]
  },
  {
   "cell_type": "code",
   "execution_count": null,
   "metadata": {},
   "outputs": [],
   "source": []
  }
 ],
 "metadata": {
  "kernelspec": {
   "display_name": "Python 3",
   "language": "python",
   "name": "python3"
  },
  "language_info": {
   "codemirror_mode": {
    "name": "ipython",
    "version": 3
   },
   "file_extension": ".py",
   "mimetype": "text/x-python",
   "name": "python",
   "nbconvert_exporter": "python",
   "pygments_lexer": "ipython3",
   "version": "3.7.5rc1"
  }
 },
 "nbformat": 4,
 "nbformat_minor": 2
}

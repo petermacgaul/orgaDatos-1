{
 "cells": [
  {
   "cell_type": "code",
   "execution_count": 25,
   "metadata": {},
   "outputs": [],
   "source": [
    "import category_encoders as ce\n",
    "\n",
    "from sklearn.impute import SimpleImputer\n",
    "from sklearn.preprocessing import LabelEncoder\n",
    "from sklearn.preprocessing import MinMaxScaler\n",
    "from sklearn.model_selection import train_test_split\n",
    "\n",
    "import matplotlib.pyplot as plt\n",
    "import pandas as pd\n",
    "import numpy as np"
   ]
  },
  {
   "cell_type": "markdown",
   "metadata": {},
   "source": [
    "## Defino funciones"
   ]
  },
  {
   "cell_type": "code",
   "execution_count": 26,
   "metadata": {},
   "outputs": [],
   "source": [
    "def imputar(df):\n",
    "    imp = SimpleImputer()\n",
    "    cols = df._get_numeric_data().columns\n",
    "    df_result = df.copy()\n",
    "    for x in cols:\n",
    "        df_result[x]=imp.fit_transform(df[[x]])\n",
    "    return df_result"
   ]
  },
  {
   "cell_type": "code",
   "execution_count": 27,
   "metadata": {},
   "outputs": [],
   "source": [
    "from sklearn.metrics import mean_absolute_error\n",
    "\n",
    "def predecir(model, train_features, train_labels, test_features, test_labels):\n",
    "    predict = model.predict(test_features)\n",
    "    error = mean_absolute_error(test_labels, predict)\n",
    "    score = model.score(test_features,test_labels)\n",
    "    \n",
    "    print('Entrenamiento: {:0.4f}%'.format(model.score(train_features, train_labels)*100))\n",
    "    print('Testeo: {:0.4f}%.'.format(score*100))\n",
    "    print('Mean abs error: {:0.4f}.'.format(error))\n",
    "\n",
    "    \n",
    "    return predict"
   ]
  },
  {
   "cell_type": "code",
   "execution_count": 28,
   "metadata": {},
   "outputs": [],
   "source": [
    "def transformar(df,colums,func):\n",
    "    for x in colums:\n",
    "        df[x]=df[x].transform(lambda y: func(y))\n",
    "        \n",
    "columnas_para_transformar = [\"metroscubiertos\",\"metrostotales\",\"metroscubiertostotales\"]\n",
    "\n",
    "#transformar(df1,columnas_para_transformar,np.sqrt)"
   ]
  },
  {
   "cell_type": "markdown",
   "metadata": {},
   "source": [
    "## Importo dataset"
   ]
  },
  {
   "cell_type": "code",
   "execution_count": 29,
   "metadata": {},
   "outputs": [],
   "source": [
    "df = pd.read_csv('../data/features.csv')\n",
    "df_test = pd.read_csv('../data/test_features.csv')\n",
    "\n",
    "df['fecha'] = pd.to_datetime(df['fecha'])\n",
    "df['anio'] = df['fecha'].dt.year\n",
    "df[\"mes\"] = df['fecha'].dt.month\n",
    "df[\"dia\"] = df['fecha'].dt.day"
   ]
  },
  {
   "cell_type": "code",
   "execution_count": 30,
   "metadata": {},
   "outputs": [],
   "source": [
    "df = df.drop(columns=[\"direccion\",\"descripcion\",\"titulo\"])\n",
    "df_test = df_test.drop(columns=[\"direccion\",\"descripcion\",\"titulo\"])\n",
    "\n",
    "df_ids = df_test[\"id\"]\n",
    "df = df.drop(columns=[\"id\"])\n",
    "df_test = df_test.drop(columns=[\"id\"])"
   ]
  },
  {
   "cell_type": "markdown",
   "metadata": {},
   "source": [
    "\n",
    "\n",
    "## Divido data set\n"
   ]
  },
  {
   "cell_type": "code",
   "execution_count": 31,
   "metadata": {},
   "outputs": [
    {
     "name": "stdout",
     "output_type": "stream",
     "text": [
      "Original shapes: X=(240000, 40) y=(240000,)\n",
      "Train shapes: X=(192000, 40) y=(192000,)\n",
      "Test  shapes: X=(48000, 40)  y=(48000,)\n"
     ]
    }
   ],
   "source": [
    "x = df[df.columns.drop(\"precio\")]\n",
    "y = df['precio']\n",
    "\n",
    "x_train, x_test, y_train, y_test = train_test_split(x, y, test_size=0.20)\n",
    "\n",
    "#x_train, x_test, y_train = x, df_test, y\n",
    "\n",
    "print(f\"Original shapes: X={x.shape} y={y.shape}\")\n",
    "print(f\"Train shapes: X={x_train.shape} y={y_train.shape}\")\n",
    "print(f\"Test  shapes: X={x_test.shape}  y={y_test.shape}\")"
   ]
  },
  {
   "cell_type": "markdown",
   "metadata": {},
   "source": [
    " ## Completo los datos faltantes"
   ]
  },
  {
   "cell_type": "code",
   "execution_count": 32,
   "metadata": {},
   "outputs": [],
   "source": [
    "oneHot = ['tipodepropiedad','provincia']\n",
    "binary = ['ciudad']"
   ]
  },
  {
   "cell_type": "code",
   "execution_count": 33,
   "metadata": {},
   "outputs": [],
   "source": [
    "#Completo los numericos\n",
    "x_train = imputar(x_train)\n",
    "x_test  = imputar(x_test )\n",
    "\n",
    "#Completo los categoricos\n",
    "imp = SimpleImputer(strategy=\"constant\",fill_value=\"-\")\n",
    "\n",
    "x_train[\"tipodepropiedad\"] = imp.fit_transform(x_train[[\"tipodepropiedad\"]])\n",
    "x_train[\"provincia\"] = imp.fit_transform(x_train[[\"provincia\"]])\n",
    "x_train[\"ciudad\"] = imp.fit_transform(x_train[[\"ciudad\"]])\n",
    "\n",
    "x_test[\"tipodepropiedad\"] = imp.fit_transform(x_test[[\"tipodepropiedad\"]])\n",
    "x_test[\"provincia\"] = imp.fit_transform(x_test[[\"provincia\"]])\n",
    "x_test[\"ciudad\"] = imp.fit_transform(x_test[[\"ciudad\"]])"
   ]
  },
  {
   "cell_type": "code",
   "execution_count": 34,
   "metadata": {},
   "outputs": [],
   "source": [
    "x_train[\"metroscubiertostotales\"]=x_train[\"metroscubiertos\"]+x_train[\"metrostotales\"]\n",
    "x_train[\"ambientes\"]=x_train[\"banos\"]+x_train[\"habitaciones\"]\n",
    "x_train[\"ambientesygarage\"]=x_train[\"banos\"]+x_train[\"habitaciones\"]+x_train[\"garages\"]\n",
    "\n",
    "x_test[\"metroscubiertostotales\"]=x_test[\"metroscubiertos\"]+x_test[\"metrostotales\"]\n",
    "x_test[\"ambientes\"]=x_test[\"banos\"]+x_test[\"habitaciones\"]\n",
    "x_test[\"ambientesygarage\"]=x_test[\"banos\"]+x_test[\"habitaciones\"]+x_test[\"garages\"]"
   ]
  },
  {
   "cell_type": "markdown",
   "metadata": {},
   "source": [
    " ## Genero los encodes"
   ]
  },
  {
   "cell_type": "code",
   "execution_count": null,
   "metadata": {},
   "outputs": [],
   "source": [
    "data_cols_train = x_train._get_numeric_data().columns\n",
    "baseline_data_train = x_train[data_cols]\n",
    "\n",
    "data_cols_test = x_test._get_numeric_data().columns\n",
    "baseline_data_test = x_test[data_cols]"
   ]
  },
  {
   "cell_type": "code",
   "execution_count": 55,
   "metadata": {},
   "outputs": [
    {
     "name": "stdout",
     "output_type": "stream",
     "text": [
      "True\n",
      "Train shapes: X=(192000, 95) y=(192000, 95)\n",
      "Test  shapes: X=(48000, 95)  y=(48000, 95)\n"
     ]
    }
   ],
   "source": [
    "encoder = ce.OneHotEncoder()\n",
    "\n",
    "\n",
    "encoded = encoder.fit_transform(x_test[oneHot])\n",
    "data_test = baseline_data_test.join(encoded)\n",
    "\n",
    "\n",
    "encoded = encoder.fit_transform(x_train[oneHot])\n",
    "data_train = baseline_data_train.join(encoded)\n",
    "\n",
    "\n",
    "for a in data_train.columns[~data_train.columns.isin(data_test.columns)]:\n",
    "    data_test[a] = 0\n",
    "\n",
    "print (data_test.shape[1] == data_train.shape[1])\n",
    "\n",
    "print(f\"Train shapes: X={data_train.shape} y={data_train.shape}\")\n",
    "print(f\"Test  shapes: X={data_test.shape}  y={data_test.shape}\")"
   ]
  },
  {
   "cell_type": "code",
   "execution_count": 56,
   "metadata": {},
   "outputs": [
    {
     "name": "stdout",
     "output_type": "stream",
     "text": [
      "Train shapes: X=(192000, 106) y=(192000, 106)\n",
      "Test  shapes: X=(48000, 106)  y=(48000, 106)\n"
     ]
    }
   ],
   "source": [
    "encoder = ce.BinaryEncoder()\n",
    "\n",
    "encoded = encoder.fit_transform(x_train[binary])\n",
    "data_train = data_train.join(encoded)\n",
    "\n",
    "\n",
    "encoded = encoder.fit_transform(x_test[binary])\n",
    "data_test = data_test.join(encoded)\n",
    "\n",
    "print(f\"Train shapes: X={data_train.shape} y={data_train.shape}\")\n",
    "print(f\"Test  shapes: X={data_test.shape}  y={data_test.shape}\")"
   ]
  },
  {
   "cell_type": "markdown",
   "metadata": {},
   "source": [
    "\n",
    "## Modelo y entreno"
   ]
  },
  {
   "cell_type": "code",
   "execution_count": 57,
   "metadata": {},
   "outputs": [],
   "source": [
    "from xgboost import XGBRegressor\n",
    "\n",
    "model = XGBRegressor(n_estimators=400,max_depth=10,n_jobs=-1,objective=\"reg:squarederror\")"
   ]
  },
  {
   "cell_type": "code",
   "execution_count": 58,
   "metadata": {},
   "outputs": [
    {
     "name": "stderr",
     "output_type": "stream",
     "text": [
      "/home/peter/.local/lib/python3.7/site-packages/xgboost/core.py:587: FutureWarning: Series.base is deprecated and will be removed in a future version\n",
      "  if getattr(data, 'base', None) is not None and \\\n"
     ]
    },
    {
     "data": {
      "text/plain": [
       "XGBRegressor(base_score=0.5, booster='gbtree', colsample_bylevel=1,\n",
       "             colsample_bynode=1, colsample_bytree=1, gamma=0,\n",
       "             importance_type='gain', learning_rate=0.1, max_delta_step=0,\n",
       "             max_depth=10, min_child_weight=1, missing=None, n_estimators=400,\n",
       "             n_jobs=-1, nthread=None, objective='reg:squarederror',\n",
       "             random_state=0, reg_alpha=0, reg_lambda=1, scale_pos_weight=1,\n",
       "             seed=None, silent=None, subsample=1, verbosity=1)"
      ]
     },
     "execution_count": 58,
     "metadata": {},
     "output_type": "execute_result"
    }
   ],
   "source": [
    "model.fit(data_train, y_train)"
   ]
  },
  {
   "cell_type": "markdown",
   "metadata": {},
   "source": [
    "## Predicciones"
   ]
  },
  {
   "cell_type": "code",
   "execution_count": 49,
   "metadata": {},
   "outputs": [
    {
     "name": "stdout",
     "output_type": "stream",
     "text": [
      "True\n",
      "Train shapes: X=(192000, 106) y=(192000, 106)\n",
      "Test  shapes: X=(48000, 106)  y=(48000, 106)\n"
     ]
    }
   ],
   "source": [
    "for a in data_train.columns[~data_train.columns.isin(data_test.columns)]:\n",
    "    data_test[a] = 0\n",
    "\n",
    "print (data_test.shape[1] == data_train.shape[1])\n",
    "\n",
    "print(f\"Train shapes: X={data_train.shape} y={data_train.shape}\")\n",
    "print(f\"Test  shapes: X={data_test.shape}  y={data_test.shape}\")"
   ]
  },
  {
   "cell_type": "code",
   "execution_count": 59,
   "metadata": {},
   "outputs": [
    {
     "ename": "ValueError",
     "evalue": "feature_names mismatch: ['index', 'antiguedad', 'habitaciones', 'garages', 'banos', 'metroscubiertos', 'metrostotales', 'idzona', 'gimnasio', 'usosmultiples', 'piscina', 'escuelascercanas', 'centroscomercialescercanos', 'anio', 'mes', 'dia', 'excelente', 'centro', 'patio', 'hermosa', 'grande', 'universidad', 'ilum', 'seguridad', 'tienda', 'comedor', 'lujo', 'servicio', 'remodelada', 'autos', 'completo', 'cerca de', 'con vista', 'avenida', 'largo descripcion', 'metroscubiertostotales', 'ambientes', 'ambientesygarage', 'tipodepropiedad_1', 'tipodepropiedad_2', 'tipodepropiedad_3', 'tipodepropiedad_4', 'tipodepropiedad_5', 'tipodepropiedad_6', 'tipodepropiedad_7', 'tipodepropiedad_8', 'tipodepropiedad_9', 'tipodepropiedad_10', 'tipodepropiedad_11', 'tipodepropiedad_12', 'tipodepropiedad_13', 'tipodepropiedad_14', 'tipodepropiedad_15', 'tipodepropiedad_16', 'tipodepropiedad_17', 'tipodepropiedad_18', 'tipodepropiedad_19', 'tipodepropiedad_20', 'tipodepropiedad_21', 'tipodepropiedad_22', 'tipodepropiedad_23', 'tipodepropiedad_24', 'provincia_1', 'provincia_2', 'provincia_3', 'provincia_4', 'provincia_5', 'provincia_6', 'provincia_7', 'provincia_8', 'provincia_9', 'provincia_10', 'provincia_11', 'provincia_12', 'provincia_13', 'provincia_14', 'provincia_15', 'provincia_16', 'provincia_17', 'provincia_18', 'provincia_19', 'provincia_20', 'provincia_21', 'provincia_22', 'provincia_23', 'provincia_24', 'provincia_25', 'provincia_26', 'provincia_27', 'provincia_28', 'provincia_29', 'provincia_30', 'provincia_31', 'provincia_32', 'provincia_33', 'ciudad_0', 'ciudad_1', 'ciudad_2', 'ciudad_3', 'ciudad_4', 'ciudad_5', 'ciudad_6', 'ciudad_7', 'ciudad_8', 'ciudad_9', 'ciudad_10'] ['index', 'antiguedad', 'habitaciones', 'garages', 'banos', 'metroscubiertos', 'metrostotales', 'idzona', 'gimnasio', 'usosmultiples', 'piscina', 'escuelascercanas', 'centroscomercialescercanos', 'anio', 'mes', 'dia', 'excelente', 'centro', 'patio', 'hermosa', 'grande', 'universidad', 'ilum', 'seguridad', 'tienda', 'comedor', 'lujo', 'servicio', 'remodelada', 'autos', 'completo', 'cerca de', 'con vista', 'avenida', 'largo descripcion', 'metroscubiertostotales', 'ambientes', 'ambientesygarage', 'tipodepropiedad_1', 'tipodepropiedad_2', 'tipodepropiedad_3', 'tipodepropiedad_4', 'tipodepropiedad_5', 'tipodepropiedad_6', 'tipodepropiedad_7', 'tipodepropiedad_8', 'tipodepropiedad_9', 'tipodepropiedad_10', 'tipodepropiedad_11', 'tipodepropiedad_12', 'tipodepropiedad_13', 'tipodepropiedad_14', 'tipodepropiedad_15', 'tipodepropiedad_16', 'tipodepropiedad_17', 'tipodepropiedad_18', 'tipodepropiedad_19', 'tipodepropiedad_20', 'tipodepropiedad_21', 'tipodepropiedad_22', 'tipodepropiedad_23', 'provincia_1', 'provincia_2', 'provincia_3', 'provincia_4', 'provincia_5', 'provincia_6', 'provincia_7', 'provincia_8', 'provincia_9', 'provincia_10', 'provincia_11', 'provincia_12', 'provincia_13', 'provincia_14', 'provincia_15', 'provincia_16', 'provincia_17', 'provincia_18', 'provincia_19', 'provincia_20', 'provincia_21', 'provincia_22', 'provincia_23', 'provincia_24', 'provincia_25', 'provincia_26', 'provincia_27', 'provincia_28', 'provincia_29', 'provincia_30', 'provincia_31', 'provincia_32', 'provincia_33', 'tipodepropiedad_24', 'ciudad_0', 'ciudad_1', 'ciudad_2', 'ciudad_3', 'ciudad_4', 'ciudad_5', 'ciudad_6', 'ciudad_7', 'ciudad_8', 'ciudad_9', 'ciudad_10']",
     "output_type": "error",
     "traceback": [
      "\u001b[0;31m---------------------------------------------------------------------------\u001b[0m",
      "\u001b[0;31mValueError\u001b[0m                                Traceback (most recent call last)",
      "\u001b[0;32m<ipython-input-59-b758861d2c40>\u001b[0m in \u001b[0;36m<module>\u001b[0;34m\u001b[0m\n\u001b[0;32m----> 1\u001b[0;31m \u001b[0mpredecir\u001b[0m\u001b[0;34m(\u001b[0m\u001b[0mmodel\u001b[0m\u001b[0;34m,\u001b[0m\u001b[0mdata_train\u001b[0m\u001b[0;34m,\u001b[0m\u001b[0my_train\u001b[0m\u001b[0;34m,\u001b[0m\u001b[0mdata_test\u001b[0m\u001b[0;34m,\u001b[0m\u001b[0my_test\u001b[0m\u001b[0;34m)\u001b[0m\u001b[0;34m\u001b[0m\u001b[0;34m\u001b[0m\u001b[0m\n\u001b[0m",
      "\u001b[0;32m<ipython-input-27-2886b4b53038>\u001b[0m in \u001b[0;36mpredecir\u001b[0;34m(model, train_features, train_labels, test_features, test_labels)\u001b[0m\n\u001b[1;32m      2\u001b[0m \u001b[0;34m\u001b[0m\u001b[0m\n\u001b[1;32m      3\u001b[0m \u001b[0;32mdef\u001b[0m \u001b[0mpredecir\u001b[0m\u001b[0;34m(\u001b[0m\u001b[0mmodel\u001b[0m\u001b[0;34m,\u001b[0m \u001b[0mtrain_features\u001b[0m\u001b[0;34m,\u001b[0m \u001b[0mtrain_labels\u001b[0m\u001b[0;34m,\u001b[0m \u001b[0mtest_features\u001b[0m\u001b[0;34m,\u001b[0m \u001b[0mtest_labels\u001b[0m\u001b[0;34m)\u001b[0m\u001b[0;34m:\u001b[0m\u001b[0;34m\u001b[0m\u001b[0;34m\u001b[0m\u001b[0m\n\u001b[0;32m----> 4\u001b[0;31m     \u001b[0mpredict\u001b[0m \u001b[0;34m=\u001b[0m \u001b[0mmodel\u001b[0m\u001b[0;34m.\u001b[0m\u001b[0mpredict\u001b[0m\u001b[0;34m(\u001b[0m\u001b[0mtest_features\u001b[0m\u001b[0;34m)\u001b[0m\u001b[0;34m\u001b[0m\u001b[0;34m\u001b[0m\u001b[0m\n\u001b[0m\u001b[1;32m      5\u001b[0m     \u001b[0merror\u001b[0m \u001b[0;34m=\u001b[0m \u001b[0mmean_absolute_error\u001b[0m\u001b[0;34m(\u001b[0m\u001b[0mtest_labels\u001b[0m\u001b[0;34m,\u001b[0m \u001b[0mpredict\u001b[0m\u001b[0;34m)\u001b[0m\u001b[0;34m\u001b[0m\u001b[0;34m\u001b[0m\u001b[0m\n\u001b[1;32m      6\u001b[0m     \u001b[0mscore\u001b[0m \u001b[0;34m=\u001b[0m \u001b[0mmodel\u001b[0m\u001b[0;34m.\u001b[0m\u001b[0mscore\u001b[0m\u001b[0;34m(\u001b[0m\u001b[0mtest_features\u001b[0m\u001b[0;34m,\u001b[0m\u001b[0mtest_labels\u001b[0m\u001b[0;34m)\u001b[0m\u001b[0;34m\u001b[0m\u001b[0;34m\u001b[0m\u001b[0m\n",
      "\u001b[0;32m~/.local/lib/python3.7/site-packages/xgboost/sklearn.py\u001b[0m in \u001b[0;36mpredict\u001b[0;34m(self, data, output_margin, ntree_limit, validate_features)\u001b[0m\n\u001b[1;32m    454\u001b[0m                                           \u001b[0moutput_margin\u001b[0m\u001b[0;34m=\u001b[0m\u001b[0moutput_margin\u001b[0m\u001b[0;34m,\u001b[0m\u001b[0;34m\u001b[0m\u001b[0;34m\u001b[0m\u001b[0m\n\u001b[1;32m    455\u001b[0m                                           \u001b[0mntree_limit\u001b[0m\u001b[0;34m=\u001b[0m\u001b[0mntree_limit\u001b[0m\u001b[0;34m,\u001b[0m\u001b[0;34m\u001b[0m\u001b[0;34m\u001b[0m\u001b[0m\n\u001b[0;32m--> 456\u001b[0;31m                                           validate_features=validate_features)\n\u001b[0m\u001b[1;32m    457\u001b[0m \u001b[0;34m\u001b[0m\u001b[0m\n\u001b[1;32m    458\u001b[0m     \u001b[0;32mdef\u001b[0m \u001b[0mapply\u001b[0m\u001b[0;34m(\u001b[0m\u001b[0mself\u001b[0m\u001b[0;34m,\u001b[0m \u001b[0mX\u001b[0m\u001b[0;34m,\u001b[0m \u001b[0mntree_limit\u001b[0m\u001b[0;34m=\u001b[0m\u001b[0;36m0\u001b[0m\u001b[0;34m)\u001b[0m\u001b[0;34m:\u001b[0m\u001b[0;34m\u001b[0m\u001b[0;34m\u001b[0m\u001b[0m\n",
      "\u001b[0;32m~/.local/lib/python3.7/site-packages/xgboost/core.py\u001b[0m in \u001b[0;36mpredict\u001b[0;34m(self, data, output_margin, ntree_limit, pred_leaf, pred_contribs, approx_contribs, pred_interactions, validate_features)\u001b[0m\n\u001b[1;32m   1282\u001b[0m \u001b[0;34m\u001b[0m\u001b[0m\n\u001b[1;32m   1283\u001b[0m         \u001b[0;32mif\u001b[0m \u001b[0mvalidate_features\u001b[0m\u001b[0;34m:\u001b[0m\u001b[0;34m\u001b[0m\u001b[0;34m\u001b[0m\u001b[0m\n\u001b[0;32m-> 1284\u001b[0;31m             \u001b[0mself\u001b[0m\u001b[0;34m.\u001b[0m\u001b[0m_validate_features\u001b[0m\u001b[0;34m(\u001b[0m\u001b[0mdata\u001b[0m\u001b[0;34m)\u001b[0m\u001b[0;34m\u001b[0m\u001b[0;34m\u001b[0m\u001b[0m\n\u001b[0m\u001b[1;32m   1285\u001b[0m \u001b[0;34m\u001b[0m\u001b[0m\n\u001b[1;32m   1286\u001b[0m         \u001b[0mlength\u001b[0m \u001b[0;34m=\u001b[0m \u001b[0mc_bst_ulong\u001b[0m\u001b[0;34m(\u001b[0m\u001b[0;34m)\u001b[0m\u001b[0;34m\u001b[0m\u001b[0;34m\u001b[0m\u001b[0m\n",
      "\u001b[0;32m~/.local/lib/python3.7/site-packages/xgboost/core.py\u001b[0m in \u001b[0;36m_validate_features\u001b[0;34m(self, data)\u001b[0m\n\u001b[1;32m   1688\u001b[0m \u001b[0;34m\u001b[0m\u001b[0m\n\u001b[1;32m   1689\u001b[0m                 raise ValueError(msg.format(self.feature_names,\n\u001b[0;32m-> 1690\u001b[0;31m                                             data.feature_names))\n\u001b[0m\u001b[1;32m   1691\u001b[0m \u001b[0;34m\u001b[0m\u001b[0m\n\u001b[1;32m   1692\u001b[0m     \u001b[0;32mdef\u001b[0m \u001b[0mget_split_value_histogram\u001b[0m\u001b[0;34m(\u001b[0m\u001b[0mself\u001b[0m\u001b[0;34m,\u001b[0m \u001b[0mfeature\u001b[0m\u001b[0;34m,\u001b[0m \u001b[0mfmap\u001b[0m\u001b[0;34m=\u001b[0m\u001b[0;34m''\u001b[0m\u001b[0;34m,\u001b[0m \u001b[0mbins\u001b[0m\u001b[0;34m=\u001b[0m\u001b[0;32mNone\u001b[0m\u001b[0;34m,\u001b[0m \u001b[0mas_pandas\u001b[0m\u001b[0;34m=\u001b[0m\u001b[0;32mTrue\u001b[0m\u001b[0;34m)\u001b[0m\u001b[0;34m:\u001b[0m\u001b[0;34m\u001b[0m\u001b[0;34m\u001b[0m\u001b[0m\n",
      "\u001b[0;31mValueError\u001b[0m: feature_names mismatch: ['index', 'antiguedad', 'habitaciones', 'garages', 'banos', 'metroscubiertos', 'metrostotales', 'idzona', 'gimnasio', 'usosmultiples', 'piscina', 'escuelascercanas', 'centroscomercialescercanos', 'anio', 'mes', 'dia', 'excelente', 'centro', 'patio', 'hermosa', 'grande', 'universidad', 'ilum', 'seguridad', 'tienda', 'comedor', 'lujo', 'servicio', 'remodelada', 'autos', 'completo', 'cerca de', 'con vista', 'avenida', 'largo descripcion', 'metroscubiertostotales', 'ambientes', 'ambientesygarage', 'tipodepropiedad_1', 'tipodepropiedad_2', 'tipodepropiedad_3', 'tipodepropiedad_4', 'tipodepropiedad_5', 'tipodepropiedad_6', 'tipodepropiedad_7', 'tipodepropiedad_8', 'tipodepropiedad_9', 'tipodepropiedad_10', 'tipodepropiedad_11', 'tipodepropiedad_12', 'tipodepropiedad_13', 'tipodepropiedad_14', 'tipodepropiedad_15', 'tipodepropiedad_16', 'tipodepropiedad_17', 'tipodepropiedad_18', 'tipodepropiedad_19', 'tipodepropiedad_20', 'tipodepropiedad_21', 'tipodepropiedad_22', 'tipodepropiedad_23', 'tipodepropiedad_24', 'provincia_1', 'provincia_2', 'provincia_3', 'provincia_4', 'provincia_5', 'provincia_6', 'provincia_7', 'provincia_8', 'provincia_9', 'provincia_10', 'provincia_11', 'provincia_12', 'provincia_13', 'provincia_14', 'provincia_15', 'provincia_16', 'provincia_17', 'provincia_18', 'provincia_19', 'provincia_20', 'provincia_21', 'provincia_22', 'provincia_23', 'provincia_24', 'provincia_25', 'provincia_26', 'provincia_27', 'provincia_28', 'provincia_29', 'provincia_30', 'provincia_31', 'provincia_32', 'provincia_33', 'ciudad_0', 'ciudad_1', 'ciudad_2', 'ciudad_3', 'ciudad_4', 'ciudad_5', 'ciudad_6', 'ciudad_7', 'ciudad_8', 'ciudad_9', 'ciudad_10'] ['index', 'antiguedad', 'habitaciones', 'garages', 'banos', 'metroscubiertos', 'metrostotales', 'idzona', 'gimnasio', 'usosmultiples', 'piscina', 'escuelascercanas', 'centroscomercialescercanos', 'anio', 'mes', 'dia', 'excelente', 'centro', 'patio', 'hermosa', 'grande', 'universidad', 'ilum', 'seguridad', 'tienda', 'comedor', 'lujo', 'servicio', 'remodelada', 'autos', 'completo', 'cerca de', 'con vista', 'avenida', 'largo descripcion', 'metroscubiertostotales', 'ambientes', 'ambientesygarage', 'tipodepropiedad_1', 'tipodepropiedad_2', 'tipodepropiedad_3', 'tipodepropiedad_4', 'tipodepropiedad_5', 'tipodepropiedad_6', 'tipodepropiedad_7', 'tipodepropiedad_8', 'tipodepropiedad_9', 'tipodepropiedad_10', 'tipodepropiedad_11', 'tipodepropiedad_12', 'tipodepropiedad_13', 'tipodepropiedad_14', 'tipodepropiedad_15', 'tipodepropiedad_16', 'tipodepropiedad_17', 'tipodepropiedad_18', 'tipodepropiedad_19', 'tipodepropiedad_20', 'tipodepropiedad_21', 'tipodepropiedad_22', 'tipodepropiedad_23', 'provincia_1', 'provincia_2', 'provincia_3', 'provincia_4', 'provincia_5', 'provincia_6', 'provincia_7', 'provincia_8', 'provincia_9', 'provincia_10', 'provincia_11', 'provincia_12', 'provincia_13', 'provincia_14', 'provincia_15', 'provincia_16', 'provincia_17', 'provincia_18', 'provincia_19', 'provincia_20', 'provincia_21', 'provincia_22', 'provincia_23', 'provincia_24', 'provincia_25', 'provincia_26', 'provincia_27', 'provincia_28', 'provincia_29', 'provincia_30', 'provincia_31', 'provincia_32', 'provincia_33', 'tipodepropiedad_24', 'ciudad_0', 'ciudad_1', 'ciudad_2', 'ciudad_3', 'ciudad_4', 'ciudad_5', 'ciudad_6', 'ciudad_7', 'ciudad_8', 'ciudad_9', 'ciudad_10']"
     ]
    }
   ],
   "source": [
    "predecir(model,data_train,y_train,data_test,y_test)"
   ]
  },
  {
   "cell_type": "code",
   "execution_count": 18,
   "metadata": {},
   "outputs": [
    {
     "ename": "ValueError",
     "evalue": "shape mismatch: objects cannot be broadcast to a single shape",
     "output_type": "error",
     "traceback": [
      "\u001b[0;31m---------------------------------------------------------------------------\u001b[0m",
      "\u001b[0;31mValueError\u001b[0m                                Traceback (most recent call last)",
      "\u001b[0;32m<ipython-input-18-a4b4eb7d3ff0>\u001b[0m in \u001b[0;36m<module>\u001b[0;34m\u001b[0m\n\u001b[1;32m      2\u001b[0m \u001b[0;34m\u001b[0m\u001b[0m\n\u001b[1;32m      3\u001b[0m \u001b[0mimportancia\u001b[0m \u001b[0;34m=\u001b[0m \u001b[0mmodel\u001b[0m\u001b[0;34m.\u001b[0m\u001b[0mfeature_importances_\u001b[0m\u001b[0;34m\u001b[0m\u001b[0;34m\u001b[0m\u001b[0m\n\u001b[0;32m----> 4\u001b[0;31m \u001b[0max\u001b[0m \u001b[0;34m=\u001b[0m \u001b[0mplt\u001b[0m\u001b[0;34m.\u001b[0m\u001b[0mbarh\u001b[0m\u001b[0;34m(\u001b[0m\u001b[0mx_train\u001b[0m\u001b[0;34m.\u001b[0m\u001b[0mcolumns\u001b[0m\u001b[0;34m,\u001b[0m \u001b[0mimportancia\u001b[0m\u001b[0;34m)\u001b[0m\u001b[0;34m\u001b[0m\u001b[0;34m\u001b[0m\u001b[0m\n\u001b[0m",
      "\u001b[0;32m~/.local/lib/python3.7/site-packages/matplotlib/pyplot.py\u001b[0m in \u001b[0;36mbarh\u001b[0;34m(y, width, height, left, align, **kwargs)\u001b[0m\n\u001b[1;32m   2452\u001b[0m \u001b[0;32mdef\u001b[0m \u001b[0mbarh\u001b[0m\u001b[0;34m(\u001b[0m\u001b[0my\u001b[0m\u001b[0;34m,\u001b[0m \u001b[0mwidth\u001b[0m\u001b[0;34m,\u001b[0m \u001b[0mheight\u001b[0m\u001b[0;34m=\u001b[0m\u001b[0;36m0.8\u001b[0m\u001b[0;34m,\u001b[0m \u001b[0mleft\u001b[0m\u001b[0;34m=\u001b[0m\u001b[0;32mNone\u001b[0m\u001b[0;34m,\u001b[0m \u001b[0;34m*\u001b[0m\u001b[0;34m,\u001b[0m \u001b[0malign\u001b[0m\u001b[0;34m=\u001b[0m\u001b[0;34m'center'\u001b[0m\u001b[0;34m,\u001b[0m \u001b[0;34m**\u001b[0m\u001b[0mkwargs\u001b[0m\u001b[0;34m)\u001b[0m\u001b[0;34m:\u001b[0m\u001b[0;34m\u001b[0m\u001b[0;34m\u001b[0m\u001b[0m\n\u001b[1;32m   2453\u001b[0m     return gca().barh(\n\u001b[0;32m-> 2454\u001b[0;31m         y, width, height=height, left=left, align=align, **kwargs)\n\u001b[0m\u001b[1;32m   2455\u001b[0m \u001b[0;34m\u001b[0m\u001b[0m\n\u001b[1;32m   2456\u001b[0m \u001b[0;34m\u001b[0m\u001b[0m\n",
      "\u001b[0;32m~/.local/lib/python3.7/site-packages/matplotlib/axes/_axes.py\u001b[0m in \u001b[0;36mbarh\u001b[0;34m(self, y, width, height, left, align, **kwargs)\u001b[0m\n\u001b[1;32m   2595\u001b[0m         \u001b[0mkwargs\u001b[0m\u001b[0;34m.\u001b[0m\u001b[0msetdefault\u001b[0m\u001b[0;34m(\u001b[0m\u001b[0;34m'orientation'\u001b[0m\u001b[0;34m,\u001b[0m \u001b[0;34m'horizontal'\u001b[0m\u001b[0;34m)\u001b[0m\u001b[0;34m\u001b[0m\u001b[0;34m\u001b[0m\u001b[0m\n\u001b[1;32m   2596\u001b[0m         patches = self.bar(x=left, height=height, width=width, bottom=y,\n\u001b[0;32m-> 2597\u001b[0;31m                            align=align, **kwargs)\n\u001b[0m\u001b[1;32m   2598\u001b[0m         \u001b[0;32mreturn\u001b[0m \u001b[0mpatches\u001b[0m\u001b[0;34m\u001b[0m\u001b[0;34m\u001b[0m\u001b[0m\n\u001b[1;32m   2599\u001b[0m \u001b[0;34m\u001b[0m\u001b[0m\n",
      "\u001b[0;32m~/.local/lib/python3.7/site-packages/matplotlib/__init__.py\u001b[0m in \u001b[0;36minner\u001b[0;34m(ax, data, *args, **kwargs)\u001b[0m\n\u001b[1;32m   1599\u001b[0m     \u001b[0;32mdef\u001b[0m \u001b[0minner\u001b[0m\u001b[0;34m(\u001b[0m\u001b[0max\u001b[0m\u001b[0;34m,\u001b[0m \u001b[0;34m*\u001b[0m\u001b[0margs\u001b[0m\u001b[0;34m,\u001b[0m \u001b[0mdata\u001b[0m\u001b[0;34m=\u001b[0m\u001b[0;32mNone\u001b[0m\u001b[0;34m,\u001b[0m \u001b[0;34m**\u001b[0m\u001b[0mkwargs\u001b[0m\u001b[0;34m)\u001b[0m\u001b[0;34m:\u001b[0m\u001b[0;34m\u001b[0m\u001b[0;34m\u001b[0m\u001b[0m\n\u001b[1;32m   1600\u001b[0m         \u001b[0;32mif\u001b[0m \u001b[0mdata\u001b[0m \u001b[0;32mis\u001b[0m \u001b[0;32mNone\u001b[0m\u001b[0;34m:\u001b[0m\u001b[0;34m\u001b[0m\u001b[0;34m\u001b[0m\u001b[0m\n\u001b[0;32m-> 1601\u001b[0;31m             \u001b[0;32mreturn\u001b[0m \u001b[0mfunc\u001b[0m\u001b[0;34m(\u001b[0m\u001b[0max\u001b[0m\u001b[0;34m,\u001b[0m \u001b[0;34m*\u001b[0m\u001b[0mmap\u001b[0m\u001b[0;34m(\u001b[0m\u001b[0msanitize_sequence\u001b[0m\u001b[0;34m,\u001b[0m \u001b[0margs\u001b[0m\u001b[0;34m)\u001b[0m\u001b[0;34m,\u001b[0m \u001b[0;34m**\u001b[0m\u001b[0mkwargs\u001b[0m\u001b[0;34m)\u001b[0m\u001b[0;34m\u001b[0m\u001b[0;34m\u001b[0m\u001b[0m\n\u001b[0m\u001b[1;32m   1602\u001b[0m \u001b[0;34m\u001b[0m\u001b[0m\n\u001b[1;32m   1603\u001b[0m         \u001b[0mbound\u001b[0m \u001b[0;34m=\u001b[0m \u001b[0mnew_sig\u001b[0m\u001b[0;34m.\u001b[0m\u001b[0mbind\u001b[0m\u001b[0;34m(\u001b[0m\u001b[0max\u001b[0m\u001b[0;34m,\u001b[0m \u001b[0;34m*\u001b[0m\u001b[0margs\u001b[0m\u001b[0;34m,\u001b[0m \u001b[0;34m**\u001b[0m\u001b[0mkwargs\u001b[0m\u001b[0;34m)\u001b[0m\u001b[0;34m\u001b[0m\u001b[0;34m\u001b[0m\u001b[0m\n",
      "\u001b[0;32m~/.local/lib/python3.7/site-packages/matplotlib/axes/_axes.py\u001b[0m in \u001b[0;36mbar\u001b[0;34m(self, x, height, width, bottom, align, **kwargs)\u001b[0m\n\u001b[1;32m   2373\u001b[0m         x, height, width, y, linewidth = np.broadcast_arrays(\n\u001b[1;32m   2374\u001b[0m             \u001b[0;31m# Make args iterable too.\u001b[0m\u001b[0;34m\u001b[0m\u001b[0;34m\u001b[0m\u001b[0;34m\u001b[0m\u001b[0m\n\u001b[0;32m-> 2375\u001b[0;31m             np.atleast_1d(x), height, width, y, linewidth)\n\u001b[0m\u001b[1;32m   2376\u001b[0m \u001b[0;34m\u001b[0m\u001b[0m\n\u001b[1;32m   2377\u001b[0m         \u001b[0;31m# Now that units have been converted, set the tick locations.\u001b[0m\u001b[0;34m\u001b[0m\u001b[0;34m\u001b[0m\u001b[0;34m\u001b[0m\u001b[0m\n",
      "\u001b[0;32m<__array_function__ internals>\u001b[0m in \u001b[0;36mbroadcast_arrays\u001b[0;34m(*args, **kwargs)\u001b[0m\n",
      "\u001b[0;32m~/.local/lib/python3.7/site-packages/numpy/lib/stride_tricks.py\u001b[0m in \u001b[0;36mbroadcast_arrays\u001b[0;34m(*args, **kwargs)\u001b[0m\n\u001b[1;32m    262\u001b[0m     \u001b[0margs\u001b[0m \u001b[0;34m=\u001b[0m \u001b[0;34m[\u001b[0m\u001b[0mnp\u001b[0m\u001b[0;34m.\u001b[0m\u001b[0marray\u001b[0m\u001b[0;34m(\u001b[0m\u001b[0m_m\u001b[0m\u001b[0;34m,\u001b[0m \u001b[0mcopy\u001b[0m\u001b[0;34m=\u001b[0m\u001b[0;32mFalse\u001b[0m\u001b[0;34m,\u001b[0m \u001b[0msubok\u001b[0m\u001b[0;34m=\u001b[0m\u001b[0msubok\u001b[0m\u001b[0;34m)\u001b[0m \u001b[0;32mfor\u001b[0m \u001b[0m_m\u001b[0m \u001b[0;32min\u001b[0m \u001b[0margs\u001b[0m\u001b[0;34m]\u001b[0m\u001b[0;34m\u001b[0m\u001b[0;34m\u001b[0m\u001b[0m\n\u001b[1;32m    263\u001b[0m \u001b[0;34m\u001b[0m\u001b[0m\n\u001b[0;32m--> 264\u001b[0;31m     \u001b[0mshape\u001b[0m \u001b[0;34m=\u001b[0m \u001b[0m_broadcast_shape\u001b[0m\u001b[0;34m(\u001b[0m\u001b[0;34m*\u001b[0m\u001b[0margs\u001b[0m\u001b[0;34m)\u001b[0m\u001b[0;34m\u001b[0m\u001b[0;34m\u001b[0m\u001b[0m\n\u001b[0m\u001b[1;32m    265\u001b[0m \u001b[0;34m\u001b[0m\u001b[0m\n\u001b[1;32m    266\u001b[0m     \u001b[0;32mif\u001b[0m \u001b[0mall\u001b[0m\u001b[0;34m(\u001b[0m\u001b[0marray\u001b[0m\u001b[0;34m.\u001b[0m\u001b[0mshape\u001b[0m \u001b[0;34m==\u001b[0m \u001b[0mshape\u001b[0m \u001b[0;32mfor\u001b[0m \u001b[0marray\u001b[0m \u001b[0;32min\u001b[0m \u001b[0margs\u001b[0m\u001b[0;34m)\u001b[0m\u001b[0;34m:\u001b[0m\u001b[0;34m\u001b[0m\u001b[0;34m\u001b[0m\u001b[0m\n",
      "\u001b[0;32m~/.local/lib/python3.7/site-packages/numpy/lib/stride_tricks.py\u001b[0m in \u001b[0;36m_broadcast_shape\u001b[0;34m(*args)\u001b[0m\n\u001b[1;32m    189\u001b[0m     \u001b[0;31m# use the old-iterator because np.nditer does not handle size 0 arrays\u001b[0m\u001b[0;34m\u001b[0m\u001b[0;34m\u001b[0m\u001b[0;34m\u001b[0m\u001b[0m\n\u001b[1;32m    190\u001b[0m     \u001b[0;31m# consistently\u001b[0m\u001b[0;34m\u001b[0m\u001b[0;34m\u001b[0m\u001b[0;34m\u001b[0m\u001b[0m\n\u001b[0;32m--> 191\u001b[0;31m     \u001b[0mb\u001b[0m \u001b[0;34m=\u001b[0m \u001b[0mnp\u001b[0m\u001b[0;34m.\u001b[0m\u001b[0mbroadcast\u001b[0m\u001b[0;34m(\u001b[0m\u001b[0;34m*\u001b[0m\u001b[0margs\u001b[0m\u001b[0;34m[\u001b[0m\u001b[0;34m:\u001b[0m\u001b[0;36m32\u001b[0m\u001b[0;34m]\u001b[0m\u001b[0;34m)\u001b[0m\u001b[0;34m\u001b[0m\u001b[0;34m\u001b[0m\u001b[0m\n\u001b[0m\u001b[1;32m    192\u001b[0m     \u001b[0;31m# unfortunately, it cannot handle 32 or more arguments directly\u001b[0m\u001b[0;34m\u001b[0m\u001b[0;34m\u001b[0m\u001b[0;34m\u001b[0m\u001b[0m\n\u001b[1;32m    193\u001b[0m     \u001b[0;32mfor\u001b[0m \u001b[0mpos\u001b[0m \u001b[0;32min\u001b[0m \u001b[0mrange\u001b[0m\u001b[0;34m(\u001b[0m\u001b[0;36m32\u001b[0m\u001b[0;34m,\u001b[0m \u001b[0mlen\u001b[0m\u001b[0;34m(\u001b[0m\u001b[0margs\u001b[0m\u001b[0;34m)\u001b[0m\u001b[0;34m,\u001b[0m \u001b[0;36m31\u001b[0m\u001b[0;34m)\u001b[0m\u001b[0;34m:\u001b[0m\u001b[0;34m\u001b[0m\u001b[0;34m\u001b[0m\u001b[0m\n",
      "\u001b[0;31mValueError\u001b[0m: shape mismatch: objects cannot be broadcast to a single shape"
     ]
    },
    {
     "data": {
      "image/png": "[encoded data removed]",
      "text/plain": [
       "<Figure size 1080x1080 with 1 Axes>"
      ]
     },
     "metadata": {
      "needs_background": "light"
     },
     "output_type": "display_data"
    }
   ],
   "source": [
    "plt.rcParams[\"figure.figsize\"] = [15, 15]\n",
    "\n",
    "importancia = model.feature_importances_\n",
    "ax = plt.barh(x_train.columns, importancia)"
   ]
  },
  {
   "cell_type": "code",
   "execution_count": null,
   "metadata": {},
   "outputs": [],
   "source": []
  },
  {
   "cell_type": "code",
   "execution_count": 29,
   "metadata": {},
   "outputs": [],
   "source": [
    "#Predigo los precios\n",
    "predict = model.predict(data_test)"
   ]
  },
  {
   "cell_type": "code",
   "execution_count": 30,
   "metadata": {},
   "outputs": [],
   "source": [
    "result = df_ids.astype(\"int32\").to_frame()\n",
    "result[\"target\"] = predict.astype(\"int32\")"
   ]
  },
  {
   "cell_type": "code",
   "execution_count": 31,
   "metadata": {},
   "outputs": [],
   "source": [
    "result = df_ids.astype(\"int32\").to_frame()\n",
    "result[\"target\"] = predict.astype(\"int32\")\n",
    "result.to_csv(\"../data/results/resultRF_Features.csv\", index=False)"
   ]
  },
  {
   "cell_type": "code",
   "execution_count": null,
   "metadata": {},
   "outputs": [],
   "source": []
  }
 ],
 "metadata": {
  "kernelspec": {
   "display_name": "Python 3",
   "language": "python",
   "name": "python3"
  },
  "language_info": {
   "codemirror_mode": {
    "name": "ipython",
    "version": 3
   },
   "file_extension": ".py",
   "mimetype": "text/x-python",
   "name": "python",
   "nbconvert_exporter": "python",
   "pygments_lexer": "ipython3",
   "version": "3.7.5rc1"
  }
 },
 "nbformat": 4,
 "nbformat_minor": 2
}

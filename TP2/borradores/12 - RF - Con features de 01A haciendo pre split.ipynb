{
 "cells": [
  {
   "cell_type": "code",
   "execution_count": 2,
   "metadata": {},
   "outputs": [],
   "source": [
    "import category_encoders as ce\n",
    "\n",
    "from sklearn.impute import SimpleImputer\n",
    "from sklearn.preprocessing import LabelEncoder\n",
    "from sklearn.preprocessing import MinMaxScaler\n",
    "from sklearn.model_selection import train_test_split\n",
    "\n",
    "import matplotlib.pyplot as plt\n",
    "import pandas as pd\n",
    "import numpy as np"
   ]
  },
  {
   "cell_type": "markdown",
   "metadata": {},
   "source": [
    "## Defino funciones"
   ]
  },
  {
   "cell_type": "code",
   "execution_count": 3,
   "metadata": {},
   "outputs": [],
   "source": [
    "def imputar(df):\n",
    "    imp = SimpleImputer()\n",
    "    cols = df._get_numeric_data().columns\n",
    "    df_result = df.copy()\n",
    "    for x in cols:\n",
    "        df_result[x]=imp.fit_transform(df[[x]])\n",
    "    return df_result"
   ]
  },
  {
   "cell_type": "code",
   "execution_count": 4,
   "metadata": {},
   "outputs": [],
   "source": [
    "from sklearn.metrics import mean_absolute_error\n",
    "\n",
    "def predecir(model, train_features, train_labels, test_features, test_labels):\n",
    "    predict = model.predict(test_features)\n",
    "    error = mean_absolute_error(test_labels, predict)\n",
    "    score = model.score(test_features,test_labels)\n",
    "    \n",
    "    print('Entrenamiento: {:0.4f}%'.format(model.score(train_features, train_labels)*100))\n",
    "    print('Testeo: {:0.4f}%.'.format(score*100))\n",
    "    print('Mean abs error: {:0.4f}.'.format(error))\n",
    "\n",
    "    \n",
    "    return predict"
   ]
  },
  {
   "cell_type": "code",
   "execution_count": 5,
   "metadata": {},
   "outputs": [],
   "source": [
    "def transformar(df,colums,func):\n",
    "    for x in colums:\n",
    "        df[x]=df[x].transform(lambda y: func(y))\n",
    "        \n",
    "columnas_para_transformar = [\"metroscubiertos\",\"metrostotales\",\"metroscubiertostotales\"]\n",
    "\n",
    "#transformar(df1,columnas_para_transformar,np.sqrt)"
   ]
  },
  {
   "cell_type": "markdown",
   "metadata": {},
   "source": [
    "## Importo dataset"
   ]
  },
  {
   "cell_type": "code",
   "execution_count": 6,
   "metadata": {},
   "outputs": [],
   "source": [
    "df = pd.read_csv('../data/features.csv')\n",
    "df_test = pd.read_csv('../data/test_features.csv')\n",
    "\n",
    "df['fecha'] = pd.to_datetime(df['fecha'])\n",
    "df['anio'] = df['fecha'].dt.year\n",
    "df[\"mes\"] = df['fecha'].dt.month\n",
    "df[\"dia\"] = df['fecha'].dt.day"
   ]
  },
  {
   "cell_type": "code",
   "execution_count": 7,
   "metadata": {},
   "outputs": [],
   "source": [
    "df = df.drop(columns=[\"direccion\",\"descripcion\",\"titulo\"])\n",
    "df_test = df_test.drop(columns=[\"direccion\",\"descripcion\",\"titulo\"])\n",
    "\n",
    "df_ids = df_test[\"id\"]\n",
    "df = df.drop(columns=[\"id\"])\n",
    "df_test = df_test.drop(columns=[\"id\"])"
   ]
  },
  {
   "cell_type": "markdown",
   "metadata": {},
   "source": [
    "\n",
    "\n",
    "## Divido data set\n"
   ]
  },
  {
   "cell_type": "code",
   "execution_count": 18,
   "metadata": {},
   "outputs": [
    {
     "name": "stdout",
     "output_type": "stream",
     "text": [
      "Original shapes: X=(240000, 40) y=(240000,)\n",
      "Train shapes: X=(240000, 40) y=(240000,)\n",
      "Test  shapes: X=(60000, 40)  y=(48000,)\n"
     ]
    }
   ],
   "source": [
    "x = df[df.columns.drop(\"precio\")]\n",
    "y = df['precio']\n",
    "\n",
    "#x_train, x_test, y_train, y_test = train_test_split(x, y, test_size=0.20)\n",
    "\n",
    "x_train, x_test, y_train = x, df_test, y\n",
    "\n",
    "print(f\"Original shapes: X={x.shape} y={y.shape}\")\n",
    "print(f\"Train shapes: X={x_train.shape} y={y_train.shape}\")\n",
    "print(f\"Test  shapes: X={x_test.shape}  y={y_test.shape}\")"
   ]
  },
  {
   "cell_type": "markdown",
   "metadata": {},
   "source": [
    " ## Completo los datos faltantes"
   ]
  },
  {
   "cell_type": "code",
   "execution_count": 19,
   "metadata": {},
   "outputs": [],
   "source": [
    "oneHot = ['tipodepropiedad','provincia']\n",
    "binary = ['ciudad']"
   ]
  },
  {
   "cell_type": "code",
   "execution_count": 20,
   "metadata": {},
   "outputs": [],
   "source": [
    "#Completo los numericos\n",
    "x_train = imputar(x_train)\n",
    "x_test  = imputar(x_test )\n",
    "\n",
    "#Completo los categoricos\n",
    "imp = SimpleImputer(strategy=\"constant\",fill_value=\"-\")\n",
    "\n",
    "x_train[\"tipodepropiedad\"] = imp.fit_transform(x_train[[\"tipodepropiedad\"]])\n",
    "x_train[\"provincia\"] = imp.fit_transform(x_train[[\"provincia\"]])\n",
    "x_train[\"ciudad\"] = imp.fit_transform(x_train[[\"ciudad\"]])\n",
    "\n",
    "x_test[\"tipodepropiedad\"] = imp.fit_transform(x_test[[\"tipodepropiedad\"]])\n",
    "x_test[\"provincia\"] = imp.fit_transform(x_test[[\"provincia\"]])\n",
    "x_test[\"ciudad\"] = imp.fit_transform(x_test[[\"ciudad\"]])"
   ]
  },
  {
   "cell_type": "code",
   "execution_count": 21,
   "metadata": {},
   "outputs": [],
   "source": [
    "x_train[\"metroscubiertostotales\"]=x_train[\"metroscubiertos\"]+x_train[\"metrostotales\"]\n",
    "x_train[\"ambientes\"]=x_train[\"banos\"]+x_train[\"habitaciones\"]\n",
    "x_train[\"ambientesygarage\"]=x_train[\"banos\"]+x_train[\"habitaciones\"]+x_train[\"garages\"]\n",
    "\n",
    "x_test[\"metroscubiertostotales\"]=x_test[\"metroscubiertos\"]+x_test[\"metrostotales\"]\n",
    "x_test[\"ambientes\"]=x_test[\"banos\"]+x_test[\"habitaciones\"]\n",
    "x_test[\"ambientesygarage\"]=x_test[\"banos\"]+x_test[\"habitaciones\"]+x_test[\"garages\"]"
   ]
  },
  {
   "cell_type": "markdown",
   "metadata": {},
   "source": [
    " ## Genero los encodes"
   ]
  },
  {
   "cell_type": "code",
   "execution_count": 22,
   "metadata": {},
   "outputs": [
    {
     "data": {
      "text/plain": [
       "(240000, 107)"
      ]
     },
     "execution_count": 22,
     "metadata": {},
     "output_type": "execute_result"
    }
   ],
   "source": [
    "data_cols = x_train._get_numeric_data().columns\n",
    "baseline_data = x_train[data_cols]\n",
    "\n",
    "encoder = ce.OneHotEncoder()\n",
    "\n",
    "encoded = encoder.fit_transform(x_train[oneHot])\n",
    "data = baseline_data.join(encoded)\n",
    "\n",
    "encoder = ce.BinaryEncoder()\n",
    "encoded = encoder.fit_transform(x_train[binary])\n",
    "data_train = data.join(encoded)\n",
    "\n",
    "data_train.shape"
   ]
  },
  {
   "cell_type": "code",
   "execution_count": 23,
   "metadata": {},
   "outputs": [
    {
     "data": {
      "text/plain": [
       "(60000, 105)"
      ]
     },
     "execution_count": 23,
     "metadata": {},
     "output_type": "execute_result"
    }
   ],
   "source": [
    "data_cols = x_test._get_numeric_data().columns\n",
    "baseline_data = x_test[data_cols]\n",
    "\n",
    "encoder = ce.OneHotEncoder()\n",
    "\n",
    "encoded = encoder.fit_transform(x_test[oneHot])\n",
    "data = baseline_data.join(encoded)\n",
    "\n",
    "encoder = ce.BinaryEncoder()\n",
    "encoded = encoder.fit_transform(x_test[binary])\n",
    "data_test = data.join(encoded)\n",
    "\n",
    "data_test.shape"
   ]
  },
  {
   "cell_type": "markdown",
   "metadata": {},
   "source": [
    "\n",
    "## Modelo y entreno"
   ]
  },
  {
   "cell_type": "code",
   "execution_count": 24,
   "metadata": {},
   "outputs": [],
   "source": [
    "from sklearn.ensemble import RandomForestRegressor\n",
    "\n",
    "model = RandomForestRegressor(random_state = 1,\n",
    "                                  n_estimators = 250,\n",
    "                                  max_depth = 15, \n",
    "                                )"
   ]
  },
  {
   "cell_type": "code",
   "execution_count": 25,
   "metadata": {},
   "outputs": [
    {
     "data": {
      "text/plain": [
       "RandomForestRegressor(bootstrap=True, criterion='mse', max_depth=15,\n",
       "                      max_features='auto', max_leaf_nodes=None,\n",
       "                      min_impurity_decrease=0.0, min_impurity_split=None,\n",
       "                      min_samples_leaf=1, min_samples_split=2,\n",
       "                      min_weight_fraction_leaf=0.0, n_estimators=250,\n",
       "                      n_jobs=None, oob_score=False, random_state=1, verbose=0,\n",
       "                      warm_start=False)"
      ]
     },
     "execution_count": 25,
     "metadata": {},
     "output_type": "execute_result"
    }
   ],
   "source": [
    "model.fit(data_train, y_train)"
   ]
  },
  {
   "cell_type": "markdown",
   "metadata": {},
   "source": [
    "## Predicciones"
   ]
  },
  {
   "cell_type": "code",
   "execution_count": 28,
   "metadata": {},
   "outputs": [
    {
     "name": "stdout",
     "output_type": "stream",
     "text": [
      "Train shapes: X=(240000, 107) y=(240000, 107)\n",
      "Test  shapes: X=(60000, 107)  y=(60000, 107)\n"
     ]
    }
   ],
   "source": [
    "for a in data_train.columns[~data_train.columns.isin(data_test.columns)]:\n",
    "    data_test[a] = 0\n",
    "\n",
    "data_test.shape[1] == x_train.shape[1]\n",
    "\n",
    "print(f\"Train shapes: X={data_train.shape} y={data_train.shape}\")\n",
    "print(f\"Test  shapes: X={data_test.shape}  y={data_test.shape}\")"
   ]
  },
  {
   "cell_type": "code",
   "execution_count": 17,
   "metadata": {},
   "outputs": [
    {
     "name": "stdout",
     "output_type": "stream",
     "text": [
      "Entrenamiento: 87.3666%\n",
      "Testeo: 56.5830%.\n",
      "Mean abs error: 862324.0316.\n"
     ]
    },
    {
     "data": {
      "text/plain": [
       "array([1364505.04511006, 3870718.98356382, 1021616.89367257, ...,\n",
       "       2319440.89299057, 1047321.51954704, 3231483.94790176])"
      ]
     },
     "execution_count": 17,
     "metadata": {},
     "output_type": "execute_result"
    }
   ],
   "source": [
    "predecir(model,data_train,y_train,data_test,y_test)"
   ]
  },
  {
   "cell_type": "code",
   "execution_count": 111,
   "metadata": {},
   "outputs": [
    {
     "data": {
      "image/png": "[encoded data removed]",
      "text/plain": [
       "<Figure size 1080x1080 with 1 Axes>"
      ]
     },
     "metadata": {
      "needs_background": "light"
     },
     "output_type": "display_data"
    }
   ],
   "source": [
    "plt.rcParams[\"figure.figsize\"] = [15, 15]\n",
    "\n",
    "importancia = model.feature_importances_\n",
    "ax = plt.barh(x_train.columns, importancia)"
   ]
  },
  {
   "cell_type": "code",
   "execution_count": null,
   "metadata": {},
   "outputs": [],
   "source": []
  },
  {
   "cell_type": "code",
   "execution_count": 29,
   "metadata": {},
   "outputs": [],
   "source": [
    "#Predigo los precios\n",
    "predict = model.predict(data_test)"
   ]
  },
  {
   "cell_type": "code",
   "execution_count": 30,
   "metadata": {},
   "outputs": [],
   "source": [
    "result = df_ids.astype(\"int32\").to_frame()\n",
    "result[\"target\"] = predict.astype(\"int32\")"
   ]
  },
  {
   "cell_type": "code",
   "execution_count": 31,
   "metadata": {},
   "outputs": [],
   "source": [
    "result = df_ids.astype(\"int32\").to_frame()\n",
    "result[\"target\"] = predict.astype(\"int32\")\n",
    "result.to_csv(\"../data/results/resultRF_Features.csv\", index=False)"
   ]
  },
  {
   "cell_type": "code",
   "execution_count": null,
   "metadata": {},
   "outputs": [],
   "source": []
  }
 ],
 "metadata": {
  "kernelspec": {
   "display_name": "Python 3",
   "language": "python",
   "name": "python3"
  },
  "language_info": {
   "codemirror_mode": {
    "name": "ipython",
    "version": 3
   },
   "file_extension": ".py",
   "mimetype": "text/x-python",
   "name": "python",
   "nbconvert_exporter": "python",
   "pygments_lexer": "ipython3",
   "version": "3.7.5rc1"
  }
 },
 "nbformat": 4,
 "nbformat_minor": 2
}
